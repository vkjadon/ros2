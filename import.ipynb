{
  "nbformat": 4,
  "nbformat_minor": 0,
  "metadata": {
    "colab": {
      "provenance": [],
      "authorship_tag": "ABX9TyOmFJWTLuimBmXRvj+hfpCR",
      "include_colab_link": true
    },
    "kernelspec": {
      "name": "python3",
      "display_name": "Python 3"
    },
    "language_info": {
      "name": "python"
    }
  },
  "cells": [
    {
      "cell_type": "markdown",
      "metadata": {
        "id": "view-in-github",
        "colab_type": "text"
      },
      "source": [
        "<a href=\"https://colab.research.google.com/github/vkjadon/ros2/blob/master/import.ipynb\" target=\"_parent\"><img src=\"https://colab.research.google.com/assets/colab-badge.svg\" alt=\"Open In Colab\"/></a>"
      ]
    },
    {
      "cell_type": "markdown",
      "source": [
        "# Import Syntax"
      ],
      "metadata": {
        "id": "9cSpEcCpdXov"
      }
    },
    {
      "cell_type": "markdown",
      "source": [
        "In Python there are three method used to import a module.  \n",
        "* **import**\n",
        "* **from ... import ...**\n",
        "* **from ... import** *\n",
        "\n",
        "The import statements add the functionality to use functions and classes of the imported modules."
      ],
      "metadata": {
        "id": "KQHejEz0cYk_"
      }
    },
    {
      "cell_type": "markdown",
      "source": [
        "# Using import module_name"
      ],
      "metadata": {
        "id": "qN1my7HRde1O"
      }
    },
    {
      "cell_type": "markdown",
      "source": [
        "This statement imports the entire module, and you must reference the module name each time you use it."
      ],
      "metadata": {
        "id": "DmAODyG9b0IZ"
      }
    },
    {
      "cell_type": "code",
      "execution_count": 1,
      "metadata": {
        "colab": {
          "base_uri": "https://localhost:8080/"
        },
        "id": "HDrARVRtQz5W",
        "outputId": "9057e62b-4083-45ea-df19-74454138072c"
      },
      "outputs": [
        {
          "output_type": "stream",
          "name": "stdout",
          "text": [
            "NumPy sqrt: [1. 2. 3. 4.]\n"
          ]
        }
      ],
      "source": [
        "import numpy as np\n",
        "\n",
        "array = np.array([1, 4, 9, 16])\n",
        "\n",
        "print(\"NumPy sqrt:\", np.sqrt(array))"
      ]
    },
    {
      "cell_type": "code",
      "source": [
        "import math\n",
        "\n",
        "number = 16\n",
        "\n",
        "print(\"Math sqrt:\", math.sqrt(number))"
      ],
      "metadata": {
        "colab": {
          "base_uri": "https://localhost:8080/"
        },
        "id": "00qzI6Z_hm87",
        "outputId": "fdb42865-2960-4f2e-b2f3-86c4c52a872d"
      },
      "execution_count": 2,
      "outputs": [
        {
          "output_type": "stream",
          "name": "stdout",
          "text": [
            "Math sqrt: 4.0\n"
          ]
        }
      ]
    },
    {
      "cell_type": "markdown",
      "source": [
        "# Using from ... import ..."
      ],
      "metadata": {
        "id": "OR1tqv7rdpMJ"
      }
    },
    {
      "cell_type": "markdown",
      "source": [
        "This statement imports specific attributes from the module, allowing you to use them directly without referencing the module name."
      ],
      "metadata": {
        "id": "9fhFF6EucF6H"
      }
    },
    {
      "cell_type": "code",
      "source": [
        "from numpy import sqrt\n",
        "\n",
        "print(\"NumPy sqrt:\", sqrt(array))"
      ],
      "metadata": {
        "colab": {
          "base_uri": "https://localhost:8080/"
        },
        "id": "lHRhScEPQ6-5",
        "outputId": "75597a16-25c6-4b2d-f98c-72d6cca17675"
      },
      "execution_count": 3,
      "outputs": [
        {
          "output_type": "stream",
          "name": "stdout",
          "text": [
            "NumPy sqrt: [1. 2. 3. 4.]\n"
          ]
        }
      ]
    },
    {
      "cell_type": "code",
      "source": [
        "from math import sqrt\n",
        "\n",
        "print(\"Math sqrt:\", sqrt(number))"
      ],
      "metadata": {
        "colab": {
          "base_uri": "https://localhost:8080/"
        },
        "id": "TelIZm4Zh901",
        "outputId": "710e49a0-22f8-40f3-b8ac-6df2780c3f3e"
      },
      "execution_count": 4,
      "outputs": [
        {
          "output_type": "stream",
          "name": "stdout",
          "text": [
            "Math sqrt: 4.0\n"
          ]
        }
      ]
    },
    {
      "cell_type": "code",
      "source": [
        "from numpy import sqrt as np_sqrt\n",
        "\n",
        "print(\"NumPy sqrt:\", np_sqrt(array))"
      ],
      "metadata": {
        "colab": {
          "base_uri": "https://localhost:8080/"
        },
        "id": "m1z2ix5xibFB",
        "outputId": "0820848f-3979-4529-9d81-53ccd4e12760"
      },
      "execution_count": 5,
      "outputs": [
        {
          "output_type": "stream",
          "name": "stdout",
          "text": [
            "NumPy sqrt: [1. 2. 3. 4.]\n"
          ]
        }
      ]
    },
    {
      "cell_type": "code",
      "source": [
        "from math import sqrt as math_sqrt\n",
        "\n",
        "print(\"Math sqrt:\", sqrt(number))"
      ],
      "metadata": {
        "colab": {
          "base_uri": "https://localhost:8080/"
        },
        "id": "aGXXCHCxh2lW",
        "outputId": "6787a4aa-14f5-45c7-a8aa-ab200f63ad53"
      },
      "execution_count": 6,
      "outputs": [
        {
          "output_type": "stream",
          "name": "stdout",
          "text": [
            "Math sqrt: 4.0\n"
          ]
        }
      ]
    },
    {
      "cell_type": "markdown",
      "source": [
        "# Using from ... import *"
      ],
      "metadata": {
        "id": "ahV6FLSbdybc"
      }
    },
    {
      "cell_type": "markdown",
      "source": [
        "This imports all attributes from the module into the current namespace."
      ],
      "metadata": {
        "id": "CF7ZFR9ocIwV"
      }
    },
    {
      "cell_type": "code",
      "source": [
        "from numpy import *\n",
        "from math import *\n",
        "\n",
        "array = np.array([1, 4, 9, 16])\n",
        "number = 16\n",
        "\n",
        "print(\"Math sqrt:\", sqrt(number))\n",
        "print(\"Sqrt:\", sqrt(array))"
      ],
      "metadata": {
        "colab": {
          "base_uri": "https://localhost:8080/",
          "height": 198
        },
        "id": "Kql6K3WAio0K",
        "outputId": "d733a00d-e167-4881-a21f-adb4b99963d7"
      },
      "execution_count": 23,
      "outputs": [
        {
          "output_type": "stream",
          "name": "stdout",
          "text": [
            "Math sqrt: 4.0\n"
          ]
        },
        {
          "output_type": "error",
          "ename": "TypeError",
          "evalue": "only length-1 arrays can be converted to Python scalars",
          "traceback": [
            "\u001b[0;31m---------------------------------------------------------------------------\u001b[0m",
            "\u001b[0;31mTypeError\u001b[0m                                 Traceback (most recent call last)",
            "\u001b[0;32m<ipython-input-23-39596939c5d6>\u001b[0m in \u001b[0;36m<cell line: 8>\u001b[0;34m()\u001b[0m\n\u001b[1;32m      6\u001b[0m \u001b[0;34m\u001b[0m\u001b[0m\n\u001b[1;32m      7\u001b[0m \u001b[0mprint\u001b[0m\u001b[0;34m(\u001b[0m\u001b[0;34m\"Math sqrt:\"\u001b[0m\u001b[0;34m,\u001b[0m \u001b[0msqrt\u001b[0m\u001b[0;34m(\u001b[0m\u001b[0mnumber\u001b[0m\u001b[0;34m)\u001b[0m\u001b[0;34m)\u001b[0m\u001b[0;34m\u001b[0m\u001b[0;34m\u001b[0m\u001b[0m\n\u001b[0;32m----> 8\u001b[0;31m \u001b[0mprint\u001b[0m\u001b[0;34m(\u001b[0m\u001b[0;34m\"Sqrt:\"\u001b[0m\u001b[0;34m,\u001b[0m \u001b[0msqrt\u001b[0m\u001b[0;34m(\u001b[0m\u001b[0marray\u001b[0m\u001b[0;34m)\u001b[0m\u001b[0;34m)\u001b[0m\u001b[0;34m\u001b[0m\u001b[0;34m\u001b[0m\u001b[0m\n\u001b[0m",
            "\u001b[0;31mTypeError\u001b[0m: only length-1 arrays can be converted to Python scalars"
          ]
        }
      ]
    },
    {
      "cell_type": "code",
      "source": [
        "import numpy # First import\n",
        "import math  # Second import\n",
        "\n",
        "# array = np.array([1, 4, 9, 16])\n",
        "# number = 16\n",
        "\n",
        "print(\"Sqrt:\", sqrt(array))\n",
        "\n",
        "print(\"Math sqrt:\", sqrt(number))"
      ],
      "metadata": {
        "id": "Vnetmg2FQ_6M",
        "outputId": "8cb11bb6-92bd-4ab8-e63b-fd8f6b2bb4da",
        "colab": {
          "base_uri": "https://localhost:8080/",
          "height": 216
        }
      },
      "execution_count": 22,
      "outputs": [
        {
          "output_type": "error",
          "ename": "TypeError",
          "evalue": "only length-1 arrays can be converted to Python scalars",
          "traceback": [
            "\u001b[0;31m---------------------------------------------------------------------------\u001b[0m",
            "\u001b[0;31mTypeError\u001b[0m                                 Traceback (most recent call last)",
            "\u001b[0;32m<ipython-input-22-dabf91ebcbf6>\u001b[0m in \u001b[0;36m<cell line: 7>\u001b[0;34m()\u001b[0m\n\u001b[1;32m      5\u001b[0m \u001b[0;31m# number = 16\u001b[0m\u001b[0;34m\u001b[0m\u001b[0;34m\u001b[0m\u001b[0m\n\u001b[1;32m      6\u001b[0m \u001b[0;34m\u001b[0m\u001b[0m\n\u001b[0;32m----> 7\u001b[0;31m \u001b[0mprint\u001b[0m\u001b[0;34m(\u001b[0m\u001b[0;34m\"Sqrt:\"\u001b[0m\u001b[0;34m,\u001b[0m \u001b[0msqrt\u001b[0m\u001b[0;34m(\u001b[0m\u001b[0marray\u001b[0m\u001b[0;34m)\u001b[0m\u001b[0;34m)\u001b[0m\u001b[0;34m\u001b[0m\u001b[0;34m\u001b[0m\u001b[0m\n\u001b[0m\u001b[1;32m      8\u001b[0m \u001b[0;34m\u001b[0m\u001b[0m\n\u001b[1;32m      9\u001b[0m \u001b[0mprint\u001b[0m\u001b[0;34m(\u001b[0m\u001b[0;34m\"Math sqrt:\"\u001b[0m\u001b[0;34m,\u001b[0m \u001b[0msqrt\u001b[0m\u001b[0;34m(\u001b[0m\u001b[0mnumber\u001b[0m\u001b[0;34m)\u001b[0m\u001b[0;34m)\u001b[0m\u001b[0;34m\u001b[0m\u001b[0;34m\u001b[0m\u001b[0m\n",
            "\u001b[0;31mTypeError\u001b[0m: only length-1 arrays can be converted to Python scalars"
          ]
        }
      ]
    },
    {
      "cell_type": "markdown",
      "source": [
        "Change the order of the import statements and see the results"
      ],
      "metadata": {
        "id": "9M5jDHzjeC7Y"
      }
    }
  ]
}