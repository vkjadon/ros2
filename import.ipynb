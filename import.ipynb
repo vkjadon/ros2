{
  "nbformat": 4,
  "nbformat_minor": 0,
  "metadata": {
    "colab": {
      "provenance": [],
      "authorship_tag": "ABX9TyNsmQSB6FoT0T0dDorHtDgp",
      "include_colab_link": true
    },
    "kernelspec": {
      "name": "python3",
      "display_name": "Python 3"
    },
    "language_info": {
      "name": "python"
    }
  },
  "cells": [
    {
      "cell_type": "markdown",
      "metadata": {
        "id": "view-in-github",
        "colab_type": "text"
      },
      "source": [
        "<a href=\"https://colab.research.google.com/github/vkjadon/ros2/blob/master/import.ipynb\" target=\"_parent\"><img src=\"https://colab.research.google.com/assets/colab-badge.svg\" alt=\"Open In Colab\"/></a>"
      ]
    },
    {
      "cell_type": "markdown",
      "source": [
        "# Import Syntax"
      ],
      "metadata": {
        "id": "9cSpEcCpdXov"
      }
    },
    {
      "cell_type": "markdown",
      "source": [
        "In Python there are three method used to import a module.  \n",
        "* **import**\n",
        "* **from ... import ...**\n",
        "* **from ... import** *\n",
        "\n",
        "The import statements add the functionality to use functions and classes of the imported modules."
      ],
      "metadata": {
        "id": "KQHejEz0cYk_"
      }
    },
    {
      "cell_type": "markdown",
      "source": [
        "# Using import module_name"
      ],
      "metadata": {
        "id": "qN1my7HRde1O"
      }
    },
    {
      "cell_type": "markdown",
      "source": [
        "This statement imports the entire module, and you must reference the module name each time you use it."
      ],
      "metadata": {
        "id": "DmAODyG9b0IZ"
      }
    },
    {
      "cell_type": "code",
      "execution_count": null,
      "metadata": {
        "colab": {
          "base_uri": "https://localhost:8080/"
        },
        "id": "HDrARVRtQz5W",
        "outputId": "98892ebf-e12d-44ae-8983-3408caa36366"
      },
      "outputs": [
        {
          "output_type": "stream",
          "name": "stdout",
          "text": [
            "NumPy sqrt: [1. 2. 3. 4.]\n",
            "Math sqrt: 4.0\n"
          ]
        }
      ],
      "source": [
        "import numpy as np\n",
        "\n",
        "array = np.array([1, 4, 9, 16])\n",
        "numpy_sqrt = np.sqrt(array)\n",
        "print(\"NumPy sqrt:\", numpy_sqrt)"
      ]
    },
    {
      "cell_type": "code",
      "source": [
        "import math\n",
        "\n",
        "number = 16\n",
        "math_sqrt = math.sqrt(number)\n",
        "print(\"Math sqrt:\", math_sqrt)"
      ],
      "metadata": {
        "id": "00qzI6Z_hm87",
        "outputId": "deeef1e8-ce74-4684-f6db-0eff799af345",
        "colab": {
          "base_uri": "https://localhost:8080/"
        }
      },
      "execution_count": 2,
      "outputs": [
        {
          "output_type": "stream",
          "name": "stdout",
          "text": [
            "Math sqrt: 4.0\n"
          ]
        }
      ]
    },
    {
      "cell_type": "markdown",
      "source": [
        "# Using from ... import ..."
      ],
      "metadata": {
        "id": "OR1tqv7rdpMJ"
      }
    },
    {
      "cell_type": "markdown",
      "source": [
        "This statement imports specific attributes from the module, allowing you to use them directly without referencing the module name."
      ],
      "metadata": {
        "id": "9fhFF6EucF6H"
      }
    },
    {
      "cell_type": "code",
      "source": [
        "from numpy import sqrt\n",
        "\n",
        "array = [1, 4, 9, 16]\n",
        "print(\"NumPy sqrt:\", sqrt(array))"
      ],
      "metadata": {
        "colab": {
          "base_uri": "https://localhost:8080/"
        },
        "id": "lHRhScEPQ6-5",
        "outputId": "c67a22eb-ec58-47e5-abe6-a1e7b3407222"
      },
      "execution_count": 8,
      "outputs": [
        {
          "output_type": "stream",
          "name": "stdout",
          "text": [
            "NumPy sqrt: [1. 2. 3. 4.]\n"
          ]
        }
      ]
    },
    {
      "cell_type": "code",
      "source": [
        "from math import sqrt\n",
        "\n",
        "number = 16\n",
        "print(\"Math sqrt:\", sqrt(number))"
      ],
      "metadata": {
        "id": "TelIZm4Zh901",
        "outputId": "9eba77ab-f4bc-4709-87da-cdcf07ee5d0a",
        "colab": {
          "base_uri": "https://localhost:8080/"
        }
      },
      "execution_count": 5,
      "outputs": [
        {
          "output_type": "stream",
          "name": "stdout",
          "text": [
            "Math sqrt: 4.0\n"
          ]
        }
      ]
    },
    {
      "cell_type": "code",
      "source": [
        "from numpy import sqrt as np_sqrt\n",
        "\n",
        "array = [1, 4, 9, 16]\n",
        "print(\"NumPy sqrt:\", np_sqrt(array))"
      ],
      "metadata": {
        "id": "m1z2ix5xibFB",
        "outputId": "a079868c-0b16-4f8d-d893-0721369c1570",
        "colab": {
          "base_uri": "https://localhost:8080/"
        }
      },
      "execution_count": 9,
      "outputs": [
        {
          "output_type": "stream",
          "name": "stdout",
          "text": [
            "NumPy sqrt: [1. 2. 3. 4.]\n"
          ]
        }
      ]
    },
    {
      "cell_type": "code",
      "source": [
        "from math import sqrt as math_sqrt\n",
        "\n",
        "number = 16\n",
        "print(\"Math sqrt:\", sqrt(number))"
      ],
      "metadata": {
        "id": "aGXXCHCxh2lW",
        "outputId": "a4a73db6-15af-4894-e86a-cad17f7a97ce",
        "colab": {
          "base_uri": "https://localhost:8080/"
        }
      },
      "execution_count": 6,
      "outputs": [
        {
          "output_type": "stream",
          "name": "stdout",
          "text": [
            "Math sqrt: 4.0\n"
          ]
        }
      ]
    },
    {
      "cell_type": "markdown",
      "source": [
        "# Using from ... import *"
      ],
      "metadata": {
        "id": "ahV6FLSbdybc"
      }
    },
    {
      "cell_type": "markdown",
      "source": [
        "This imports all attributes from the module into the current namespace."
      ],
      "metadata": {
        "id": "CF7ZFR9ocIwV"
      }
    },
    {
      "cell_type": "code",
      "source": [
        "from math import *  # Second import\n",
        "\n",
        "number = 16\n",
        "math_sqrt_value = sqrt(number)\n",
        "print(\"Math sqrt:\", math_sqrt_value)"
      ],
      "metadata": {
        "id": "Kql6K3WAio0K",
        "outputId": "3af843db-bff9-4d3e-b8df-4322bff399b7",
        "colab": {
          "base_uri": "https://localhost:8080/"
        }
      },
      "execution_count": 10,
      "outputs": [
        {
          "output_type": "stream",
          "name": "stdout",
          "text": [
            "Math sqrt: 4.0\n"
          ]
        }
      ]
    },
    {
      "cell_type": "code",
      "source": [
        "from numpy import * # First import\n",
        "\n",
        "array = array([1, 4, 9, 16])\n",
        "numpy_sqrt = sqrt(array)\n",
        "print(\"Sqrt:\", numpy_sqrt)"
      ],
      "metadata": {
        "id": "Hw4I-DeLir79",
        "outputId": "a012402f-581b-4b6d-f8ef-3fb0f71eb830",
        "colab": {
          "base_uri": "https://localhost:8080/"
        }
      },
      "execution_count": 11,
      "outputs": [
        {
          "output_type": "stream",
          "name": "stdout",
          "text": [
            "Sqrt: [1. 2. 3. 4.]\n"
          ]
        }
      ]
    },
    {
      "cell_type": "code",
      "source": [
        "from numpy import * # First import\n",
        "from math import *  # Second import\n",
        "\n",
        "array = array([1, 4, 9, 16])\n",
        "numpy_sqrt = sqrt(array)\n",
        "print(\"Sqrt:\", numpy_sqrt)\n",
        "\n",
        "number = 16\n",
        "math_sqrt_value = sqrt(number)\n",
        "print(\"Math sqrt:\", math_sqrt_value)"
      ],
      "metadata": {
        "id": "Vnetmg2FQ_6M"
      },
      "execution_count": null,
      "outputs": []
    },
    {
      "cell_type": "markdown",
      "source": [
        "Change the order of the import statements and see the results"
      ],
      "metadata": {
        "id": "9M5jDHzjeC7Y"
      }
    },
    {
      "cell_type": "code",
      "source": [],
      "metadata": {
        "id": "HI5Lr0BQeKeD"
      },
      "execution_count": null,
      "outputs": []
    }
  ]
}