{
  "nbformat": 4,
  "nbformat_minor": 0,
  "metadata": {
    "colab": {
      "provenance": [],
      "authorship_tag": "ABX9TyNXuP/MdjUgB7lg+0YkmgcL",
      "include_colab_link": true
    },
    "kernelspec": {
      "name": "python3",
      "display_name": "Python 3"
    },
    "language_info": {
      "name": "python"
    }
  },
  "cells": [
    {
      "cell_type": "markdown",
      "metadata": {
        "id": "view-in-github",
        "colab_type": "text"
      },
      "source": [
        "<a href=\"https://colab.research.google.com/github/vkjadon/ros2/blob/master/callback.ipynb\" target=\"_parent\"><img src=\"https://colab.research.google.com/assets/colab-badge.svg\" alt=\"Open In Colab\"/></a>"
      ]
    },
    {
      "cell_type": "markdown",
      "source": [
        "Let us develop a function"
      ],
      "metadata": {
        "id": "-qjJerZiMvti"
      }
    },
    {
      "cell_type": "code",
      "execution_count": 1,
      "metadata": {
        "id": "UE8-WfDhLB-8"
      },
      "outputs": [],
      "source": [
        "import time"
      ]
    },
    {
      "cell_type": "code",
      "source": [
        "# Synchronously read data and then process it using the callback\n",
        "def process(id, duration, callback):\n",
        "    print(\"Starting data read...\")\n",
        "    # Simulate data reading\n",
        "    time.sleep(duration)\n",
        "    print(f\"Data read completed in approximate {duration} seconds.\")\n",
        "    print(f\"------------ Task - {id} Completed -----------\")\n",
        "    # Call the callback function with the read data\n",
        "    callback()"
      ],
      "metadata": {
        "id": "LhzSIQanNc2H"
      },
      "execution_count": 2,
      "outputs": []
    },
    {
      "cell_type": "code",
      "source": [
        "def callback_process_data():\n",
        "    print(\"Processing data...\")\n",
        "    print(f\"Data received.\")\n",
        "    print(\"Data processing completed.\")"
      ],
      "metadata": {
        "id": "ZqxwoFvBNg5C"
      },
      "execution_count": 3,
      "outputs": []
    },
    {
      "cell_type": "code",
      "source": [
        "def main():\n",
        "    print(\"Main function started.\")\n",
        "\n",
        "    start_time=time.time()\n",
        "\n",
        "    expected_process_time=2\n",
        "    # Function to read some data and process it using callback function\n",
        "    task1=process(1, expected_process_time, callback_process_data)\n",
        "\n",
        "    print(\"Main function completed.\")\n",
        "\n",
        "    end_time=time.time()\n",
        "    print(f\"Process completed in {end_time-start_time} s\")"
      ],
      "metadata": {
        "id": "U5faP4waNnzY"
      },
      "execution_count": 4,
      "outputs": []
    },
    {
      "cell_type": "code",
      "source": [
        "if __name__ == \"__main__\":\n",
        "  try :\n",
        "    main()\n",
        "  except Exception as e:\n",
        "    print(e)\n",
        "  finally:\n",
        "    print(\"Program terminated.\")"
      ],
      "metadata": {
        "colab": {
          "base_uri": "https://localhost:8080/"
        },
        "id": "rW65rwk6NVvq",
        "outputId": "eea8ab7d-ad84-4557-cff4-08bf51b82b68"
      },
      "execution_count": 5,
      "outputs": [
        {
          "output_type": "stream",
          "name": "stdout",
          "text": [
            "Main function started.\n",
            "Starting data read...\n",
            "Data read completed in approximate 2 seconds.\n",
            "------------ Task - 1 Completed -----------\n",
            "Processing data...\n",
            "Data received.\n",
            "Data processing completed.\n",
            "Main function completed.\n",
            "Process completed in 2.0052266120910645 s\n",
            "Program terminated.\n"
          ]
        }
      ]
    },
    {
      "cell_type": "code",
      "source": [
        "def main():\n",
        "    start_time=time.time()\n",
        "    print(\"Main function started.\")\n",
        "\n",
        "    expected_process_time=2\n",
        "    # Function to read some data and process it using callback function\n",
        "    task1=process(1, expected_process_time, callback_process_data)\n",
        "    task2=process(2, expected_process_time, callback_process_data)\n",
        "    task3=process(3, expected_process_time, callback_process_data)\n",
        "\n",
        "    print(\"Main function completed.\")\n",
        "    print(f\"Process completed in {time.time()-start_time} s\")"
      ],
      "metadata": {
        "id": "_ZVny8yEPMCB"
      },
      "execution_count": 6,
      "outputs": []
    },
    {
      "cell_type": "code",
      "source": [
        "if __name__ == \"__main__\":\n",
        "  try :\n",
        "    main()\n",
        "  except Exception as e:\n",
        "    print(e)\n",
        "  finally:\n",
        "    print(\"Program terminated.\")"
      ],
      "metadata": {
        "colab": {
          "base_uri": "https://localhost:8080/"
        },
        "id": "XJ4_8tRJPk8W",
        "outputId": "fb4d4388-ff2e-40f6-df9d-ee42e0fecbfe"
      },
      "execution_count": 7,
      "outputs": [
        {
          "output_type": "stream",
          "name": "stdout",
          "text": [
            "Main function started.\n",
            "Starting data read...\n",
            "Data read completed in approximate 2 seconds.\n",
            "------------ Task - 1 Completed -----------\n",
            "Processing data...\n",
            "Data received.\n",
            "Data processing completed.\n",
            "Starting data read...\n",
            "Data read completed in approximate 2 seconds.\n",
            "------------ Task - 2 Completed -----------\n",
            "Processing data...\n",
            "Data received.\n",
            "Data processing completed.\n",
            "Starting data read...\n",
            "Data read completed in approximate 2 seconds.\n",
            "------------ Task - 3 Completed -----------\n",
            "Processing data...\n",
            "Data received.\n",
            "Data processing completed.\n",
            "Main function completed.\n",
            "Process completed in 6.009599685668945 s\n",
            "Program terminated.\n"
          ]
        }
      ]
    },
    {
      "cell_type": "code",
      "source": [
        "import nest_asyncio\n",
        "nest_asyncio.apply()"
      ],
      "metadata": {
        "id": "WnlXbfIFRnLI"
      },
      "execution_count": 12,
      "outputs": []
    },
    {
      "cell_type": "markdown",
      "source": [
        "Let add"
      ],
      "metadata": {
        "id": "wzN0gZ8eN7jo"
      }
    },
    {
      "cell_type": "code",
      "source": [
        "import time\n",
        "import asyncio\n",
        "\n",
        "async def any_function(id, process_time, callback):\n",
        "    print(\"Starting data read...\")\n",
        "    # Simulate data reading with a delay\n",
        "    await asyncio.sleep(process_time)  # Simulates the time taken to read data\n",
        "    var1 = \"Sample Data\"\n",
        "    print(f\"Data for {id} completed.\")\n",
        "\n",
        "    # Call the callback function with the read data\n",
        "    await callback(var1)\n",
        "\n",
        "async def process_data(data):\n",
        "    print(\"Processing data...\")\n",
        "    print(f\"Data received: {data}\")\n",
        "    print(\"Data processing completed.\")\n",
        "\n",
        "async def main():\n",
        "    start_time=time.time()\n",
        "\n",
        "    print(\"Main function started.\")\n",
        "\n",
        "    await any_function(1, 2, process_data)\n",
        "    await any_function(2, 4, process_data)\n",
        "\n",
        "    print(\"Main function completed.\")\n",
        "\n",
        "    end_time=time.time()\n",
        "    print(f\"Process completed in {end_time-start_time} s\")\n",
        "\n",
        "if __name__ == \"__main__\":\n",
        "    asyncio.run(main())"
      ],
      "metadata": {
        "colab": {
          "base_uri": "https://localhost:8080/"
        },
        "id": "ZSJQZGIYPLfz",
        "outputId": "a2addc88-5056-4036-e3f6-e8aaee587c8b"
      },
      "execution_count": 13,
      "outputs": [
        {
          "output_type": "stream",
          "name": "stderr",
          "text": [
            "/usr/lib/python3.10/tokenize.py:527: RuntimeWarning: coroutine 'main' was never awaited\n",
            "  pseudomatch = _compile(PseudoToken).match(line, pos)\n",
            "RuntimeWarning: Enable tracemalloc to get the object allocation traceback\n"
          ]
        },
        {
          "output_type": "stream",
          "name": "stdout",
          "text": [
            "Main function started.\n",
            "Starting data read...\n",
            "Data for 1 completed.\n",
            "Processing data...\n",
            "Data received: Sample Data\n",
            "Data processing completed.\n",
            "Starting data read...\n",
            "Data for 2 completed.\n",
            "Processing data...\n",
            "Data received: Sample Data\n",
            "Data processing completed.\n",
            "Main function completed.\n",
            "Process completed in 6.00648832321167 s\n"
          ]
        }
      ]
    }
  ]
}