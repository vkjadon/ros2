{
  "nbformat": 4,
  "nbformat_minor": 0,
  "metadata": {
    "colab": {
      "provenance": [],
      "authorship_tag": "ABX9TyOiCCLnBtMfM86RFxV4Drrc",
      "include_colab_link": true
    },
    "kernelspec": {
      "name": "python3",
      "display_name": "Python 3"
    },
    "language_info": {
      "name": "python"
    }
  },
  "cells": [
    {
      "cell_type": "markdown",
      "metadata": {
        "id": "view-in-github",
        "colab_type": "text"
      },
      "source": [
        "<a href=\"https://colab.research.google.com/github/vkjadon/ros2/blob/master/callback.ipynb\" target=\"_parent\"><img src=\"https://colab.research.google.com/assets/colab-badge.svg\" alt=\"Open In Colab\"/></a>"
      ]
    },
    {
      "cell_type": "markdown",
      "source": [
        "Let us develop a function"
      ],
      "metadata": {
        "id": "-qjJerZiMvti"
      }
    },
    {
      "cell_type": "code",
      "execution_count": 7,
      "metadata": {
        "id": "UE8-WfDhLB-8"
      },
      "outputs": [],
      "source": [
        "import time"
      ]
    },
    {
      "cell_type": "code",
      "source": [
        "# Synchronously read data and then process it using the callback\n",
        "def process(id, duration, callback):\n",
        "    print(\"Starting data read...\")\n",
        "    # Simulate data reading\n",
        "    time.sleep(duration)\n",
        "    print(f\"Data read completed in approximate {duration} seconds.\")\n",
        "    print(f\"------------ Task - {id} Completed -----------\")\n",
        "    # Call the callback function with the read data\n",
        "    callback()"
      ],
      "metadata": {
        "id": "LhzSIQanNc2H"
      },
      "execution_count": 8,
      "outputs": []
    },
    {
      "cell_type": "code",
      "source": [
        "def callback_process_data():\n",
        "    print(\"Processing data...\")\n",
        "    print(\"Data received.\")\n",
        "    print(\"Data processing completed.\")"
      ],
      "metadata": {
        "id": "ZqxwoFvBNg5C"
      },
      "execution_count": 9,
      "outputs": []
    },
    {
      "cell_type": "code",
      "source": [
        "def main():\n",
        "    print(\"Main function started.\")\n",
        "\n",
        "    start_time=time.time()\n",
        "\n",
        "    expected_process_time=2\n",
        "    # Function to read some data and process it using callback function\n",
        "    task1=process(1, expected_process_time, callback_process_data)\n",
        "\n",
        "    print(\"Main function completed.\")\n",
        "\n",
        "    print(f\"Process completed in {time.time()-start_time} s\")"
      ],
      "metadata": {
        "id": "U5faP4waNnzY"
      },
      "execution_count": 10,
      "outputs": []
    },
    {
      "cell_type": "code",
      "source": [
        "if __name__ == \"__main__\":\n",
        "  try :\n",
        "    main()\n",
        "  except Exception as e:\n",
        "    print(e)\n",
        "  finally:\n",
        "    print(\"Program terminated.\")"
      ],
      "metadata": {
        "colab": {
          "base_uri": "https://localhost:8080/"
        },
        "id": "rW65rwk6NVvq",
        "outputId": "c94ef90f-649e-45ba-9283-0753066e083b"
      },
      "execution_count": 11,
      "outputs": [
        {
          "output_type": "stream",
          "name": "stdout",
          "text": [
            "Main function started.\n",
            "Starting data read...\n",
            "Data read completed in approximate 2 seconds.\n",
            "------------ Task - 1 Completed -----------\n",
            "Processing data...\n",
            "Data received.\n",
            "Data processing completed.\n",
            "Main function completed.\n",
            "Process completed in 2.003817319869995 s\n",
            "Program terminated.\n"
          ]
        }
      ]
    },
    {
      "cell_type": "code",
      "source": [
        "def main():\n",
        "    start_time=time.time()\n",
        "    print(\"Main function started.\")\n",
        "\n",
        "    expected_process_time=2\n",
        "    # Function to read some data and process it using callback function\n",
        "    task1=process(1, expected_process_time, callback_process_data)\n",
        "    task2=process(2, expected_process_time, callback_process_data)\n",
        "    task3=process(3, expected_process_time, callback_process_data)\n",
        "\n",
        "    print(\"Main function completed.\")\n",
        "    print(f\"Process completed in {time.time()-start_time} s\")"
      ],
      "metadata": {
        "id": "_ZVny8yEPMCB"
      },
      "execution_count": 12,
      "outputs": []
    },
    {
      "cell_type": "code",
      "source": [
        "if __name__ == \"__main__\":\n",
        "  try :\n",
        "    main()\n",
        "  except Exception as e:\n",
        "    print(e)\n",
        "  finally:\n",
        "    print(\"Program terminated.\")"
      ],
      "metadata": {
        "colab": {
          "base_uri": "https://localhost:8080/"
        },
        "id": "XJ4_8tRJPk8W",
        "outputId": "e1df7a54-0fd2-4713-b98b-18eeaa1d191e"
      },
      "execution_count": 13,
      "outputs": [
        {
          "output_type": "stream",
          "name": "stdout",
          "text": [
            "Main function started.\n",
            "Starting data read...\n",
            "Data read completed in approximate 2 seconds.\n",
            "------------ Task - 1 Completed -----------\n",
            "Processing data...\n",
            "Data received.\n",
            "Data processing completed.\n",
            "Starting data read...\n",
            "Data read completed in approximate 2 seconds.\n",
            "------------ Task - 2 Completed -----------\n",
            "Processing data...\n",
            "Data received.\n",
            "Data processing completed.\n",
            "Starting data read...\n",
            "Data read completed in approximate 2 seconds.\n",
            "------------ Task - 3 Completed -----------\n",
            "Processing data...\n",
            "Data received.\n",
            "Data processing completed.\n",
            "Main function completed.\n",
            "Process completed in 6.010775327682495 s\n",
            "Program terminated.\n"
          ]
        }
      ]
    },
    {
      "cell_type": "code",
      "source": [
        "import time\n",
        "import asyncio\n",
        "import nest_asyncio\n",
        "nest_asyncio.apply()"
      ],
      "metadata": {
        "id": "WnlXbfIFRnLI"
      },
      "execution_count": 3,
      "outputs": []
    },
    {
      "cell_type": "code",
      "source": [
        "async def process(id, process_time, callback):\n",
        "    print(f\"Starting Process for {id} at {time.time()}\")\n",
        "    # Simulate data reading with a delay\n",
        "    await asyncio.sleep(process_time)  # Simulates the time taken to read data\n",
        "    print(f\"Process for {id} completed.\", time.time())\n",
        "\n",
        "    await callback(id)\n",
        "\n",
        "async def callback_process_data(id):\n",
        "    print(f\"Result of ID {id} Processed in Callback Function {time.time()}\")"
      ],
      "metadata": {
        "id": "FVLfIrY1xGR1"
      },
      "execution_count": 28,
      "outputs": []
    },
    {
      "cell_type": "markdown",
      "source": [
        "Let add"
      ],
      "metadata": {
        "id": "wzN0gZ8eN7jo"
      }
    },
    {
      "cell_type": "code",
      "source": [
        "async def main():\n",
        "    start_time=time.time()\n",
        "    print(time.time())\n",
        "\n",
        "    print(\"Main function started.\")\n",
        "\n",
        "    await process(1, 2, callback_process_data)\n",
        "    await process(2, 4, callback_process_data)\n",
        "\n",
        "    print(\"Main function completed.\")\n",
        "\n",
        "    print(f\"Process completed in {time.time()-start_time} s\")\n",
        "\n",
        "if __name__ == \"__main__\":\n",
        "    asyncio.run(main())"
      ],
      "metadata": {
        "colab": {
          "base_uri": "https://localhost:8080/"
        },
        "id": "ZSJQZGIYPLfz",
        "outputId": "124715c2-280f-44a5-c61d-889516fa0e8e"
      },
      "execution_count": 20,
      "outputs": [
        {
          "output_type": "stream",
          "name": "stdout",
          "text": [
            "1722530193.7122416\n",
            "Main function started.\n",
            "Starting data read... 1722530193.7123525\n",
            "Process for 1 completed. 1722530195.7140677\n",
            "Result of ID 1 Processed in Callback Function 1722530195.7141914\n",
            "Starting data read... 1722530195.714226\n",
            "Process for 2 completed. 1722530199.7208352\n",
            "Result of ID 2 Processed in Callback Function 1722530199.7209723\n",
            "Main function completed.\n",
            "Process completed in 6.0087761878967285 s\n"
          ]
        }
      ]
    },
    {
      "cell_type": "code",
      "source": [
        "async def main():\n",
        "    start_time=time.time()\n",
        "\n",
        "    print(\"Main function started.\", start_time)\n",
        "\n",
        "    task1=asyncio.create_task(process(1, 2, callback_process_data))\n",
        "    print(\"Task - 1 Created. \", time.time())\n",
        "\n",
        "    task2=asyncio.create_task(process(2, 4, callback_process_data))\n",
        "    print(\"Task - 2 Created. \", time.time())\n",
        "\n",
        "    await task1\n",
        "    await task2\n",
        "\n",
        "    print(\"Main function completed.\")\n",
        "\n",
        "    end_time=time.time()\n",
        "    print(f\"Process completed in {end_time-start_time} s\")\n",
        "\n",
        "if __name__ == \"__main__\":\n",
        "    asyncio.run(main())"
      ],
      "metadata": {
        "id": "axABFzcFrmgm",
        "outputId": "d7e943b8-1e5a-4a99-95a8-b255a934b7c3",
        "colab": {
          "base_uri": "https://localhost:8080/"
        }
      },
      "execution_count": 21,
      "outputs": [
        {
          "output_type": "stream",
          "name": "stdout",
          "text": [
            "Main function started. 1722530202.1103902\n",
            "Task - 1 Created.  1722530202.110952\n",
            "Task - 2 Created.  1722530202.1110213\n",
            "Starting data read... 1722530202.1112456\n",
            "Starting data read... 1722530202.111337\n",
            "Process for 1 completed. 1722530204.1136816\n",
            "Result of ID 1 Processed in Callback Function 1722530204.1148088\n",
            "Process for 2 completed. 1722530206.1137729\n",
            "Result of ID 2 Processed in Callback Function 1722530206.115242\n",
            "Main function completed.\n",
            "Process completed in 4.004981279373169 s\n"
          ]
        }
      ]
    },
    {
      "cell_type": "code",
      "source": [
        "async def main():\n",
        "    start_time=time.time()\n",
        "\n",
        "    print(\"Main function started.\")\n",
        "\n",
        "    task1=process(1, 3, callback_process_data)\n",
        "    task2=process(2, 1, callback_process_data)\n",
        "\n",
        "    tasks=asyncio.gather(task1, task2)\n",
        "    await tasks\n",
        "\n",
        "    print(\"Main function completed.\")\n",
        "\n",
        "    end_time=time.time()\n",
        "    print(f\"Process completed in {end_time-start_time} s\")\n",
        "\n",
        "if __name__ == \"__main__\":\n",
        "    asyncio.run(main())"
      ],
      "metadata": {
        "id": "MXM2ABa4uAsQ",
        "outputId": "c9100d9b-a39d-441b-9211-e6c55460ac98",
        "colab": {
          "base_uri": "https://localhost:8080/"
        }
      },
      "execution_count": 32,
      "outputs": [
        {
          "output_type": "stream",
          "name": "stdout",
          "text": [
            "Main function started.\n",
            "Starting Process for 1 at 1722530426.30236\n",
            "Starting Process for 2 at 1722530426.3024418\n",
            "Process for 2 completed. 1722530427.3027623\n",
            "Result of ID 2 Processed in Callback Function 1722530427.3028867\n",
            "Process for 1 completed. 1722530429.305199\n",
            "Result of ID 1 Processed in Callback Function 1722530429.3053339\n",
            "Main function completed.\n",
            "Process completed in 3.0034117698669434 s\n"
          ]
        }
      ]
    }
  ]
}