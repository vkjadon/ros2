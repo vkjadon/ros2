{
  "nbformat": 4,
  "nbformat_minor": 0,
  "metadata": {
    "colab": {
      "provenance": [],
      "toc_visible": true,
      "authorship_tag": "ABX9TyMZG7OF8COGbHmE76G+9SdB",
      "include_colab_link": true
    },
    "kernelspec": {
      "name": "python3",
      "display_name": "Python 3"
    },
    "language_info": {
      "name": "python"
    }
  },
  "cells": [
    {
      "cell_type": "markdown",
      "metadata": {
        "id": "view-in-github",
        "colab_type": "text"
      },
      "source": [
        "<a href=\"https://colab.research.google.com/github/vkjadon/ros2/blob/master/callback.ipynb\" target=\"_parent\"><img src=\"https://colab.research.google.com/assets/colab-badge.svg\" alt=\"Open In Colab\"/></a>"
      ]
    },
    {
      "cell_type": "markdown",
      "source": [
        "# Callback Function"
      ],
      "metadata": {
        "id": "J3LKFr5f0sCg"
      }
    },
    {
      "cell_type": "markdown",
      "source": [
        "A callback function is a function that is passed as an argument to another function and is invoked after a specific event or condition within the function is met. Callbacks are commonly used for handling asynchronous operations, events, and tasks that are completed at a later time. We can categorise the use of callback functions in three broad categories."
      ],
      "metadata": {
        "id": "CQGPV6TInRqn"
      }
    },
    {
      "cell_type": "markdown",
      "source": [
        "1. **Decoupling Code:** Callbacks help decouple code by separating the logic that initiates an operation from the logic that handles the result.\n",
        "\n",
        "2. **Asynchronous Programming:** Callbacks are essential for handling asynchronous operations, such as I/O operations, network requests, and timers.  \n",
        "\n",
        "3. **Event Handling:** In event-driven programming, callbacks handle events like button clicks, sensor readings, or incoming data.  \n",
        "\n"
      ],
      "metadata": {
        "id": "XnnF6p-Pnn25"
      }
    },
    {
      "cell_type": "markdown",
      "source": [
        "## Decoupling Code"
      ],
      "metadata": {
        "id": "wiVl_fg80yd5"
      }
    },
    {
      "cell_type": "markdown",
      "source": [
        "Let us first take example of using callbacl to decouple code to handle the operation or process to produce some result followed by some action on the result."
      ],
      "metadata": {
        "id": "-qjJerZiMvti"
      }
    },
    {
      "cell_type": "code",
      "execution_count": 40,
      "metadata": {
        "id": "UE8-WfDhLB-8"
      },
      "outputs": [],
      "source": [
        "import time"
      ]
    },
    {
      "cell_type": "code",
      "source": [
        "# Synchronously read data and then process it using the callback\n",
        "def process_logic(id, expected_process_duration, callback):\n",
        "    print(\"Starting Process ...\")\n",
        "    # Simulate data reading\n",
        "    time.sleep(expected_process_duration)\n",
        "    print(f\"Process --ID {id}-- completed in approximate {expected_process_duration} seconds.\")\n",
        "    result=\"-- ID \" + str(id) + \" --\"\n",
        "    # Call the callback function with the read data\n",
        "    callback(result)"
      ],
      "metadata": {
        "id": "LhzSIQanNc2H"
      },
      "execution_count": 41,
      "outputs": []
    },
    {
      "cell_type": "code",
      "source": [
        "def callback_process_result(result):\n",
        "    print(f\"Callback {result} : Processed: \")"
      ],
      "metadata": {
        "id": "ZqxwoFvBNg5C"
      },
      "execution_count": 42,
      "outputs": []
    },
    {
      "cell_type": "code",
      "source": [
        "def main():\n",
        "    # print(\"Main function started.\")\n",
        "\n",
        "    start_time=time.time()\n",
        "\n",
        "    # Function to read some data and process it using callback function\n",
        "    task1=process_logic(1, 2, callback_process_result)\n",
        "\n",
        "    # print(\"Main function completed.\")\n",
        "\n",
        "    print(f\"Overall Process completed in {time.time()-start_time} s\")"
      ],
      "metadata": {
        "id": "U5faP4waNnzY"
      },
      "execution_count": 43,
      "outputs": []
    },
    {
      "cell_type": "code",
      "source": [
        "if __name__ == \"__main__\":\n",
        "  try :\n",
        "    main()\n",
        "  except Exception as e:\n",
        "    print(e)\n",
        "  finally:\n",
        "    print(\"Program terminated.\")"
      ],
      "metadata": {
        "colab": {
          "base_uri": "https://localhost:8080/"
        },
        "id": "rW65rwk6NVvq",
        "outputId": "5e92f8b6-1f9d-4865-a50b-4aea5ee1aa40"
      },
      "execution_count": 44,
      "outputs": [
        {
          "output_type": "stream",
          "name": "stdout",
          "text": [
            "Starting Process ...\n",
            "Process --ID 1-- completed in approximate 2 seconds.\n",
            "Callback -- ID 1 -- : Processed: \n",
            "Overall Process completed in 2.0023319721221924 s\n",
            "Program terminated.\n"
          ]
        }
      ]
    },
    {
      "cell_type": "code",
      "source": [
        "def main():\n",
        "    start_time=time.time()\n",
        "    print(\"Main function started.\")\n",
        "\n",
        "    # Function to read some data and process it using callback function\n",
        "    task1=process_logic(1, 2, callback_process_result)\n",
        "    task2=process_logic(2, 3, callback_process_result)\n",
        "    task3=process_logic(3, 4, callback_process_result)\n",
        "\n",
        "    print(\"Main function completed.\")\n",
        "    print(f\"Process completed in {time.time()-start_time} s\")"
      ],
      "metadata": {
        "id": "_ZVny8yEPMCB"
      },
      "execution_count": 45,
      "outputs": []
    },
    {
      "cell_type": "code",
      "source": [
        "if __name__ == \"__main__\":\n",
        "  try :\n",
        "    main()\n",
        "  except Exception as e:\n",
        "    print(e)\n",
        "  finally:\n",
        "    print(\"Program terminated.\")"
      ],
      "metadata": {
        "colab": {
          "base_uri": "https://localhost:8080/"
        },
        "id": "XJ4_8tRJPk8W",
        "outputId": "51080585-45a3-4584-f027-bc7ddab4d932"
      },
      "execution_count": 46,
      "outputs": [
        {
          "output_type": "stream",
          "name": "stdout",
          "text": [
            "Main function started.\n",
            "Starting Process ...\n",
            "Process --ID 1-- completed in approximate 2 seconds.\n",
            "Callback -- ID 1 -- : Processed: \n",
            "Starting Process ...\n",
            "Process --ID 2-- completed in approximate 3 seconds.\n",
            "Callback -- ID 2 -- : Processed: \n",
            "Starting Process ...\n",
            "Process --ID 3-- completed in approximate 4 seconds.\n",
            "Callback -- ID 3 -- : Processed: \n",
            "Main function completed.\n",
            "Process completed in 9.012815952301025 s\n",
            "Program terminated.\n"
          ]
        }
      ]
    },
    {
      "cell_type": "code",
      "source": [
        "import time\n",
        "import asyncio\n",
        "import nest_asyncio\n",
        "nest_asyncio.apply()"
      ],
      "metadata": {
        "id": "WnlXbfIFRnLI"
      },
      "execution_count": 47,
      "outputs": []
    },
    {
      "cell_type": "code",
      "source": [
        "async def process_logic(id, expected_process_duration, callback):\n",
        "    print(f\"Starting Process for {id} at {time.time()}\")\n",
        "    # Simulate data reading with a delay\n",
        "    await asyncio.sleep(expected_process_duration)  # Simulates the time taken to read data\n",
        "    print(f\"Process --ID {id}-- completed.\", time.time())\n",
        "    result=\"-- ID \" + str(id) + \" --\"\n",
        "\n",
        "    await callback(result)\n",
        "\n",
        "async def callback_process_result(result):\n",
        "    print(f\"Callback {result} Processed {time.time()}\")"
      ],
      "metadata": {
        "id": "FVLfIrY1xGR1"
      },
      "execution_count": 49,
      "outputs": []
    },
    {
      "cell_type": "markdown",
      "source": [
        "Let add"
      ],
      "metadata": {
        "id": "wzN0gZ8eN7jo"
      }
    },
    {
      "cell_type": "code",
      "source": [
        "async def main():\n",
        "    start_time=time.time()\n",
        "    print(time.time())\n",
        "\n",
        "    print(\"Main function started.\")\n",
        "\n",
        "    await process_logic(1, 2, callback_process_result)\n",
        "    await process_logic(2, 4, callback_process_result)\n",
        "\n",
        "    print(\"Main function completed.\")\n",
        "\n",
        "    print(f\"Process completed in {time.time()-start_time} s\")\n",
        "\n",
        "if __name__ == \"__main__\":\n",
        "    asyncio.run(main())"
      ],
      "metadata": {
        "colab": {
          "base_uri": "https://localhost:8080/"
        },
        "id": "ZSJQZGIYPLfz",
        "outputId": "279f8864-2c0b-452d-d56f-1e6d012562aa"
      },
      "execution_count": 51,
      "outputs": [
        {
          "output_type": "stream",
          "name": "stdout",
          "text": [
            "1724838474.2361557\n",
            "Main function started.\n",
            "Starting Process for 1 at 1724838474.2376623\n",
            "Process --ID 1-- completed. 1724838476.2425022\n",
            "Callback -- ID 1 -- Processed 1724838476.2436237\n",
            "Starting Process for 2 at 1724838476.2436576\n",
            "Process --ID 2-- completed. 1724838480.24797\n",
            "Callback -- ID 2 -- Processed 1724838480.2495093\n",
            "Main function completed.\n",
            "Process completed in 6.014343023300171 s\n"
          ]
        }
      ]
    },
    {
      "cell_type": "code",
      "source": [
        "async def main():\n",
        "    start_time=time.time()\n",
        "\n",
        "    print(\"Main function started.\", start_time)\n",
        "\n",
        "    task1=asyncio.create_task(process_logic(1, 2, callback_process_result))\n",
        "    print(\"Task - 1 Created. \", time.time())\n",
        "\n",
        "    task2=asyncio.create_task(process_logic(2, 4, callback_process_result))\n",
        "    print(\"Task - 2 Created. \", time.time())\n",
        "\n",
        "    result1=await task1\n",
        "    result2=await task2\n",
        "\n",
        "    print(\"Main function completed.\")\n",
        "\n",
        "    end_time=time.time()\n",
        "    print(f\"Process completed in {end_time-start_time} s\")\n",
        "\n",
        "if __name__ == \"__main__\":\n",
        "    asyncio.run(main())"
      ],
      "metadata": {
        "id": "axABFzcFrmgm",
        "outputId": "a81ad257-23d7-4739-c92b-df624c6f25c4",
        "colab": {
          "base_uri": "https://localhost:8080/"
        }
      },
      "execution_count": 52,
      "outputs": [
        {
          "output_type": "stream",
          "name": "stdout",
          "text": [
            "Main function started. 1724838509.4416425\n",
            "Task - 1 Created.  1724838509.4421906\n",
            "Task - 2 Created.  1724838509.4445844\n",
            "Starting Process for 1 at 1724838509.4460988\n",
            "Starting Process for 2 at 1724838509.4468083\n",
            "Process --ID 1-- completed. 1724838511.44919\n",
            "Callback -- ID 1 -- Processed 1724838511.4493277\n",
            "Process --ID 2-- completed. 1724838513.4496775\n",
            "Callback -- ID 2 -- Processed 1724838513.449888\n",
            "Main function completed.\n",
            "Process completed in 4.00840950012207 s\n"
          ]
        }
      ]
    },
    {
      "cell_type": "code",
      "source": [
        "async def main():\n",
        "    start_time=time.time()\n",
        "\n",
        "    print(\"Main function started.\")\n",
        "\n",
        "    task1=process_logic(1, 3, callback_process_result)\n",
        "    task2=process_logic(2, 1, callback_process_result)\n",
        "\n",
        "    result1, result2=await asyncio.gather(task1, task2)\n",
        "\n",
        "    print(result1, result2)\n",
        "    print(\"Main function completed.\")\n",
        "\n",
        "    end_time=time.time()\n",
        "    print(f\"Process completed in {end_time-start_time} s\")\n",
        "\n",
        "if __name__ == \"__main__\":\n",
        "    asyncio.run(main())"
      ],
      "metadata": {
        "id": "MXM2ABa4uAsQ",
        "outputId": "590b91bc-d0c4-46d6-ca22-34760c7bebef",
        "colab": {
          "base_uri": "https://localhost:8080/"
        }
      },
      "execution_count": 53,
      "outputs": [
        {
          "output_type": "stream",
          "name": "stdout",
          "text": [
            "Main function started.\n",
            "Starting Process for 1 at 1724838568.123885\n",
            "Starting Process for 2 at 1724838568.1271641\n",
            "Process --ID 2-- completed. 1724838569.1282227\n",
            "Callback -- ID 2 -- Processed 1724838569.1283581\n",
            "Process --ID 1-- completed. 1724838571.1291845\n",
            "Callback -- ID 1 -- Processed 1724838571.129315\n",
            "None None\n",
            "Main function completed.\n",
            "Process completed in 3.008971691131592 s\n"
          ]
        }
      ]
    }
  ]
}