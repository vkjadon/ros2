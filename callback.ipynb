{
  "nbformat": 4,
  "nbformat_minor": 0,
  "metadata": {
    "colab": {
      "provenance": [],
      "authorship_tag": "ABX9TyPWu0IoB0+nRwiu4rFUfGxx",
      "include_colab_link": true
    },
    "kernelspec": {
      "name": "python3",
      "display_name": "Python 3"
    },
    "language_info": {
      "name": "python"
    }
  },
  "cells": [
    {
      "cell_type": "markdown",
      "metadata": {
        "id": "view-in-github",
        "colab_type": "text"
      },
      "source": [
        "<a href=\"https://colab.research.google.com/github/vkjadon/ros2/blob/master/callback.ipynb\" target=\"_parent\"><img src=\"https://colab.research.google.com/assets/colab-badge.svg\" alt=\"Open In Colab\"/></a>"
      ]
    },
    {
      "cell_type": "markdown",
      "source": [
        "A callback function is passed as an argument to another function and is invoked after a specific event or condition within the function is met. Callbacks are commonly used for handling asynchronous operations, events, and tasks that are completed at a later time."
      ],
      "metadata": {
        "id": "CQGPV6TInRqn"
      }
    },
    {
      "cell_type": "markdown",
      "source": [
        "**Asynchronous Programming:** Callbacks are essential for handling asynchronous operations, such as I/O operations, network requests, and timers.  \n",
        "\n",
        "**Event Handling:** In event-driven programming, callbacks handle events like button clicks, sensor readings, or incoming data.  \n",
        "\n",
        "**Decoupling Code:** Callbacks help decouple code by separating the logic that initiates an operation from the logic that handles the result.\n"
      ],
      "metadata": {
        "id": "XnnF6p-Pnn25"
      }
    },
    {
      "cell_type": "markdown",
      "source": [
        "Let us develop a function"
      ],
      "metadata": {
        "id": "-qjJerZiMvti"
      }
    },
    {
      "cell_type": "code",
      "execution_count": 4,
      "metadata": {
        "id": "UE8-WfDhLB-8"
      },
      "outputs": [],
      "source": [
        "import time"
      ]
    },
    {
      "cell_type": "code",
      "source": [
        "# Synchronously read data and then process it using the callback\n",
        "def process_logic(id, duration, callback):\n",
        "    print(\"Starting data read...\")\n",
        "    # Simulate data reading\n",
        "    time.sleep(duration)\n",
        "    print(f\"Process Logic completed in approximate {duration} seconds.\")\n",
        "    result=\"-- ID \" + str(id) + \" --\"\n",
        "    # Call the callback function with the read data\n",
        "    callback(result)"
      ],
      "metadata": {
        "id": "LhzSIQanNc2H"
      },
      "execution_count": 18,
      "outputs": []
    },
    {
      "cell_type": "code",
      "source": [
        "def callback_process_result(result):\n",
        "    print(f\"Processing Results...: {result}\")"
      ],
      "metadata": {
        "id": "ZqxwoFvBNg5C"
      },
      "execution_count": 19,
      "outputs": []
    },
    {
      "cell_type": "code",
      "source": [
        "def main():\n",
        "    print(\"Main function started.\")\n",
        "\n",
        "    start_time=time.time()\n",
        "\n",
        "    expected_process_time=2\n",
        "    # Function to read some data and process it using callback function\n",
        "    task1=process_logic(1, expected_process_time, callback_process_result)\n",
        "\n",
        "    print(\"Main function completed.\")\n",
        "\n",
        "    print(f\"Process completed in {time.time()-start_time} s\")"
      ],
      "metadata": {
        "id": "U5faP4waNnzY"
      },
      "execution_count": 20,
      "outputs": []
    },
    {
      "cell_type": "code",
      "source": [
        "if __name__ == \"__main__\":\n",
        "  try :\n",
        "    main()\n",
        "  except Exception as e:\n",
        "    print(e)\n",
        "  finally:\n",
        "    print(\"Program terminated.\")"
      ],
      "metadata": {
        "colab": {
          "base_uri": "https://localhost:8080/"
        },
        "id": "rW65rwk6NVvq",
        "outputId": "d53cd1a4-8e07-455b-b4c7-79776c67180d"
      },
      "execution_count": 21,
      "outputs": [
        {
          "output_type": "stream",
          "name": "stdout",
          "text": [
            "Main function started.\n",
            "Starting data read...\n",
            "Process Logic completed in approximate 2 seconds.\n",
            "Processing Results...: -- ID 1 --\n",
            "Main function completed.\n",
            "Process completed in 2.002322196960449 s\n",
            "Program terminated.\n"
          ]
        }
      ]
    },
    {
      "cell_type": "code",
      "source": [
        "def main():\n",
        "    start_time=time.time()\n",
        "    print(\"Main function started.\")\n",
        "\n",
        "    expected_process_time=2\n",
        "    # Function to read some data and process it using callback function\n",
        "    task1=process_logic(1, expected_process_time, callback_process_result)\n",
        "    task2=process_logic(2, expected_process_time, callback_process_result)\n",
        "    task3=process_logic(3, 3, callback_process_result)\n",
        "\n",
        "    print(\"Main function completed.\")\n",
        "    print(f\"Process completed in {time.time()-start_time} s\")"
      ],
      "metadata": {
        "id": "_ZVny8yEPMCB"
      },
      "execution_count": 23,
      "outputs": []
    },
    {
      "cell_type": "code",
      "source": [
        "if __name__ == \"__main__\":\n",
        "  try :\n",
        "    main()\n",
        "  except Exception as e:\n",
        "    print(e)\n",
        "  finally:\n",
        "    print(\"Program terminated.\")"
      ],
      "metadata": {
        "colab": {
          "base_uri": "https://localhost:8080/"
        },
        "id": "XJ4_8tRJPk8W",
        "outputId": "ae7134bb-26bf-48f3-d036-703bf1480943"
      },
      "execution_count": 25,
      "outputs": [
        {
          "output_type": "stream",
          "name": "stdout",
          "text": [
            "Main function started.\n",
            "Starting data read...\n",
            "Process Logic completed in approximate 2 seconds.\n",
            "Processing Results...: -- ID 1 --\n",
            "Starting data read...\n",
            "Process Logic completed in approximate 2 seconds.\n",
            "Processing Results...: -- ID 2 --\n",
            "Starting data read...\n",
            "Process Logic completed in approximate 3 seconds.\n",
            "Processing Results...: -- ID 3 --\n",
            "Main function completed.\n",
            "Process completed in 7.01043963432312 s\n",
            "Program terminated.\n"
          ]
        }
      ]
    },
    {
      "cell_type": "code",
      "source": [
        "import time\n",
        "import asyncio\n",
        "import nest_asyncio\n",
        "nest_asyncio.apply()"
      ],
      "metadata": {
        "id": "WnlXbfIFRnLI"
      },
      "execution_count": 26,
      "outputs": []
    },
    {
      "cell_type": "code",
      "source": [
        "async def process_logic(id, process_time, callback):\n",
        "    print(f\"Starting Process for {id} at {time.time()}\")\n",
        "    # Simulate data reading with a delay\n",
        "    await asyncio.sleep(process_time)  # Simulates the time taken to read data\n",
        "    print(f\"Process for {id} completed.\", time.time())\n",
        "    result=\"-- ID \" + str(id) + \" --\"\n",
        "\n",
        "    await callback(result)\n",
        "\n",
        "async def callback_process_result(result):\n",
        "    print(f\"Result of {result} Processed in Callback Function {time.time()}\")"
      ],
      "metadata": {
        "id": "FVLfIrY1xGR1"
      },
      "execution_count": 41,
      "outputs": []
    },
    {
      "cell_type": "markdown",
      "source": [
        "Let add"
      ],
      "metadata": {
        "id": "wzN0gZ8eN7jo"
      }
    },
    {
      "cell_type": "code",
      "source": [
        "async def main():\n",
        "    start_time=time.time()\n",
        "    print(time.time())\n",
        "\n",
        "    print(\"Main function started.\")\n",
        "\n",
        "    await process_logic(1, 2, callback_process_result)\n",
        "    await process_logic(2, 4, callback_process_result)\n",
        "\n",
        "    print(\"Main function completed.\")\n",
        "\n",
        "    print(f\"Process completed in {time.time()-start_time} s\")\n",
        "\n",
        "if __name__ == \"__main__\":\n",
        "    asyncio.run(main())"
      ],
      "metadata": {
        "colab": {
          "base_uri": "https://localhost:8080/"
        },
        "id": "ZSJQZGIYPLfz",
        "outputId": "cb33b410-a6c7-427f-a5fa-21cfcbf0f93e"
      },
      "execution_count": 38,
      "outputs": [
        {
          "output_type": "stream",
          "name": "stdout",
          "text": [
            "1722562551.0847342\n",
            "Main function started.\n",
            "Starting Process for 1 at 1722562551.0863972\n",
            "Process for 1 completed. 1722562553.0890903\n",
            "Starting Process for 2 at 1722562553.0892599\n",
            "Process for 2 completed. 1722562557.0903227\n",
            "Main function completed.\n",
            "Process completed in 6.005772113800049 s\n"
          ]
        }
      ]
    },
    {
      "cell_type": "code",
      "source": [
        "async def main():\n",
        "    start_time=time.time()\n",
        "\n",
        "    print(\"Main function started.\", start_time)\n",
        "\n",
        "    task1=asyncio.create_task(process_logic(1, 2, callback_process_result))\n",
        "    print(\"Task - 1 Created. \", time.time())\n",
        "\n",
        "    task2=asyncio.create_task(process_logic(2, 4, callback_process_result))\n",
        "    print(\"Task - 2 Created. \", time.time())\n",
        "\n",
        "    result1=await task1\n",
        "    result2=await task2\n",
        "\n",
        "    print(\"Main function completed.\")\n",
        "\n",
        "    end_time=time.time()\n",
        "    print(f\"Process completed in {end_time-start_time} s\")\n",
        "\n",
        "if __name__ == \"__main__\":\n",
        "    asyncio.run(main())"
      ],
      "metadata": {
        "id": "axABFzcFrmgm",
        "outputId": "6e202b36-dff4-46f8-8d09-90e1e11a1298",
        "colab": {
          "base_uri": "https://localhost:8080/"
        }
      },
      "execution_count": 39,
      "outputs": [
        {
          "output_type": "stream",
          "name": "stdout",
          "text": [
            "Main function started. 1722562583.4881363\n",
            "Task - 1 Created.  1722562583.4895978\n",
            "Task - 2 Created.  1722562583.4906096\n",
            "Starting Process for 1 at 1722562583.4930909\n",
            "Starting Process for 2 at 1722562583.4931927\n",
            "Process for 1 completed. 1722562585.4954877\n",
            "Process for 2 completed. 1722562587.4957988\n",
            "None None\n",
            "Main function completed.\n",
            "Process completed in 4.007936477661133 s\n"
          ]
        }
      ]
    },
    {
      "cell_type": "code",
      "source": [
        "async def main():\n",
        "    start_time=time.time()\n",
        "\n",
        "    print(\"Main function started.\")\n",
        "\n",
        "    task1=process_logic(1, 3, callback_process_result)\n",
        "    task2=process_logic(2, 1, callback_process_result)\n",
        "\n",
        "    tasks=asyncio.gather(task1, task2)\n",
        "    result1, result2 = await tasks\n",
        "\n",
        "    print(\"Main function completed.\")\n",
        "\n",
        "    end_time=time.time()\n",
        "    print(f\"Process completed in {end_time-start_time} s\")\n",
        "\n",
        "if __name__ == \"__main__\":\n",
        "    asyncio.run(main())"
      ],
      "metadata": {
        "id": "MXM2ABa4uAsQ",
        "outputId": "c42128fb-ee0f-42f3-8642-75a7f72f8f0c",
        "colab": {
          "base_uri": "https://localhost:8080/"
        }
      },
      "execution_count": 40,
      "outputs": [
        {
          "output_type": "stream",
          "name": "stdout",
          "text": [
            "Main function started.\n",
            "Starting Process for 1 at 1722562645.1445947\n",
            "Starting Process for 2 at 1722562645.1452174\n",
            "Process for 2 completed. 1722562646.1469977\n",
            "Process for 1 completed. 1722562648.1474829\n",
            "None None\n",
            "Main function completed.\n",
            "Process completed in 3.0067570209503174 s\n"
          ]
        }
      ]
    }
  ]
}