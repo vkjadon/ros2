{
  "nbformat": 4,
  "nbformat_minor": 0,
  "metadata": {
    "colab": {
      "provenance": [],
      "authorship_tag": "ABX9TyPbajkHdaZurm3bsJxOAu/i",
      "include_colab_link": true
    },
    "kernelspec": {
      "name": "python3",
      "display_name": "Python 3"
    },
    "language_info": {
      "name": "python"
    }
  },
  "cells": [
    {
      "cell_type": "markdown",
      "metadata": {
        "id": "view-in-github",
        "colab_type": "text"
      },
      "source": [
        "<a href=\"https://colab.research.google.com/github/vkjadon/ros2/blob/master/callback.ipynb\" target=\"_parent\"><img src=\"https://colab.research.google.com/assets/colab-badge.svg\" alt=\"Open In Colab\"/></a>"
      ]
    },
    {
      "cell_type": "markdown",
      "source": [
        "Let us develop a function"
      ],
      "metadata": {
        "id": "-qjJerZiMvti"
      }
    },
    {
      "cell_type": "code",
      "execution_count": 9,
      "metadata": {
        "id": "UE8-WfDhLB-8"
      },
      "outputs": [],
      "source": [
        "import time"
      ]
    },
    {
      "cell_type": "code",
      "source": [
        "# Synchronously read data and then process it using the callback\n",
        "def any_function(duration, callback):\n",
        "    print(\"Starting data read...\")\n",
        "    # Simulate data reading\n",
        "    time.sleep(duration)\n",
        "    print(\"Data read completed.\")\n",
        "\n",
        "    # Call the callback function with the read data\n",
        "    callback(duration)"
      ],
      "metadata": {
        "id": "LhzSIQanNc2H"
      },
      "execution_count": 10,
      "outputs": []
    },
    {
      "cell_type": "code",
      "source": [
        "def callback_process_data(data):\n",
        "    print(\"Processing data...\")\n",
        "    print(f\"Data received. May take : {data} seconds\")\n",
        "    print(\"Data processing completed.\")"
      ],
      "metadata": {
        "id": "ZqxwoFvBNg5C"
      },
      "execution_count": 11,
      "outputs": []
    },
    {
      "cell_type": "code",
      "source": [
        "def main():\n",
        "    print(\"Main function started.\")\n",
        "\n",
        "    start_time=time.time()\n",
        "\n",
        "    expected_process_time=2\n",
        "    # Function to read some data and process it using callback function\n",
        "    any_function(expected_process_time, callback_process_data)\n",
        "\n",
        "    print(\"Main function completed.\")\n",
        "\n",
        "    end_time=time.time()\n",
        "    print(f\"Process completed in {end_time-start_time} s\")"
      ],
      "metadata": {
        "id": "U5faP4waNnzY"
      },
      "execution_count": 12,
      "outputs": []
    },
    {
      "cell_type": "code",
      "source": [
        "if __name__ == \"__main__\":\n",
        "  try :\n",
        "    main()\n",
        "  except KeyboardInterrupt:\n",
        "    pass\n",
        "  except Exception as e:\n",
        "    print(e)\n"
      ],
      "metadata": {
        "colab": {
          "base_uri": "https://localhost:8080/"
        },
        "id": "rW65rwk6NVvq",
        "outputId": "250b698c-37a3-44ac-e8f0-ff808ccb720e"
      },
      "execution_count": 13,
      "outputs": [
        {
          "output_type": "stream",
          "name": "stdout",
          "text": [
            "Main function started.\n",
            "Starting data read...\n",
            "Data read completed.\n",
            "Processing data...\n",
            "Data received. May take : 2 seconds\n",
            "Data processing completed.\n",
            "Main function completed.\n",
            "Process completed in 2.0042152404785156 s\n"
          ]
        }
      ]
    }
  ]
}