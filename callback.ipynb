{
  "nbformat": 4,
  "nbformat_minor": 0,
  "metadata": {
    "colab": {
      "provenance": [],
      "authorship_tag": "ABX9TyM+uyz5JooWDzEDa8IET8sT",
      "include_colab_link": true
    },
    "kernelspec": {
      "name": "python3",
      "display_name": "Python 3"
    },
    "language_info": {
      "name": "python"
    }
  },
  "cells": [
    {
      "cell_type": "markdown",
      "metadata": {
        "id": "view-in-github",
        "colab_type": "text"
      },
      "source": [
        "<a href=\"https://colab.research.google.com/github/vkjadon/ros2/blob/master/callback.ipynb\" target=\"_parent\"><img src=\"https://colab.research.google.com/assets/colab-badge.svg\" alt=\"Open In Colab\"/></a>"
      ]
    },
    {
      "cell_type": "markdown",
      "source": [
        "# Callback Function"
      ],
      "metadata": {
        "id": "J3LKFr5f0sCg"
      }
    },
    {
      "cell_type": "markdown",
      "source": [
        "A callback function is passed as an argument to another function and is invoked after a specific event or condition within the function is met. Callbacks are commonly used for handling asynchronous operations, events, and tasks that are completed at a later time."
      ],
      "metadata": {
        "id": "CQGPV6TInRqn"
      }
    },
    {
      "cell_type": "markdown",
      "source": [
        "**Decoupling Code:** Callbacks help decouple code by separating the logic that initiates an operation from the logic that handles the result.\n",
        "\n",
        "**Asynchronous Programming:** Callbacks are essential for handling asynchronous operations, such as I/O operations, network requests, and timers.  \n",
        "\n",
        "**Event Handling:** In event-driven programming, callbacks handle events like button clicks, sensor readings, or incoming data.  \n",
        "\n"
      ],
      "metadata": {
        "id": "XnnF6p-Pnn25"
      }
    },
    {
      "cell_type": "markdown",
      "source": [
        "## Decoupling Code"
      ],
      "metadata": {
        "id": "wiVl_fg80yd5"
      }
    },
    {
      "cell_type": "markdown",
      "source": [
        "Let us first take example of using callbacl to decouple code to handle the operation or process to produce some result followed by some action on the result."
      ],
      "metadata": {
        "id": "-qjJerZiMvti"
      }
    },
    {
      "cell_type": "code",
      "execution_count": 1,
      "metadata": {
        "id": "UE8-WfDhLB-8"
      },
      "outputs": [],
      "source": [
        "import time"
      ]
    },
    {
      "cell_type": "code",
      "source": [
        "# Synchronously read data and then process it using the callback\n",
        "def process_logic(id, duration, callback):\n",
        "    print(\"Starting data read...\")\n",
        "    # Simulate data reading\n",
        "    time.sleep(duration)\n",
        "    print(f\"Process Logic completed in approximate {duration} seconds.\")\n",
        "    result=\"-- ID \" + str(id) + \" --\"\n",
        "    # Call the callback function with the read data\n",
        "    callback(result)"
      ],
      "metadata": {
        "id": "LhzSIQanNc2H"
      },
      "execution_count": 2,
      "outputs": []
    },
    {
      "cell_type": "code",
      "source": [
        "def callback_process_result(result):\n",
        "    print(f\"Processing Results...: {result}\")"
      ],
      "metadata": {
        "id": "ZqxwoFvBNg5C"
      },
      "execution_count": 3,
      "outputs": []
    },
    {
      "cell_type": "code",
      "source": [
        "def main():\n",
        "    print(\"Main function started.\")\n",
        "\n",
        "    start_time=time.time()\n",
        "\n",
        "    expected_process_time=2\n",
        "\n",
        "    # Function to read some data and process it using callback function\n",
        "    task1=process_logic(1, expected_process_time, callback_process_result)\n",
        "\n",
        "    print(\"Main function completed.\")\n",
        "\n",
        "    print(f\"Process completed in {time.time()-start_time} s\")"
      ],
      "metadata": {
        "id": "U5faP4waNnzY"
      },
      "execution_count": 6,
      "outputs": []
    },
    {
      "cell_type": "code",
      "source": [
        "if __name__ == \"__main__\":\n",
        "  try :\n",
        "    main()\n",
        "  except Exception as e:\n",
        "    print(e)\n",
        "  finally:\n",
        "    print(\"Program terminated.\")"
      ],
      "metadata": {
        "colab": {
          "base_uri": "https://localhost:8080/"
        },
        "id": "rW65rwk6NVvq",
        "outputId": "a5f9a7da-6a1e-4070-851d-15af57d023bc"
      },
      "execution_count": 5,
      "outputs": [
        {
          "output_type": "stream",
          "name": "stdout",
          "text": [
            "Main function started.\n",
            "Starting data read...\n",
            "Process Logic completed in approximate 2 seconds.\n",
            "Processing Results...: -- ID 1 --\n",
            "Main function completed.\n",
            "Process completed in 2.0027382373809814 s\n",
            "Program terminated.\n"
          ]
        }
      ]
    },
    {
      "cell_type": "code",
      "source": [
        "def main():\n",
        "    start_time=time.time()\n",
        "    print(\"Main function started.\")\n",
        "\n",
        "    expected_process_time=2\n",
        "    # Function to read some data and process it using callback function\n",
        "    task1=process_logic(1, expected_process_time, callback_process_result)\n",
        "    task2=process_logic(2, expected_process_time, callback_process_result)\n",
        "    task3=process_logic(3, 3, callback_process_result)\n",
        "\n",
        "    print(\"Main function completed.\")\n",
        "    print(f\"Process completed in {time.time()-start_time} s\")"
      ],
      "metadata": {
        "id": "_ZVny8yEPMCB"
      },
      "execution_count": null,
      "outputs": []
    },
    {
      "cell_type": "code",
      "source": [
        "if __name__ == \"__main__\":\n",
        "  try :\n",
        "    main()\n",
        "  except Exception as e:\n",
        "    print(e)\n",
        "  finally:\n",
        "    print(\"Program terminated.\")"
      ],
      "metadata": {
        "colab": {
          "base_uri": "https://localhost:8080/"
        },
        "id": "XJ4_8tRJPk8W",
        "outputId": "9719fe51-c9e6-4add-d81d-c812861b1d2a"
      },
      "execution_count": null,
      "outputs": [
        {
          "output_type": "stream",
          "name": "stdout",
          "text": [
            "Main function started.\n",
            "Starting data read...\n",
            "Process Logic completed in approximate 2 seconds.\n",
            "Processing Results...: -- ID 1 --\n",
            "Starting data read...\n",
            "Process Logic completed in approximate 2 seconds.\n",
            "Processing Results...: -- ID 2 --\n",
            "Starting data read...\n",
            "Process Logic completed in approximate 3 seconds.\n",
            "Processing Results...: -- ID 3 --\n",
            "Main function completed.\n",
            "Process completed in 7.015010118484497 s\n",
            "Program terminated.\n"
          ]
        }
      ]
    },
    {
      "cell_type": "code",
      "source": [
        "import time\n",
        "import asyncio\n",
        "import nest_asyncio\n",
        "nest_asyncio.apply()"
      ],
      "metadata": {
        "id": "WnlXbfIFRnLI"
      },
      "execution_count": null,
      "outputs": []
    },
    {
      "cell_type": "code",
      "source": [
        "async def process_logic(id, process_time, callback):\n",
        "    print(f\"Starting Process for {id} at {time.time()}\")\n",
        "    # Simulate data reading with a delay\n",
        "    await asyncio.sleep(process_time)  # Simulates the time taken to read data\n",
        "    print(f\"Process for {id} completed.\", time.time())\n",
        "    result=\"-- ID \" + str(id) + \" --\"\n",
        "\n",
        "    await callback(result)\n",
        "\n",
        "async def callback_process_result(result):\n",
        "    print(f\"Result of {result} Processed in Callback Function {time.time()}\")"
      ],
      "metadata": {
        "id": "FVLfIrY1xGR1"
      },
      "execution_count": null,
      "outputs": []
    },
    {
      "cell_type": "markdown",
      "source": [
        "Let add"
      ],
      "metadata": {
        "id": "wzN0gZ8eN7jo"
      }
    },
    {
      "cell_type": "code",
      "source": [
        "async def main():\n",
        "    start_time=time.time()\n",
        "    print(time.time())\n",
        "\n",
        "    print(\"Main function started.\")\n",
        "\n",
        "    await process_logic(1, 2, callback_process_result)\n",
        "    await process_logic(2, 4, callback_process_result)\n",
        "\n",
        "    print(\"Main function completed.\")\n",
        "\n",
        "    print(f\"Process completed in {time.time()-start_time} s\")\n",
        "\n",
        "if __name__ == \"__main__\":\n",
        "    asyncio.run(main())"
      ],
      "metadata": {
        "colab": {
          "base_uri": "https://localhost:8080/"
        },
        "id": "ZSJQZGIYPLfz",
        "outputId": "ca6dbef4-67b9-4d97-800d-dd671d5e474e"
      },
      "execution_count": null,
      "outputs": [
        {
          "output_type": "stream",
          "name": "stdout",
          "text": [
            "1722563114.599187\n",
            "Main function started.\n",
            "Starting Process for 1 at 1722563114.6005733\n",
            "Process for 1 completed. 1722563116.6018157\n",
            "Result of -- ID 1 -- Processed in Callback Function 1722563116.6029792\n",
            "Starting Process for 2 at 1722563116.6030185\n",
            "Process for 2 completed. 1722563120.60733\n",
            "Result of -- ID 2 -- Processed in Callback Function 1722563120.6086285\n",
            "Main function completed.\n",
            "Process completed in 6.0103020668029785 s\n"
          ]
        }
      ]
    },
    {
      "cell_type": "code",
      "source": [
        "async def main():\n",
        "    start_time=time.time()\n",
        "\n",
        "    print(\"Main function started.\", start_time)\n",
        "\n",
        "    task1=asyncio.create_task(process_logic(1, 2, callback_process_result))\n",
        "    print(\"Task - 1 Created. \", time.time())\n",
        "\n",
        "    task2=asyncio.create_task(process_logic(2, 4, callback_process_result))\n",
        "    print(\"Task - 2 Created. \", time.time())\n",
        "\n",
        "    result1=await task1\n",
        "    result2=await task2\n",
        "\n",
        "    print(\"Main function completed.\")\n",
        "\n",
        "    end_time=time.time()\n",
        "    print(f\"Process completed in {end_time-start_time} s\")\n",
        "\n",
        "if __name__ == \"__main__\":\n",
        "    asyncio.run(main())"
      ],
      "metadata": {
        "id": "axABFzcFrmgm",
        "outputId": "c27045fa-6ffb-46de-dabc-2594a59b8a22",
        "colab": {
          "base_uri": "https://localhost:8080/"
        }
      },
      "execution_count": null,
      "outputs": [
        {
          "output_type": "stream",
          "name": "stdout",
          "text": [
            "Main function started. 1722563120.618461\n",
            "Task - 1 Created.  1722563120.6185822\n",
            "Task - 2 Created.  1722563120.6186633\n",
            "Starting Process for 1 at 1722563120.6191363\n",
            "Starting Process for 2 at 1722563120.6192296\n",
            "Process for 1 completed. 1722563122.6203835\n",
            "Result of -- ID 1 -- Processed in Callback Function 1722563122.6215506\n",
            "Process for 2 completed. 1722563124.6218333\n",
            "Result of -- ID 2 -- Processed in Callback Function 1722563124.6227734\n",
            "Main function completed.\n",
            "Process completed in 4.0044450759887695 s\n"
          ]
        }
      ]
    },
    {
      "cell_type": "code",
      "source": [
        "async def main():\n",
        "    start_time=time.time()\n",
        "\n",
        "    print(\"Main function started.\")\n",
        "\n",
        "    task1=process_logic(1, 3, callback_process_result)\n",
        "    task2=process_logic(2, 1, callback_process_result)\n",
        "\n",
        "    result1, result2=await asyncio.gather(task1, task2)\n",
        "\n",
        "    print(result1, result2)\n",
        "    print(\"Main function completed.\")\n",
        "\n",
        "    end_time=time.time()\n",
        "    print(f\"Process completed in {end_time-start_time} s\")\n",
        "\n",
        "if __name__ == \"__main__\":\n",
        "    asyncio.run(main())"
      ],
      "metadata": {
        "id": "MXM2ABa4uAsQ",
        "outputId": "31f18eb0-1a71-497c-bf90-63f1480323e5",
        "colab": {
          "base_uri": "https://localhost:8080/"
        }
      },
      "execution_count": null,
      "outputs": [
        {
          "output_type": "stream",
          "name": "stdout",
          "text": [
            "Main function started.\n",
            "Starting Process for 1 at 1722563124.635456\n",
            "Starting Process for 2 at 1722563124.6359649\n",
            "Process for 2 completed. 1722563125.6372602\n",
            "Result of -- ID 2 -- Processed in Callback Function 1722563125.6374109\n",
            "Process for 1 completed. 1722563127.6378431\n",
            "Result of -- ID 1 -- Processed in Callback Function 1722563127.6379845\n",
            "None None\n",
            "Main function completed.\n",
            "Process completed in 3.0031042098999023 s\n"
          ]
        }
      ]
    }
  ]
}