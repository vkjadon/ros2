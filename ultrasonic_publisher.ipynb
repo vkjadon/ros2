{
  "nbformat": 4,
  "nbformat_minor": 0,
  "metadata": {
    "colab": {
      "provenance": [],
      "authorship_tag": "ABX9TyNpanVM/zeY8AeBzu+fbPIv",
      "include_colab_link": true
    },
    "kernelspec": {
      "name": "python3",
      "display_name": "Python 3"
    },
    "language_info": {
      "name": "python"
    }
  },
  "cells": [
    {
      "cell_type": "markdown",
      "metadata": {
        "id": "view-in-github",
        "colab_type": "text"
      },
      "source": [
        "<a href=\"https://colab.research.google.com/github/vkjadon/ros2/blob/master/ultrasonic_publisher.ipynb\" target=\"_parent\"><img src=\"https://colab.research.google.com/assets/colab-badge.svg\" alt=\"Open In Colab\"/></a>"
      ]
    },
    {
      "cell_type": "code",
      "execution_count": null,
      "metadata": {
        "id": "NGqXvYC8NdlE"
      },
      "outputs": [],
      "source": [
        "import rclpy\n",
        "from rclpy.node import Node\n",
        "from std_msgs.msg import Float32\n",
        "import RPi.GPIO as GPIO\n",
        "import time\n",
        "\n",
        "class UltrasonicPublisher(Node):\n",
        "    def __init__(self):\n",
        "        super().__init__('ultrasonic_publisher')\n",
        "        self.publisher_ = self.create_publisher(Float32, 'ultrasonic_distance', 10)\n",
        "        self.timer = self.create_timer(1.0, self.timer_callback)\n",
        "\n",
        "        # GPIO Mode (BOARD / BCM)\n",
        "        GPIO.setmode(GPIO.BCM)\n",
        "\n",
        "        # Set GPIO Pins\n",
        "        self.GPIO_TRIGGER = 18\n",
        "        self.GPIO_ECHO = 24\n",
        "\n",
        "        # Set GPIO direction (IN / OUT)\n",
        "        GPIO.setup(self.GPIO_TRIGGER, GPIO.OUT)\n",
        "        GPIO.setup(self.GPIO_ECHO, GPIO.IN)\n",
        "\n",
        "    def timer_callback(self):\n",
        "        distance = self.read_distance()\n",
        "        self.publisher_.publish(Float32(data=distance))\n",
        "        self.get_logger().info(f'Publishing: {distance} cm')\n",
        "\n",
        "    def read_distance(self):\n",
        "        # Set Trigger to HIGH\n",
        "        GPIO.output(self.GPIO_TRIGGER, True)\n",
        "\n",
        "        # Set Trigger after 0.01ms to LOW\n",
        "        time.sleep(0.00001)\n",
        "        GPIO.output(self.GPIO_TRIGGER, False)\n",
        "\n",
        "        start_time = time.time()\n",
        "        stop_time = time.time()\n",
        "\n",
        "        # Save StartTime\n",
        "        while GPIO.input(self.GPIO_ECHO) == 0:\n",
        "            start_time = time.time()\n",
        "\n",
        "        # Save time of arrival\n",
        "        while GPIO.input(self.GPIO_ECHO) == 1:\n",
        "            stop_time = time.time()\n",
        "\n",
        "        # Time difference between start and arrival\n",
        "        time_elapsed = stop_time - start_time\n",
        "        # Multiply with the sonic speed (34300 cm/s) and divide by 2\n",
        "        distance = (time_elapsed * 34300) / 2\n",
        "\n",
        "        return distance\n",
        "\n",
        "    def __del__(self):\n",
        "        GPIO.cleanup()\n",
        "\n",
        "def main(args=None):\n",
        "    rclpy.init(args=args)\n",
        "    node = UltrasonicPublisher()\n",
        "    try:\n",
        "        rclpy.spin(node)\n",
        "    except KeyboardInterrupt:\n",
        "        pass\n",
        "    finally:\n",
        "        node.destroy_node()\n",
        "        rclpy.shutdown()\n",
        "\n",
        "if __name__ == '__main__':\n",
        "    main()\n"
      ]
    }
  ]
}