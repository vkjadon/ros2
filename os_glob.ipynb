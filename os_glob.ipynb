{
  "nbformat": 4,
  "nbformat_minor": 0,
  "metadata": {
    "colab": {
      "provenance": [],
      "authorship_tag": "ABX9TyNh7MFSERVucPV3KzFkMEUx",
      "include_colab_link": true
    },
    "kernelspec": {
      "name": "python3",
      "display_name": "Python 3"
    },
    "language_info": {
      "name": "python"
    }
  },
  "cells": [
    {
      "cell_type": "markdown",
      "metadata": {
        "id": "view-in-github",
        "colab_type": "text"
      },
      "source": [
        "<a href=\"https://colab.research.google.com/github/vkjadon/ros2/blob/master/os_glob.ipynb\" target=\"_parent\"><img src=\"https://colab.research.google.com/assets/colab-badge.svg\" alt=\"Open In Colab\"/></a>"
      ]
    },
    {
      "cell_type": "code",
      "source": [
        "import os\n",
        "import glob"
      ],
      "metadata": {
        "id": "fA-xNVqy4WC7"
      },
      "execution_count": 5,
      "outputs": []
    },
    {
      "cell_type": "markdown",
      "source": [
        "# Step 1: Create a directory structure"
      ],
      "metadata": {
        "id": "_WyEGEL74W0O"
      }
    },
    {
      "cell_type": "code",
      "source": [
        "def create_directory_structure(base_dir):\n",
        "    # Create base directory\n",
        "    os.makedirs(base_dir, exist_ok=True)\n",
        "\n",
        "    sub_dirs = ['dir1', 'dir2', 'dir3']\n",
        "    create_sub_dir(base_dir, sub_dirs)\n",
        "\n",
        "    files = ['file1.txt', 'file2.log', 'file3.txt', 'file4.py']\n",
        "    create_files(base_dir, sub_dirs, files)"
      ],
      "metadata": {
        "id": "ly5BQf0Y6Ci-"
      },
      "execution_count": 8,
      "outputs": []
    },
    {
      "cell_type": "markdown",
      "source": [
        "# Create subdirectories"
      ],
      "metadata": {
        "id": "iTZELg214dpA"
      }
    },
    {
      "cell_type": "code",
      "source": [
        "def create_sub_dir(base_dir, sub_dirs):\n",
        "\n",
        "    for sub_dir in sub_dirs:\n",
        "        os.makedirs(os.path.join(base_dir, sub_dir), exist_ok=True)"
      ],
      "metadata": {
        "id": "teRgZ4ee5kCf"
      },
      "execution_count": 9,
      "outputs": []
    },
    {
      "cell_type": "markdown",
      "source": [
        "# Create some example files"
      ],
      "metadata": {
        "id": "oTNevcfI4gbI"
      }
    },
    {
      "cell_type": "code",
      "source": [
        "def create_files(base_dir, sub_dirs, files):\n",
        "    for sub_dir in sub_dirs:\n",
        "        for file_name in files:\n",
        "            file_path = os.path.join(base_dir, sub_dir, file_name)\n",
        "            with open(file_path, 'w') as f:\n",
        "                f.write(f\"This is {file_name} in {sub_dir}\")"
      ],
      "metadata": {
        "id": "2tGe6aPG4ioX"
      },
      "execution_count": 10,
      "outputs": []
    },
    {
      "cell_type": "markdown",
      "source": [
        "# Step 2: Use os.path.join to construct paths"
      ],
      "metadata": {
        "id": "TeXSyC1p7JY5"
      }
    },
    {
      "cell_type": "code",
      "execution_count": null,
      "metadata": {
        "colab": {
          "base_uri": "https://localhost:8080/"
        },
        "id": "zzNlLdp14IPS",
        "outputId": "ca7db364-9365-4f46-9f18-c04591ad33c8"
      },
      "outputs": [
        {
          "output_type": "stream",
          "name": "stdout",
          "text": [
            "Constructing file paths using os.path.join:\n",
            "example_directory/dir1/file1.txt\n",
            "example_directory/dir1/file4.py\n",
            "example_directory/dir2/file1.txt\n",
            "example_directory/dir2/file4.py\n",
            "example_directory/dir3/file1.txt\n",
            "example_directory/dir3/file4.py\n",
            "\n",
            "Finding files using glob:\n",
            "example_directory/dir1/file1.txt\n",
            "example_directory/dir1/file3.txt\n",
            "example_directory/dir3/file1.txt\n",
            "example_directory/dir3/file3.txt\n",
            "example_directory/dir2/file1.txt\n",
            "example_directory/dir2/file3.txt\n"
          ]
        }
      ],
      "source": [
        "\n",
        "def construct_paths(base_dir):\n",
        "    print(\"Constructing file paths using os.path.join:\")\n",
        "    sub_dirs = ['dir1', 'dir2', 'dir3']\n",
        "    files = ['file1.txt', 'file4.py']\n",
        "\n",
        "    for sub_dir in sub_dirs:\n",
        "        for file_name in files:\n",
        "            file_path = os.path.join(base_dir, sub_dir, file_name)\n",
        "            print(file_path)\n",
        "\n",
        "# Step 3: Use glob to find files matching a pattern\n",
        "def find_files(base_dir):\n",
        "    print(\"\\nFinding files using glob:\")\n",
        "\n",
        "    # Find all .txt files in the base directory and its subdirectories\n",
        "    pattern = os.path.join(base_dir, '**', '*.txt')\n",
        "    txt_files = glob.glob(pattern, recursive=True)\n",
        "\n",
        "    for file in txt_files:\n",
        "        print(file)\n",
        "\n",
        "if __name__ == '__main__':\n",
        "    base_directory = 'example_directory'\n",
        "\n",
        "    # Create the directory structure and files\n",
        "    create_directory_structure(base_directory)\n",
        "\n",
        "    # Construct paths using os.path.join\n",
        "    construct_paths(base_directory)\n",
        "\n",
        "    # Find files using glob\n",
        "    find_files(base_directory)\n"
      ]
    }
  ]
}