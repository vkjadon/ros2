{
  "nbformat": 4,
  "nbformat_minor": 0,
  "metadata": {
    "colab": {
      "provenance": [],
      "authorship_tag": "ABX9TyPB9Fu62LcXUYxaWf/JBFai",
      "include_colab_link": true
    },
    "kernelspec": {
      "name": "python3",
      "display_name": "Python 3"
    },
    "language_info": {
      "name": "python"
    }
  },
  "cells": [
    {
      "cell_type": "markdown",
      "metadata": {
        "id": "view-in-github",
        "colab_type": "text"
      },
      "source": [
        "<a href=\"https://colab.research.google.com/github/vkjadon/ros2/blob/master/os_glob.ipynb\" target=\"_parent\"><img src=\"https://colab.research.google.com/assets/colab-badge.svg\" alt=\"Open In Colab\"/></a>"
      ]
    },
    {
      "cell_type": "code",
      "source": [
        "import os\n",
        "import glob"
      ],
      "metadata": {
        "id": "fA-xNVqy4WC7"
      },
      "execution_count": 5,
      "outputs": []
    },
    {
      "cell_type": "markdown",
      "source": [
        "# Step 1: Create a directory structure"
      ],
      "metadata": {
        "id": "_WyEGEL74W0O"
      }
    },
    {
      "cell_type": "code",
      "source": [
        "def create_directory_structure(base_dir):\n",
        "    # Create base directory\n",
        "    os.makedirs(base_dir, exist_ok=True)\n",
        "\n",
        "    sub_dirs = ['dir1', 'dir2', 'dir3']\n",
        "    create_sub_dir(base_dir, sub_dirs)\n",
        "\n",
        "    files = ['file1.txt', 'file2.log', 'file3.txt', 'file4.py']\n",
        "    create_files(base_dir, sub_dirs, files)"
      ],
      "metadata": {
        "id": "ly5BQf0Y6Ci-"
      },
      "execution_count": 8,
      "outputs": []
    },
    {
      "cell_type": "markdown",
      "source": [
        "# Create subdirectories"
      ],
      "metadata": {
        "id": "iTZELg214dpA"
      }
    },
    {
      "cell_type": "code",
      "source": [
        "def create_sub_dir(base_dir, sub_dirs):\n",
        "\n",
        "    for sub_dir in sub_dirs:\n",
        "        os.makedirs(os.path.join(base_dir, sub_dir), exist_ok=True)"
      ],
      "metadata": {
        "id": "teRgZ4ee5kCf"
      },
      "execution_count": 9,
      "outputs": []
    },
    {
      "cell_type": "markdown",
      "source": [
        "# Create some example files"
      ],
      "metadata": {
        "id": "oTNevcfI4gbI"
      }
    },
    {
      "cell_type": "code",
      "source": [
        "def create_files(base_dir, sub_dirs, files):\n",
        "    for sub_dir in sub_dirs:\n",
        "        for file_name in files:\n",
        "            file_path = os.path.join(base_dir, sub_dir, file_name)\n",
        "            with open(file_path, 'w') as f:\n",
        "                f.write(f\"This is {file_name} in {sub_dir}\")"
      ],
      "metadata": {
        "id": "2tGe6aPG4ioX"
      },
      "execution_count": 10,
      "outputs": []
    },
    {
      "cell_type": "code",
      "source": [
        "base_directory = 'example_directory'\n",
        "\n",
        "# Create the directory structure and files\n",
        "create_directory_structure(base_directory)"
      ],
      "metadata": {
        "id": "6IVy8b4q8F_X"
      },
      "execution_count": 13,
      "outputs": []
    },
    {
      "cell_type": "markdown",
      "source": [
        "# Step 2: Use os.path.join to construct paths"
      ],
      "metadata": {
        "id": "TeXSyC1p7JY5"
      }
    },
    {
      "cell_type": "code",
      "execution_count": 11,
      "metadata": {
        "id": "zzNlLdp14IPS"
      },
      "outputs": [],
      "source": [
        "def construct_paths(base_dir):\n",
        "    print(\"Constructing file paths using os.path.join:\")\n",
        "    sub_dirs = ['dir1', 'dir2', 'dir3']\n",
        "    files = ['file1.txt', 'file4.py']\n",
        "\n",
        "    for sub_dir in sub_dirs:\n",
        "        for file_name in files:\n",
        "            file_path = os.path.join(base_dir, sub_dir, file_name)\n",
        "            print(file_path)"
      ]
    },
    {
      "cell_type": "code",
      "source": [
        "# Construct paths using os.path.join\n",
        "construct_paths(base_directory)"
      ],
      "metadata": {
        "colab": {
          "base_uri": "https://localhost:8080/"
        },
        "id": "UmGUYN-L8e2s",
        "outputId": "44de8423-2e7c-447a-aad9-79e080e3dca1"
      },
      "execution_count": 14,
      "outputs": [
        {
          "output_type": "stream",
          "name": "stdout",
          "text": [
            "Constructing file paths using os.path.join:\n",
            "example_directory9/dir1/file1.txt\n",
            "example_directory9/dir1/file4.py\n",
            "example_directory9/dir2/file1.txt\n",
            "example_directory9/dir2/file4.py\n",
            "example_directory9/dir3/file1.txt\n",
            "example_directory9/dir3/file4.py\n"
          ]
        }
      ]
    },
    {
      "cell_type": "code",
      "source": [
        "# Step 3: Use glob to find files matching a pattern\n",
        "def find_files(base_dir):\n",
        "    print(\"\\nFinding files using glob:\")\n",
        "\n",
        "    # Find all .txt files in the base directory and its subdirectories\n",
        "    pattern = os.path.join(base_dir, '**', '*.txt')\n",
        "    txt_files = glob.glob(pattern, recursive=True)\n",
        "\n",
        "    for file in txt_files:\n",
        "        print(file)"
      ],
      "metadata": {
        "id": "Tv1HpgYV7jM5"
      },
      "execution_count": null,
      "outputs": []
    },
    {
      "cell_type": "code",
      "source": [
        "# Find files using glob\n",
        "find_files(base_directory)"
      ],
      "metadata": {
        "colab": {
          "base_uri": "https://localhost:8080/"
        },
        "id": "q1h0yqAK8YnV",
        "outputId": "5806bc8d-2d06-47b8-97fa-6bb278430e34"
      },
      "execution_count": 15,
      "outputs": [
        {
          "output_type": "stream",
          "name": "stdout",
          "text": [
            "\n",
            "Finding files using glob:\n",
            "example_directory9/dir1/file1.txt\n",
            "example_directory9/dir1/file3.txt\n",
            "example_directory9/dir3/file1.txt\n",
            "example_directory9/dir3/file3.txt\n",
            "example_directory9/dir2/file1.txt\n",
            "example_directory9/dir2/file3.txt\n"
          ]
        }
      ]
    }
  ]
}