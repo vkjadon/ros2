{
  "nbformat": 4,
  "nbformat_minor": 0,
  "metadata": {
    "colab": {
      "provenance": [],
      "authorship_tag": "ABX9TyMK2FoAVfuXOgKLR1wZd7rA",
      "include_colab_link": true
    },
    "kernelspec": {
      "name": "python3",
      "display_name": "Python 3"
    },
    "language_info": {
      "name": "python"
    }
  },
  "cells": [
    {
      "cell_type": "markdown",
      "metadata": {
        "id": "view-in-github",
        "colab_type": "text"
      },
      "source": [
        "<a href=\"https://colab.research.google.com/github/vkjadon/ros2/blob/master/try.ipynb\" target=\"_parent\"><img src=\"https://colab.research.google.com/assets/colab-badge.svg\" alt=\"Open In Colab\"/></a>"
      ]
    },
    {
      "cell_type": "code",
      "execution_count": null,
      "metadata": {
        "colab": {
          "base_uri": "https://localhost:8080/"
        },
        "id": "Q0DskqRHPZKH",
        "outputId": "12ef9be2-6369-4c34-e64c-eaa564c8c6cc"
      },
      "outputs": [
        {
          "output_type": "stream",
          "name": "stdout",
          "text": [
            "[Errno 2] No such file or directory: 'test.txt'\n",
            "Running Anyway ! \n"
          ]
        }
      ],
      "source": [
        "try:\n",
        "  test_file=open(\"test.txt\")\n",
        "  x=9\n",
        "except FileNotFoundError as error :\n",
        "  print(error)\n",
        "except Exception as error :\n",
        "  print(error)\n",
        "else :\n",
        "  print(test_file.read())\n",
        "  test_file.close()\n",
        "finally:\n",
        "  print(\"Running Anyway ! \")"
      ]
    }
  ]
}