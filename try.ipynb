{
  "nbformat": 4,
  "nbformat_minor": 0,
  "metadata": {
    "colab": {
      "provenance": [],
      "authorship_tag": "ABX9TyMVwSYxAtmyRsfcHDTNf+lI",
      "include_colab_link": true
    },
    "kernelspec": {
      "name": "python3",
      "display_name": "Python 3"
    },
    "language_info": {
      "name": "python"
    }
  },
  "cells": [
    {
      "cell_type": "markdown",
      "metadata": {
        "id": "view-in-github",
        "colab_type": "text"
      },
      "source": [
        "<a href=\"https://colab.research.google.com/github/vkjadon/ros2/blob/master/try.ipynb\" target=\"_parent\"><img src=\"https://colab.research.google.com/assets/colab-badge.svg\" alt=\"Open In Colab\"/></a>"
      ]
    },
    {
      "cell_type": "markdown",
      "source": [
        "Provides a robust way to handle exceptions and ensures your code can gracefully deal unexpected conditions without crashing.\n",
        "\n",
        "Issues that occur at the compilation stage are errors.  \n",
        "Examples:  \n",
        "* SyntaxError : Incorrect Python syntax.\n",
        "* IndentationError : Incorrect indentation.\n",
        "\n",
        "An exception is an event that disrupts the program's execution but can be handled programmatically.   \n",
        "Examples:  \n",
        "* ZeroDivisionError : Incorrect Python syntax.\n",
        "* FileNotFoundError : Incorrect indentation.\n"
      ],
      "metadata": {
        "id": "KQWoR8cLZXb4"
      }
    },
    {
      "cell_type": "code",
      "source": [
        "x=y"
      ],
      "metadata": {
        "colab": {
          "base_uri": "https://localhost:8080/",
          "height": 144
        },
        "id": "8xz5ED0sZtlU",
        "outputId": "7eef8f25-d769-4d72-d77c-aa5bc594eb40"
      },
      "execution_count": 1,
      "outputs": [
        {
          "output_type": "error",
          "ename": "NameError",
          "evalue": "name 'y' is not defined",
          "traceback": [
            "\u001b[0;31m---------------------------------------------------------------------------\u001b[0m",
            "\u001b[0;31mNameError\u001b[0m                                 Traceback (most recent call last)",
            "\u001b[0;32m<ipython-input-1-0735f09cdc17>\u001b[0m in \u001b[0;36m<cell line: 1>\u001b[0;34m()\u001b[0m\n\u001b[0;32m----> 1\u001b[0;31m \u001b[0mx\u001b[0m\u001b[0;34m=\u001b[0m\u001b[0my\u001b[0m\u001b[0;34m\u001b[0m\u001b[0;34m\u001b[0m\u001b[0m\n\u001b[0m",
            "\u001b[0;31mNameError\u001b[0m: name 'y' is not defined"
          ]
        }
      ]
    },
    {
      "cell_type": "markdown",
      "source": [
        "We can provide custom error messages that are more informative and user-friendly than the default traceback."
      ],
      "metadata": {
        "id": "cgud9DoMcdxd"
      }
    },
    {
      "cell_type": "code",
      "source": [
        "try:\n",
        "  x=y\n",
        "except Exception:\n",
        "  print(\"An exception occurred\")"
      ],
      "metadata": {
        "colab": {
          "base_uri": "https://localhost:8080/"
        },
        "id": "G3ywBH99cWem",
        "outputId": "7074c04f-eafa-443f-c333-bed26b83d997"
      },
      "execution_count": 3,
      "outputs": [
        {
          "output_type": "stream",
          "name": "stdout",
          "text": [
            "An exception occurred\n"
          ]
        }
      ]
    },
    {
      "cell_type": "markdown",
      "source": [
        "Keeping the main logic (try) and exceptions handling (except) separate makes the code cleaner and easier to understand"
      ],
      "metadata": {
        "id": "7vlLhcdze7n-"
      }
    },
    {
      "cell_type": "markdown",
      "source": [],
      "metadata": {
        "id": "PNWMj5T_e7lL"
      }
    },
    {
      "cell_type": "code",
      "source": [
        "try:\n",
        "  x=y\n",
        "except NameError:\n",
        "  print(\"NameError exception occurred\")"
      ],
      "metadata": {
        "colab": {
          "base_uri": "https://localhost:8080/"
        },
        "id": "a8lV1tJ-d3Lc",
        "outputId": "bc0106b4-25d9-418d-8e8a-80aa85affef0"
      },
      "execution_count": 6,
      "outputs": [
        {
          "output_type": "stream",
          "name": "stdout",
          "text": [
            "NameError exception occurred\n"
          ]
        }
      ]
    },
    {
      "cell_type": "markdown",
      "source": [
        "Another method to handle the exception is the use of default clean error message"
      ],
      "metadata": {
        "id": "5JQvVN3qeImR"
      }
    },
    {
      "cell_type": "code",
      "source": [
        "try:\n",
        "  x=y\n",
        "except Exception as error:\n",
        "  print(error)"
      ],
      "metadata": {
        "colab": {
          "base_uri": "https://localhost:8080/"
        },
        "id": "fy-6JLEFdgKY",
        "outputId": "66f8e1dd-ad98-4078-e73f-f6d15c2c59a5"
      },
      "execution_count": 4,
      "outputs": [
        {
          "output_type": "stream",
          "name": "stdout",
          "text": [
            "name 'y' is not defined\n"
          ]
        }
      ]
    },
    {
      "cell_type": "code",
      "source": [
        "try:\n",
        "  x=y\n",
        "except Exception as error:\n",
        "  print(\"NameError exception occurred\")\n",
        "  print(error)"
      ],
      "metadata": {
        "colab": {
          "base_uri": "https://localhost:8080/"
        },
        "id": "D4NXrvy4giAE",
        "outputId": "c5f7ad01-f8a1-40b1-93d2-827a239e41af"
      },
      "execution_count": 15,
      "outputs": [
        {
          "output_type": "stream",
          "name": "stdout",
          "text": [
            "NameError exception occurred\n",
            "name 'y' is not defined\n"
          ]
        }
      ]
    },
    {
      "cell_type": "markdown",
      "source": [],
      "metadata": {
        "id": "hv5HZXIzc2hG"
      }
    },
    {
      "cell_type": "code",
      "source": [
        "test_file=open(\"test.txt\")\n",
        "x=9"
      ],
      "metadata": {
        "colab": {
          "base_uri": "https://localhost:8080/",
          "height": 162
        },
        "id": "F4b2BePwcb_-",
        "outputId": "7c89bdef-cf5a-4c0e-9eb4-604443309926"
      },
      "execution_count": 12,
      "outputs": [
        {
          "output_type": "error",
          "ename": "FileNotFoundError",
          "evalue": "[Errno 2] No such file or directory: 'test.txt'",
          "traceback": [
            "\u001b[0;31m---------------------------------------------------------------------------\u001b[0m",
            "\u001b[0;31mFileNotFoundError\u001b[0m                         Traceback (most recent call last)",
            "\u001b[0;32m<ipython-input-12-8dd0c4fb3e33>\u001b[0m in \u001b[0;36m<cell line: 1>\u001b[0;34m()\u001b[0m\n\u001b[0;32m----> 1\u001b[0;31m \u001b[0mtest_file\u001b[0m\u001b[0;34m=\u001b[0m\u001b[0mopen\u001b[0m\u001b[0;34m(\u001b[0m\u001b[0;34m\"test.txt\"\u001b[0m\u001b[0;34m)\u001b[0m\u001b[0;34m\u001b[0m\u001b[0;34m\u001b[0m\u001b[0m\n\u001b[0m\u001b[1;32m      2\u001b[0m \u001b[0mx\u001b[0m\u001b[0;34m=\u001b[0m\u001b[0;36m9\u001b[0m\u001b[0;34m\u001b[0m\u001b[0;34m\u001b[0m\u001b[0m\n",
            "\u001b[0;31mFileNotFoundError\u001b[0m: [Errno 2] No such file or directory: 'test.txt'"
          ]
        }
      ]
    },
    {
      "cell_type": "code",
      "source": [
        "try:\n",
        "  test_file=open(\"test.txt\")\n",
        "  x=y\n",
        "except FileNotFoundError as error :\n",
        "  print(error)\n",
        "except Exception as error :\n",
        "  print(error)"
      ],
      "metadata": {
        "colab": {
          "base_uri": "https://localhost:8080/"
        },
        "id": "IodB3HWEemJu",
        "outputId": "b1c4f9cb-a845-4d5a-d426-c1bec0aa9b09"
      },
      "execution_count": 13,
      "outputs": [
        {
          "output_type": "stream",
          "name": "stdout",
          "text": [
            "[Errno 2] No such file or directory: 'test.txt'\n"
          ]
        }
      ]
    },
    {
      "cell_type": "markdown",
      "source": [
        "\n",
        "The finally block is used to ensure that resources are cleaned up properly, such as closing files or network connections, regardless of whether an exception was raised."
      ],
      "metadata": {
        "id": "KdKiriyRfCdH"
      }
    },
    {
      "cell_type": "code",
      "execution_count": 16,
      "metadata": {
        "colab": {
          "base_uri": "https://localhost:8080/"
        },
        "id": "Q0DskqRHPZKH",
        "outputId": "0e51be1c-ca0c-48f5-e1fe-c8a840031c0f"
      },
      "outputs": [
        {
          "output_type": "stream",
          "name": "stdout",
          "text": [
            "[Errno 2] No such file or directory: 'test.txt'\n",
            "Running Anyway ! Close all running tasks in this block\n"
          ]
        }
      ],
      "source": [
        "try:\n",
        "  test_file=open(\"test.txt\")\n",
        "  x=9\n",
        "except FileNotFoundError as error :\n",
        "  print(error)\n",
        "except Exception as error :\n",
        "  print(error)\n",
        "else :\n",
        "  print(test_file.read())\n",
        "  test_file.close()\n",
        "finally:\n",
        "  print(\"Running Anyway ! Close all running tasks in this block\")"
      ]
    },
    {
      "cell_type": "markdown",
      "source": [
        "https://python.readthedocs.io/en/v2.7.2/library/exceptions.html"
      ],
      "metadata": {
        "id": "B4UuojLqgDn1"
      }
    },
    {
      "cell_type": "markdown",
      "source": [
        "[link text]https://docs.python.org/3/library/exceptions.html"
      ],
      "metadata": {
        "id": "HGOfoHaYZoOe"
      }
    }
  ]
}