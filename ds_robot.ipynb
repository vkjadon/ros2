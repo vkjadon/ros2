{
  "nbformat": 4,
  "nbformat_minor": 0,
  "metadata": {
    "colab": {
      "provenance": [],
      "authorship_tag": "ABX9TyMS8/fIDMzgD9oA3yiKf6Yb",
      "include_colab_link": true
    },
    "kernelspec": {
      "name": "python3",
      "display_name": "Python 3"
    },
    "language_info": {
      "name": "python"
    }
  },
  "cells": [
    {
      "cell_type": "markdown",
      "metadata": {
        "id": "view-in-github",
        "colab_type": "text"
      },
      "source": [
        "<a href=\"https://colab.research.google.com/github/vkjadon/ros2/blob/master/ds_robot.ipynb\" target=\"_parent\"><img src=\"https://colab.research.google.com/assets/colab-badge.svg\" alt=\"Open In Colab\"/></a>"
      ]
    },
    {
      "cell_type": "code",
      "execution_count": 2,
      "metadata": {
        "colab": {
          "base_uri": "https://localhost:8080/"
        },
        "id": "hrdCOw3eYiX1",
        "outputId": "93b03dfb-e553-4cae-b156-cdb65021f0d7"
      },
      "outputs": [
        {
          "output_type": "stream",
          "name": "stdout",
          "text": [
            "Initial Position: (0, 0)\n",
            "Current Position: (1, 0)\n"
          ]
        }
      ],
      "source": [
        "class Robot:\n",
        "    def __init__(self, start_position):\n",
        "        self.position = start_position\n",
        "\n",
        "    def move(self, command):\n",
        "        if command == \"Move Forward\":\n",
        "            self.position = (self.position[0] + 1, self.position[1])\n",
        "        elif command == \"Move Backward\":\n",
        "            self.position = (self.position[0] - 1, self.position[1])\n",
        "        elif command == \"Turn Left\":\n",
        "            self.position = (self.position[0], self.position[1] - 1)\n",
        "        elif command == \"Turn Right\":\n",
        "            self.position = (self.position[0], self.position[1] + 1)\n",
        "\n",
        "    def get_position(self):\n",
        "        return self.position\n",
        "\n",
        "\n",
        "# Example usage\n",
        "robot = Robot(start_position=(0, 0))\n",
        "print(\"Initial Position:\", robot.get_position())\n",
        "\n",
        "robot.move(\"Move Forward\")\n",
        "print(\"Current Position:\", robot.get_position())"
      ]
    },
    {
      "cell_type": "code",
      "source": [
        "from collections import deque\n",
        "\n",
        "class RobotWithQueue:\n",
        "    def __init__(self, start_position):\n",
        "        self.position = start_position\n",
        "        self.command_queue = deque()  # Queue to store commands\n",
        "\n",
        "    def add_command(self, command):\n",
        "        self.command_queue.append(command)\n",
        "\n",
        "    def execute_commands(self):\n",
        "        while self.command_queue:\n",
        "            command = self.command_queue.popleft()\n",
        "            self.move(command)\n",
        "\n",
        "    def move(self, command):\n",
        "        if command == \"Move Forward\":\n",
        "            self.position = (self.position[0] + 1, self.position[1])\n",
        "        elif command == \"Move Backward\":\n",
        "            self.position = (self.position[0] - 1, self.position[1])\n",
        "        elif command == \"Turn Left\":\n",
        "            self.position = (self.position[0], self.position[1] - 1)\n",
        "        elif command == \"Turn Right\":\n",
        "            self.position = (self.position[0], self.position[1] + 1)\n",
        "\n",
        "    def get_position(self):\n",
        "        return self.position\n",
        "\n",
        "\n",
        "# Example usage\n",
        "robot = RobotWithQueue(start_position=(0, 0))\n",
        "robot.add_command(\"Move Forward\")\n",
        "robot.execute_commands()\n",
        "print(\"Current Position:\", robot.get_position())\n",
        "\n",
        "robot.add_command(\"Turn Right\")\n",
        "robot.execute_commands()\n",
        "print(\"Current Position:\", robot.get_position())\n",
        "\n",
        "robot.add_command(\"Move Forward\")\n",
        "robot.execute_commands()\n",
        "print(\"Current Position:\", robot.get_position())\n"
      ],
      "metadata": {
        "colab": {
          "base_uri": "https://localhost:8080/"
        },
        "id": "hkS3bzENZE5X",
        "outputId": "7a1ebbc5-fcf5-4b87-f06a-1e1ffa11d23b"
      },
      "execution_count": 5,
      "outputs": [
        {
          "output_type": "stream",
          "name": "stdout",
          "text": [
            "Current Position: (1, 0)\n",
            "Current Position: (1, 1)\n",
            "Current Position: (2, 1)\n"
          ]
        }
      ]
    },
    {
      "cell_type": "markdown",
      "source": [
        "Stack for Undoing Last Command"
      ],
      "metadata": {
        "id": "__52nEHJaDsu"
      }
    },
    {
      "cell_type": "code",
      "source": [
        "from collections import deque\n",
        "\n",
        "class RobotWithUndo:\n",
        "    def __init__(self, start_position):\n",
        "        self.position = start_position\n",
        "        self.command_queue = deque()\n",
        "        self.command_stack = []  # Stack to store executed commands\n",
        "\n",
        "    def add_command(self, command):\n",
        "        self.command_queue.append(command)\n",
        "\n",
        "    def execute_commands(self):\n",
        "        while self.command_queue:\n",
        "            command = self.command_queue.popleft()\n",
        "            self.move(command)\n",
        "            self.command_stack.append(command)  # Store command in stack for undo\n",
        "\n",
        "    def move(self, command):\n",
        "        if command == \"Move Forward\":\n",
        "            self.position = (self.position[0] + 1, self.position[1])\n",
        "        elif command == \"Move Backward\":\n",
        "            self.position = (self.position[0] - 1, self.position[1])\n",
        "        elif command == \"Turn Left\":\n",
        "            self.position = (self.position[0], self.position[1] - 1)\n",
        "        elif command == \"Turn Right\":\n",
        "            self.position = (self.position[0], self.position[1] + 1)\n",
        "\n",
        "    def undo_last_command(self):\n",
        "        if not self.command_stack:\n",
        "            print(\"No commands to undo!\")\n",
        "            return\n",
        "        last_command = self.command_stack.pop()\n",
        "        self.reverse_move(last_command)\n",
        "\n",
        "    def reverse_move(self, command):\n",
        "        if command == \"Move Forward\":\n",
        "            self.position = (self.position[0] - 1, self.position[1])\n",
        "        elif command == \"Move Backward\":\n",
        "            self.position = (self.position[0] + 1, self.position[1])\n",
        "        elif command == \"Turn Left\":\n",
        "            self.position = (self.position[0], self.position[1] + 1)\n",
        "        elif command == \"Turn Right\":\n",
        "            self.position = (self.position[0], self.position[1] - 1)\n",
        "\n",
        "    def get_position(self):\n",
        "        return self.position\n",
        "\n",
        "\n",
        "# Example usage\n",
        "robot = RobotWithUndo(start_position=(0, 0))\n",
        "robot.add_command(\"Move Forward\")\n",
        "robot.add_command(\"Turn Right\")\n",
        "robot.execute_commands()\n",
        "print(\"Current Position:\", robot.get_position())\n",
        "\n",
        "# Undo the last command\n",
        "robot.undo_last_command()\n",
        "print(\"Position after undo:\", robot.get_position())\n"
      ],
      "metadata": {
        "colab": {
          "base_uri": "https://localhost:8080/"
        },
        "id": "778jVzZqaBZW",
        "outputId": "1a11dc78-be83-4ebd-869e-d42b67cf2e9c"
      },
      "execution_count": 6,
      "outputs": [
        {
          "output_type": "stream",
          "name": "stdout",
          "text": [
            "Current Position: (1, 1)\n",
            "Position after undo: (1, 0)\n"
          ]
        }
      ]
    },
    {
      "cell_type": "markdown",
      "source": [
        "Linked List for Tracking Robot Path"
      ],
      "metadata": {
        "id": "R781ipDaaPYU"
      }
    },
    {
      "cell_type": "code",
      "source": [
        "class Node:\n",
        "    def __init__(self, position):\n",
        "        self.position = position\n",
        "        self.next = None\n",
        "\n",
        "class LinkedList:\n",
        "    def __init__(self):\n",
        "        self.head = None\n",
        "\n",
        "    def append(self, position):\n",
        "        new_node = Node(position)\n",
        "        if not self.head:\n",
        "            self.head = new_node\n",
        "            return\n",
        "        last = self.head\n",
        "        while last.next:\n",
        "            last = last.next\n",
        "        last.next = new_node\n",
        "\n",
        "    def get_path(self):\n",
        "        path = []\n",
        "        current = self.head\n",
        "        while current:\n",
        "            path.append(current.position)\n",
        "            current = current.next\n",
        "        return path\n",
        "\n",
        "# Basic usage of LinkedList\n",
        "path = LinkedList()\n",
        "path.append((0, 0))\n",
        "path.append((1, 0))\n",
        "path.append((1, 1))\n",
        "print(\"Path:\", path.get_path())\n"
      ],
      "metadata": {
        "colab": {
          "base_uri": "https://localhost:8080/"
        },
        "id": "3eEPjO7HaOH2",
        "outputId": "9afeaeed-0269-4d95-ec89-7015e0866b8b"
      },
      "execution_count": 7,
      "outputs": [
        {
          "output_type": "stream",
          "name": "stdout",
          "text": [
            "Path: [(0, 0), (1, 0), (1, 1)]\n"
          ]
        }
      ]
    },
    {
      "cell_type": "code",
      "source": [
        "from collections import deque\n",
        "\n",
        "class Node:\n",
        "    def __init__(self, position):\n",
        "        self.position = position\n",
        "        self.next = None\n",
        "\n",
        "class LinkedList:\n",
        "    def __init__(self):\n",
        "        self.head = None\n",
        "\n",
        "    def append(self, position):\n",
        "        new_node = Node(position)\n",
        "        if not self.head:\n",
        "            self.head = new_node\n",
        "            return\n",
        "        last = self.head\n",
        "        while last.next:\n",
        "            last = last.next\n",
        "        last.next = new_node\n",
        "\n",
        "    def delete_last(self):\n",
        "        if not self.head:\n",
        "            return None\n",
        "        if not self.head.next:\n",
        "            self.head = None\n",
        "            return\n",
        "        second_last = self.head\n",
        "        while second_last.next.next:\n",
        "            second_last = second_last.next\n",
        "        second_last.next = None\n",
        "\n",
        "    def get_path(self):\n",
        "        path = []\n",
        "        current = self.head\n",
        "        while current:\n",
        "            path.append(current.position)\n",
        "            current = current.next\n",
        "        return path\n",
        "\n",
        "class RobotComplete:\n",
        "    def __init__(self, start_position):\n",
        "        self.position = start_position\n",
        "        self.command_queue = deque()\n",
        "        self.command_stack = []\n",
        "        self.path = LinkedList()\n",
        "        self.path.append(start_position)\n",
        "\n",
        "    def add_command(self, command):\n",
        "        self.command_queue.append(command)\n",
        "\n",
        "    def execute_commands(self):\n",
        "        while self.command_queue:\n",
        "            command = self.command_queue.popleft()\n",
        "            self.move(command)\n",
        "            self.command_stack.append(command)\n",
        "            self.path.append(self.position)\n",
        "\n",
        "    def move(self, command):\n",
        "        if command == \"Move Forward\":\n",
        "            self.position = (self.position[0] + 1, self.position[1])\n",
        "        elif command == \"Move Backward\":\n",
        "            self.position = (self.position[0] - 1, self.position[1])\n",
        "        elif command == \"Turn Left\":\n",
        "            self.position = (self.position[0], self.position[1] - 1)\n",
        "        elif command == \"Turn Right\":\n",
        "            self.position = (self.position[0], self.position[1] + 1)\n",
        "\n",
        "    def undo_last_command(self):\n",
        "        if not self.command_stack:\n",
        "            print(\"No commands to undo!\")\n",
        "            return\n",
        "        last_command = self.command_stack.pop()\n",
        "        self.reverse_move(last_command)\n",
        "        self.path.delete_last()\n",
        "\n",
        "    def reverse_move(self, command):\n",
        "        if command == \"Move Forward\":\n",
        "            self.position = (self.position[0] - 1, self.position[1])\n",
        "        elif command == \"Move Backward\":\n",
        "            self.position = (self.position[0] + 1, self.position[1])\n",
        "        elif command == \"Turn Left\":\n",
        "            self.position = (self.position[0], self.position[1] + 1)\n",
        "        elif command == \"Turn Right\":\n",
        "            self.position = (self.position[0], self.position[1] - 1)\n",
        "\n",
        "    def get_position(self):\n",
        "        return self.position\n",
        "\n",
        "    def get_path(self):\n",
        "        return self.path.get_path()\n",
        "\n",
        "\n",
        "# Example usage\n",
        "robot = RobotComplete(start_position=(0, 0))\n",
        "robot.add_command(\"Move Forward\")\n",
        "robot.add_command(\"Turn Right\")\n",
        "robot.execute_commands()\n",
        "print(\"Current Position:\", robot.get_position())\n",
        "print(\"Path:\", robot.get_path())\n",
        "\n",
        "robot.undo_last_command()\n",
        "print(\"Position after undo:\", robot.get_position())\n",
        "print(\"Path after undo:\", robot.get_path())\n"
      ],
      "metadata": {
        "colab": {
          "base_uri": "https://localhost:8080/"
        },
        "id": "04rh7FRcaS0y",
        "outputId": "6e264e5d-cd45-4a79-a3dd-12db6743f4ef"
      },
      "execution_count": 8,
      "outputs": [
        {
          "output_type": "stream",
          "name": "stdout",
          "text": [
            "Current Position: (1, 1)\n",
            "Path: [(0, 0), (1, 0), (1, 1)]\n",
            "Position after undo: (1, 0)\n",
            "Path after undo: [(0, 0), (1, 0)]\n"
          ]
        }
      ]
    }
  ]
}