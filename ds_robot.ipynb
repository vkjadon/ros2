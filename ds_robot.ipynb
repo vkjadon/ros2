{
  "nbformat": 4,
  "nbformat_minor": 0,
  "metadata": {
    "colab": {
      "provenance": [],
      "authorship_tag": "ABX9TyPqkJWLKwzoM/CSXl26EbPd",
      "include_colab_link": true
    },
    "kernelspec": {
      "name": "python3",
      "display_name": "Python 3"
    },
    "language_info": {
      "name": "python"
    }
  },
  "cells": [
    {
      "cell_type": "markdown",
      "metadata": {
        "id": "view-in-github",
        "colab_type": "text"
      },
      "source": [
        "<a href=\"https://colab.research.google.com/github/vkjadon/ros2/blob/master/ds_robot.ipynb\" target=\"_parent\"><img src=\"https://colab.research.google.com/assets/colab-badge.svg\" alt=\"Open In Colab\"/></a>"
      ]
    },
    {
      "cell_type": "markdown",
      "source": [
        "\n",
        "Basic Robot Movement"
      ],
      "metadata": {
        "id": "qDqLSmGubEPq"
      }
    },
    {
      "cell_type": "code",
      "execution_count": 2,
      "metadata": {
        "colab": {
          "base_uri": "https://localhost:8080/"
        },
        "id": "hrdCOw3eYiX1",
        "outputId": "93b03dfb-e553-4cae-b156-cdb65021f0d7"
      },
      "outputs": [
        {
          "output_type": "stream",
          "name": "stdout",
          "text": [
            "Initial Position: (0, 0)\n",
            "Current Position: (1, 0)\n"
          ]
        }
      ],
      "source": [
        "class Robot:\n",
        "    def __init__(self, start_position):\n",
        "        self.position = start_position\n",
        "\n",
        "    def move(self, command):\n",
        "        if command == \"Move Forward\":\n",
        "            self.position = (self.position[0] + 1, self.position[1])\n",
        "        elif command == \"Move Backward\":\n",
        "            self.position = (self.position[0] - 1, self.position[1])\n",
        "        elif command == \"Turn Left\":\n",
        "            self.position = (self.position[0], self.position[1] - 1)\n",
        "        elif command == \"Turn Right\":\n",
        "            self.position = (self.position[0], self.position[1] + 1)\n",
        "\n",
        "    def get_position(self):\n",
        "        return self.position\n",
        "\n",
        "\n",
        "# Example usage\n",
        "robot = Robot(start_position=(0, 0))\n",
        "print(\"Initial Position:\", robot.get_position())\n",
        "\n",
        "robot.move(\"Move Forward\")\n",
        "print(\"Current Position:\", robot.get_position())"
      ]
    },
    {
      "cell_type": "markdown",
      "source": [
        "Queue for Managing Movement Commands"
      ],
      "metadata": {
        "id": "PnHm5DKzbIYP"
      }
    },
    {
      "cell_type": "code",
      "source": [
        "from collections import deque\n",
        "\n",
        "class RobotWithQueue:\n",
        "    def __init__(self, start_position):\n",
        "        self.position = start_position\n",
        "        self.command_queue = deque()  # Queue to store commands\n",
        "\n",
        "    def add_command(self, command):\n",
        "        self.command_queue.append(command)\n",
        "\n",
        "    def execute_commands(self):\n",
        "        while self.command_queue:\n",
        "            command = self.command_queue.popleft()\n",
        "            self.move(command)\n",
        "\n",
        "    def move(self, command):\n",
        "        if command == \"Move Forward\":\n",
        "            self.position = (self.position[0] + 1, self.position[1])\n",
        "        elif command == \"Move Backward\":\n",
        "            self.position = (self.position[0] - 1, self.position[1])\n",
        "        elif command == \"Turn Left\":\n",
        "            self.position = (self.position[0], self.position[1] - 1)\n",
        "        elif command == \"Turn Right\":\n",
        "            self.position = (self.position[0], self.position[1] + 1)\n",
        "\n",
        "    def get_position(self):\n",
        "        return self.position\n",
        "\n",
        "\n",
        "# Example usage\n",
        "robot = RobotWithQueue(start_position=(0, 0))\n",
        "robot.add_command(\"Move Forward\")\n",
        "robot.execute_commands()\n",
        "print(\"Current Position:\", robot.get_position())\n",
        "\n",
        "robot.add_command(\"Turn Right\")\n",
        "robot.execute_commands()\n",
        "print(\"Current Position:\", robot.get_position())\n",
        "\n",
        "robot.add_command(\"Move Forward\")\n",
        "robot.execute_commands()\n",
        "print(\"Current Position:\", robot.get_position())\n"
      ],
      "metadata": {
        "colab": {
          "base_uri": "https://localhost:8080/"
        },
        "id": "hkS3bzENZE5X",
        "outputId": "7a1ebbc5-fcf5-4b87-f06a-1e1ffa11d23b"
      },
      "execution_count": 5,
      "outputs": [
        {
          "output_type": "stream",
          "name": "stdout",
          "text": [
            "Current Position: (1, 0)\n",
            "Current Position: (1, 1)\n",
            "Current Position: (2, 1)\n"
          ]
        }
      ]
    },
    {
      "cell_type": "markdown",
      "source": [
        "Stack for Undoing Last Command"
      ],
      "metadata": {
        "id": "__52nEHJaDsu"
      }
    },
    {
      "cell_type": "code",
      "source": [
        "from collections import deque\n",
        "\n",
        "class RobotWithUndo:\n",
        "    def __init__(self, start_position):\n",
        "        self.position = start_position\n",
        "        self.command_queue = deque()\n",
        "        self.command_stack = []  # Stack to store executed commands\n",
        "\n",
        "    def add_command(self, command):\n",
        "        self.command_queue.append(command)\n",
        "\n",
        "    def execute_commands(self):\n",
        "        while self.command_queue:\n",
        "            command = self.command_queue.popleft()\n",
        "            self.move(command)\n",
        "            self.command_stack.append(command)  # Store command in stack for undo\n",
        "\n",
        "    def move(self, command):\n",
        "        if command == \"Move Forward\":\n",
        "            self.position = (self.position[0] + 1, self.position[1])\n",
        "        elif command == \"Move Backward\":\n",
        "            self.position = (self.position[0] - 1, self.position[1])\n",
        "        elif command == \"Turn Left\":\n",
        "            self.position = (self.position[0], self.position[1] - 1)\n",
        "        elif command == \"Turn Right\":\n",
        "            self.position = (self.position[0], self.position[1] + 1)\n",
        "\n",
        "    def undo_last_command(self):\n",
        "        if not self.command_stack:\n",
        "            print(\"No commands to undo!\")\n",
        "            return\n",
        "        last_command = self.command_stack.pop()\n",
        "        self.reverse_move(last_command)\n",
        "\n",
        "    def reverse_move(self, command):\n",
        "        if command == \"Move Forward\":\n",
        "            self.position = (self.position[0] - 1, self.position[1])\n",
        "        elif command == \"Move Backward\":\n",
        "            self.position = (self.position[0] + 1, self.position[1])\n",
        "        elif command == \"Turn Left\":\n",
        "            self.position = (self.position[0], self.position[1] + 1)\n",
        "        elif command == \"Turn Right\":\n",
        "            self.position = (self.position[0], self.position[1] - 1)\n",
        "\n",
        "    def get_position(self):\n",
        "        return self.position\n",
        "\n",
        "\n",
        "# Example usage\n",
        "robot = RobotWithUndo(start_position=(0, 0))\n",
        "robot.add_command(\"Move Forward\")\n",
        "robot.add_command(\"Turn Right\")\n",
        "robot.execute_commands()\n",
        "print(\"Current Position:\", robot.get_position())\n",
        "\n",
        "# Undo the last command\n",
        "robot.undo_last_command()\n",
        "print(\"Position after undo:\", robot.get_position())\n"
      ],
      "metadata": {
        "colab": {
          "base_uri": "https://localhost:8080/"
        },
        "id": "778jVzZqaBZW",
        "outputId": "1a11dc78-be83-4ebd-869e-d42b67cf2e9c"
      },
      "execution_count": 6,
      "outputs": [
        {
          "output_type": "stream",
          "name": "stdout",
          "text": [
            "Current Position: (1, 1)\n",
            "Position after undo: (1, 0)\n"
          ]
        }
      ]
    },
    {
      "cell_type": "markdown",
      "source": [
        "Linked List for Tracking Robot Path"
      ],
      "metadata": {
        "id": "R781ipDaaPYU"
      }
    },
    {
      "cell_type": "code",
      "source": [
        "class Node:\n",
        "    def __init__(self, position):\n",
        "        self.position = position\n",
        "        self.next = None\n",
        "\n",
        "class LinkedList:\n",
        "    def __init__(self):\n",
        "        self.head = None\n",
        "\n",
        "    def append(self, position):\n",
        "        new_node = Node(position)\n",
        "        if not self.head:\n",
        "            self.head = new_node\n",
        "            return\n",
        "        last = self.head\n",
        "        while last.next:\n",
        "            last = last.next\n",
        "        last.next = new_node\n",
        "\n",
        "    def get_path(self):\n",
        "        path = []\n",
        "        current = self.head\n",
        "        while current:\n",
        "            path.append(current.position)\n",
        "            current = current.next\n",
        "        return path\n",
        "\n",
        "# Basic usage of LinkedList\n",
        "path = LinkedList()\n",
        "path.append((0, 0))\n",
        "path.append((1, 0))\n",
        "path.append((1, 1))\n",
        "print(\"Path:\", path.get_path())\n"
      ],
      "metadata": {
        "colab": {
          "base_uri": "https://localhost:8080/"
        },
        "id": "3eEPjO7HaOH2",
        "outputId": "9afeaeed-0269-4d95-ec89-7015e0866b8b"
      },
      "execution_count": 7,
      "outputs": [
        {
          "output_type": "stream",
          "name": "stdout",
          "text": [
            "Path: [(0, 0), (1, 0), (1, 1)]\n"
          ]
        }
      ]
    },
    {
      "cell_type": "markdown",
      "source": [
        "Complete System: Combining Everything"
      ],
      "metadata": {
        "id": "1d03lubrbVHt"
      }
    },
    {
      "cell_type": "code",
      "source": [
        "from collections import deque\n",
        "\n",
        "class Node:\n",
        "    def __init__(self, position):\n",
        "        self.position = position\n",
        "        self.next = None\n",
        "\n",
        "class LinkedList:\n",
        "    def __init__(self):\n",
        "        self.head = None\n",
        "\n",
        "    def append(self, position):\n",
        "        new_node = Node(position)\n",
        "        if not self.head:\n",
        "            self.head = new_node\n",
        "            return\n",
        "        last = self.head\n",
        "        while last.next:\n",
        "            last = last.next\n",
        "        last.next = new_node\n",
        "\n",
        "    def delete_last(self):\n",
        "        if not self.head:\n",
        "            return None\n",
        "        if not self.head.next:\n",
        "            self.head = None\n",
        "            return\n",
        "        second_last = self.head\n",
        "        while second_last.next.next:\n",
        "            second_last = second_last.next\n",
        "        second_last.next = None\n",
        "\n",
        "    def get_path(self):\n",
        "        path = []\n",
        "        current = self.head\n",
        "        while current:\n",
        "            path.append(current.position)\n",
        "            current = current.next\n",
        "        return path\n",
        "\n",
        "class RobotComplete:\n",
        "    def __init__(self, start_position):\n",
        "        self.position = start_position\n",
        "        self.command_queue = deque()\n",
        "        self.command_stack = []\n",
        "        self.path = LinkedList()\n",
        "        self.path.append(start_position)\n",
        "\n",
        "    def add_command(self, command):\n",
        "        self.command_queue.append(command)\n",
        "\n",
        "    def execute_commands(self):\n",
        "        while self.command_queue:\n",
        "            command = self.command_queue.popleft()\n",
        "            self.move(command)\n",
        "            self.command_stack.append(command)\n",
        "            self.path.append(self.position)\n",
        "\n",
        "    def move(self, command):\n",
        "        if command == \"Move Forward\":\n",
        "            self.position = (self.position[0] + 1, self.position[1])\n",
        "        elif command == \"Move Backward\":\n",
        "            self.position = (self.position[0] - 1, self.position[1])\n",
        "        elif command == \"Turn Left\":\n",
        "            self.position = (self.position[0], self.position[1] - 1)\n",
        "        elif command == \"Turn Right\":\n",
        "            self.position = (self.position[0], self.position[1] + 1)\n",
        "\n",
        "    def undo_last_command(self):\n",
        "        if not self.command_stack:\n",
        "            print(\"No commands to undo!\")\n",
        "            return\n",
        "        last_command = self.command_stack.pop()\n",
        "        self.reverse_move(last_command)\n",
        "        self.path.delete_last()\n",
        "\n",
        "    def reverse_move(self, command):\n",
        "        if command == \"Move Forward\":\n",
        "            self.position = (self.position[0] - 1, self.position[1])\n",
        "        elif command == \"Move Backward\":\n",
        "            self.position = (self.position[0] + 1, self.position[1])\n",
        "        elif command == \"Turn Left\":\n",
        "            self.position = (self.position[0], self.position[1] + 1)\n",
        "        elif command == \"Turn Right\":\n",
        "            self.position = (self.position[0], self.position[1] - 1)\n",
        "\n",
        "    def get_position(self):\n",
        "        return self.position\n",
        "\n",
        "    def get_path(self):\n",
        "        return self.path.get_path()\n",
        "\n",
        "\n",
        "# Example usage\n",
        "robot = RobotComplete(start_position=(0, 0))\n",
        "robot.add_command(\"Move Forward\")\n",
        "robot.add_command(\"Turn Right\")\n",
        "robot.execute_commands()\n",
        "print(\"Current Position:\", robot.get_position())\n",
        "print(\"Path:\", robot.get_path())\n",
        "\n",
        "robot.undo_last_command()\n",
        "print(\"Position after undo:\", robot.get_position())\n",
        "print(\"Path after undo:\", robot.get_path())\n"
      ],
      "metadata": {
        "colab": {
          "base_uri": "https://localhost:8080/"
        },
        "id": "04rh7FRcaS0y",
        "outputId": "6e264e5d-cd45-4a79-a3dd-12db6743f4ef"
      },
      "execution_count": 8,
      "outputs": [
        {
          "output_type": "stream",
          "name": "stdout",
          "text": [
            "Current Position: (1, 1)\n",
            "Path: [(0, 0), (1, 0), (1, 1)]\n",
            "Position after undo: (1, 0)\n",
            "Path after undo: [(0, 0), (1, 0)]\n"
          ]
        }
      ]
    },
    {
      "cell_type": "code",
      "source": [
        "class TreeNode:\n",
        "    def __init__(self, position):\n",
        "        self.position = position\n",
        "        self.children = []  # Branches to possible next moves\n",
        "\n",
        "    def add_child(self, child_node):\n",
        "        self.children.append(child_node)\n",
        "\n",
        "# Example of constructing a simple decision tree for robot moves\n",
        "root = TreeNode((0, 0))  # Starting position\n",
        "\n",
        "# Level 1 decisions (possible moves from the start)\n",
        "move_forward = TreeNode((1, 0))\n",
        "turn_right = TreeNode((0, 1))\n",
        "root.add_child(move_forward)\n",
        "root.add_child(turn_right)\n",
        "\n",
        "# Level 2 decisions (possible moves from previous positions)\n",
        "move_forward.add_child(TreeNode((2, 0)))\n",
        "turn_right.add_child(TreeNode((0, 2)))\n",
        "\n",
        "# Traversing the tree (e.g., depth-first search)\n",
        "def traverse_tree(node):\n",
        "    print(f\"Visiting position: {node.position}\")\n",
        "    for child in node.children:\n",
        "        traverse_tree(child)\n",
        "\n",
        "# Start traversing from the root\n",
        "traverse_tree(root)\n"
      ],
      "metadata": {
        "colab": {
          "base_uri": "https://localhost:8080/"
        },
        "id": "voy0agqSdgwz",
        "outputId": "5d0b9e78-8bbe-4284-ac66-e9e7a1f9c0b3"
      },
      "execution_count": 9,
      "outputs": [
        {
          "output_type": "stream",
          "name": "stdout",
          "text": [
            "Visiting position: (0, 0)\n",
            "Visiting position: (1, 0)\n",
            "Visiting position: (2, 0)\n",
            "Visiting position: (0, 1)\n",
            "Visiting position: (0, 2)\n"
          ]
        }
      ]
    },
    {
      "cell_type": "code",
      "source": [
        "from collections import deque\n",
        "\n",
        "class Graph:\n",
        "    def __init__(self):\n",
        "        self.adjacency_list = {}  # Dictionary to store graph\n",
        "\n",
        "    def add_edge(self, node1, node2):\n",
        "        if node1 not in self.adjacency_list:\n",
        "            self.adjacency_list[node1] = []\n",
        "        if node2 not in self.adjacency_list:\n",
        "            self.adjacency_list[node2] = []\n",
        "        self.adjacency_list[node1].append(node2)\n",
        "        self.adjacency_list[node2].append(node1)  # Assuming an undirected graph\n",
        "\n",
        "    def bfs(self, start_node):\n",
        "        visited = set()\n",
        "        queue = deque([start_node])\n",
        "        while queue:\n",
        "            node = queue.popleft()\n",
        "            if node not in visited:\n",
        "                print(f\"Visiting node: {node}\")\n",
        "                visited.add(node)\n",
        "                for neighbor in self.adjacency_list[node]:\n",
        "                    if neighbor not in visited:\n",
        "                        queue.append(neighbor)\n",
        "\n",
        "# Example of constructing a graph for robot navigation\n",
        "graph = Graph()\n",
        "graph.add_edge((0, 0), (1, 0))  # Edge between two positions\n",
        "graph.add_edge((1, 0), (1, 1))\n",
        "graph.add_edge((1, 1), (0, 1))\n",
        "graph.add_edge((0, 1), (0, 0))\n",
        "\n",
        "# Perform a breadth-first search (BFS) starting from (0, 0)\n",
        "graph.bfs((0, 0))\n"
      ],
      "metadata": {
        "colab": {
          "base_uri": "https://localhost:8080/"
        },
        "id": "2Wf0ZQPTdlF4",
        "outputId": "72a0f528-8f1d-469e-c64b-627a5d280cfd"
      },
      "execution_count": 10,
      "outputs": [
        {
          "output_type": "stream",
          "name": "stdout",
          "text": [
            "Visiting node: (0, 0)\n",
            "Visiting node: (1, 0)\n",
            "Visiting node: (0, 1)\n",
            "Visiting node: (1, 1)\n"
          ]
        }
      ]
    },
    {
      "cell_type": "code",
      "source": [
        "class TreeNode:\n",
        "    def __init__(self, position):\n",
        "        self.position = position\n",
        "        self.children = []\n",
        "\n",
        "    def add_child(self, child_node):\n",
        "        self.children.append(child_node)\n",
        "\n",
        "# Example: Build a tree representing possible robot moves in a grid\n",
        "root = TreeNode((0, 0))  # Start at position (0, 0)\n",
        "\n",
        "# Level 1 (First move decisions)\n",
        "move_forward = TreeNode((1, 0))\n",
        "turn_right = TreeNode((0, 1))\n",
        "turn_left = TreeNode((0, -1))\n",
        "root.add_child(move_forward)\n",
        "root.add_child(turn_right)\n",
        "root.add_child(turn_left)\n",
        "\n",
        "# Level 2 (Second move decisions)\n",
        "move_forward.add_child(TreeNode((2, 0)))  # Moving forward again\n",
        "move_forward.add_child(TreeNode((1, 1)))  # Turning right from (1, 0)\n",
        "move_forward.add_child(TreeNode((1, -1)))  # Turning left from (1, 0)\n",
        "\n",
        "turn_right.add_child(TreeNode((0, 2)))  # Moving forward after turning right\n",
        "turn_right.add_child(TreeNode((1, 1)))  # Moving right and then forward\n",
        "\n",
        "turn_left.add_child(TreeNode((0, -2)))  # Moving forward after turning left\n",
        "turn_left.add_child(TreeNode((-1, -1)))  # Turning left again\n",
        "\n",
        "# Recursive function to traverse and print the tree\n",
        "def traverse_tree(node, level=0):\n",
        "    indent = \"  \" * level\n",
        "    print(f\"{indent}Position: {node.position}\")\n",
        "    for child in node.children:\n",
        "        traverse_tree(child, level + 1)\n",
        "\n",
        "# Start traversing from the root node\n",
        "traverse_tree(root)\n"
      ],
      "metadata": {
        "colab": {
          "base_uri": "https://localhost:8080/"
        },
        "id": "ZOGGz1h-drDU",
        "outputId": "eda576ec-6863-431a-f10b-71d828aca8e9"
      },
      "execution_count": 11,
      "outputs": [
        {
          "output_type": "stream",
          "name": "stdout",
          "text": [
            "Position: (0, 0)\n",
            "  Position: (1, 0)\n",
            "    Position: (2, 0)\n",
            "    Position: (1, 1)\n",
            "    Position: (1, -1)\n",
            "  Position: (0, 1)\n",
            "    Position: (0, 2)\n",
            "    Position: (1, 1)\n",
            "  Position: (0, -1)\n",
            "    Position: (0, -2)\n",
            "    Position: (-1, -1)\n"
          ]
        }
      ]
    },
    {
      "cell_type": "code",
      "source": [
        "from collections import deque\n",
        "\n",
        "class Graph:\n",
        "    def __init__(self):\n",
        "        self.adjacency_list = {}\n",
        "\n",
        "    def add_edge(self, node1, node2):\n",
        "        if node1 not in self.adjacency_list:\n",
        "            self.adjacency_list[node1] = []\n",
        "        if node2 not in self.adjacency_list:\n",
        "            self.adjacency_list[node2] = []\n",
        "        self.adjacency_list[node1].append(node2)\n",
        "        self.adjacency_list[node2].append(node1)  # Assuming undirected graph\n",
        "\n",
        "    def bfs(self, start_node):\n",
        "        visited = set()\n",
        "        queue = deque([start_node])\n",
        "        while queue:\n",
        "            node = queue.popleft()\n",
        "            if node not in visited:\n",
        "                print(f\"Visiting node: {node}\")\n",
        "                visited.add(node)\n",
        "                for neighbor in self.adjacency_list[node]:\n",
        "                    if neighbor not in visited:\n",
        "                        queue.append(neighbor)\n",
        "\n",
        "    def dfs(self, start_node, visited=None):\n",
        "        if visited is None:\n",
        "            visited = set()\n",
        "        visited.add(start_node)\n",
        "        print(f\"Visiting node: {start_node}\")\n",
        "        for neighbor in self.adjacency_list[start_node]:\n",
        "            if neighbor not in visited:\n",
        "                self.dfs(neighbor, visited)\n",
        "\n",
        "# Example: Build a graph representing rooms and corridors\n",
        "graph = Graph()\n",
        "graph.add_edge(\"Room 1\", \"Room 2\")\n",
        "graph.add_edge(\"Room 1\", \"Room 3\")\n",
        "graph.add_edge(\"Room 2\", \"Room 4\")\n",
        "graph.add_edge(\"Room 2\", \"Room 5\")\n",
        "graph.add_edge(\"Room 3\", \"Room 6\")\n",
        "graph.add_edge(\"Room 4\", \"Room 7\")\n",
        "graph.add_edge(\"Room 5\", \"Room 8\")\n",
        "graph.add_edge(\"Room 6\", \"Room 9\")\n",
        "\n",
        "# Perform a breadth-first search (BFS) starting from \"Room 1\"\n",
        "print(\"Breadth-First Search:\")\n",
        "graph.bfs(\"Room 1\")\n",
        "\n",
        "# Perform a depth-first search (DFS) starting from \"Room 1\"\n",
        "print(\"\\nDepth-First Search:\")\n",
        "graph.dfs(\"Room 1\")\n"
      ],
      "metadata": {
        "colab": {
          "base_uri": "https://localhost:8080/"
        },
        "id": "umppWaSQdrpy",
        "outputId": "24d919a2-6fd2-49c7-8325-db822dbac2c2"
      },
      "execution_count": 12,
      "outputs": [
        {
          "output_type": "stream",
          "name": "stdout",
          "text": [
            "Breadth-First Search:\n",
            "Visiting node: Room 1\n",
            "Visiting node: Room 2\n",
            "Visiting node: Room 3\n",
            "Visiting node: Room 4\n",
            "Visiting node: Room 5\n",
            "Visiting node: Room 6\n",
            "Visiting node: Room 7\n",
            "Visiting node: Room 8\n",
            "Visiting node: Room 9\n",
            "\n",
            "Depth-First Search:\n",
            "Visiting node: Room 1\n",
            "Visiting node: Room 2\n",
            "Visiting node: Room 4\n",
            "Visiting node: Room 7\n",
            "Visiting node: Room 5\n",
            "Visiting node: Room 8\n",
            "Visiting node: Room 3\n",
            "Visiting node: Room 6\n",
            "Visiting node: Room 9\n"
          ]
        }
      ]
    },
    {
      "cell_type": "code",
      "source": [
        "import numpy as np\n",
        "import matplotlib.pyplot as plt\n",
        "\n",
        "# Define a 10x10 grid map (0 = free space, 1 = obstacle)\n",
        "occupancy_grid_map = np.array([\n",
        "    [0, 0, 0, 1, 1, 0, 0, 0, 0, 0],\n",
        "    [0, 1, 0, 0, 0, 0, 1, 0, 0, 0],\n",
        "    [0, 1, 1, 0, 1, 1, 1, 0, 1, 0],\n",
        "    [0, 0, 0, 0, 0, 0, 0, 0, 1, 0],\n",
        "    [0, 1, 0, 1, 1, 0, 1, 0, 1, 0],\n",
        "    [0, 0, 0, 0, 1, 0, 0, 0, 0, 0],\n",
        "    [0, 1, 1, 0, 0, 0, 1, 1, 0, 1],\n",
        "    [0, 0, 0, 0, 1, 0, 0, 0, 0, 1],\n",
        "    [1, 0, 1, 0, 1, 1, 0, 0, 1, 1],\n",
        "    [0, 0, 0, 0, 0, 0, 0, 0, 0, 0]\n",
        "])\n",
        "\n",
        "# Function to display the grid map\n",
        "def display_grid_map(grid_map):\n",
        "    plt.imshow(grid_map, cmap='Greys', origin='upper')\n",
        "    plt.colorbar(label=\"Occupancy\")\n",
        "    plt.title(\"Occupancy Grid Map\")\n",
        "    plt.show()\n",
        "\n",
        "# Display the grid map\n",
        "display_grid_map(occupancy_grid_map)\n"
      ],
      "metadata": {
        "colab": {
          "base_uri": "https://localhost:8080/",
          "height": 452
        },
        "id": "Z_F_agZ_d4kQ",
        "outputId": "103e1fae-3c5a-4fc4-8a0b-438b97190fdc"
      },
      "execution_count": 27,
      "outputs": [
        {
          "output_type": "display_data",
          "data": {
            "text/plain": [
              "<Figure size 640x480 with 2 Axes>"
            ],
            "image/png": "[encoded data removed]"
          },
          "metadata": {}
        }
      ]
    },
    {
      "cell_type": "code",
      "source": [
        "# Define the robot's starting position\n",
        "robot_position = [0, 0]  # Top-left corner\n",
        "\n",
        "def display_grid_with_robot(grid_map, robot_position):\n",
        "    grid_with_robot = grid_map.copy()\n",
        "    # grid_with_robot[robot_position[0], robot_position[1]] = 0.5  # Represent robot as 0.5\n",
        "    plt.imshow(grid_with_robot, cmap='Greys', origin='upper')\n",
        "    plt.colorbar(label=\"Occupancy\")\n",
        "    plt.title(\"Occupancy Grid Map with Robot\")\n",
        "    plt.show()\n",
        "\n",
        "# Display the grid with the robot\n",
        "display_grid_with_robot(occupancy_grid_map, robot_position)\n"
      ],
      "metadata": {
        "colab": {
          "base_uri": "https://localhost:8080/",
          "height": 452
        },
        "id": "eyGALscdd5Fa",
        "outputId": "3273a6f8-00bf-43cc-fa23-a6c54166dfa8"
      },
      "execution_count": 30,
      "outputs": [
        {
          "output_type": "display_data",
          "data": {
            "text/plain": [
              "<Figure size 640x480 with 2 Axes>"
            ],
            "image/png": "[encoded data removed]"
          },
          "metadata": {}
        }
      ]
    }
  ]
}