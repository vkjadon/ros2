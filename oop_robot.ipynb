{
  "nbformat": 4,
  "nbformat_minor": 0,
  "metadata": {
    "colab": {
      "provenance": [],
      "toc_visible": true,
      "authorship_tag": "ABX9TyOEvcftZk2Im22lUCe9eRou",
      "include_colab_link": true
    },
    "kernelspec": {
      "name": "python3",
      "display_name": "Python 3"
    },
    "language_info": {
      "name": "python"
    }
  },
  "cells": [
    {
      "cell_type": "markdown",
      "metadata": {
        "id": "view-in-github",
        "colab_type": "text"
      },
      "source": [
        "<a href=\"https://colab.research.google.com/github/vkjadon/ros2/blob/master/oop_robot.ipynb\" target=\"_parent\"><img src=\"https://colab.research.google.com/assets/colab-badge.svg\" alt=\"Open In Colab\"/></a>"
      ]
    },
    {
      "cell_type": "markdown",
      "source": [
        "# Introducing Class and Object"
      ],
      "metadata": {
        "id": "-TOFyWuxOCee"
      }
    },
    {
      "cell_type": "code",
      "source": [
        "class Robot:\n",
        "    pass"
      ],
      "metadata": {
        "id": "xyJFMqwazTPF"
      },
      "execution_count": null,
      "outputs": []
    },
    {
      "cell_type": "code",
      "source": [
        "my_first_robot=Robot()\n",
        "my_second_robot=Robot()"
      ],
      "metadata": {
        "id": "jlBcATgwzjsu"
      },
      "execution_count": null,
      "outputs": []
    },
    {
      "cell_type": "code",
      "source": [
        "print(my_first_robot)\n",
        "print(my_second_robot)"
      ],
      "metadata": {
        "colab": {
          "base_uri": "https://localhost:8080/"
        },
        "id": "-rjZ94r5zsAq",
        "outputId": "5d98769a-6a05-4d03-eb1d-95f9430b4f18"
      },
      "execution_count": null,
      "outputs": [
        {
          "output_type": "stream",
          "name": "stdout",
          "text": [
            "<__main__.Robot object at 0x7eb90a45fa90>\n",
            "<__main__.Robot object at 0x7eb90a4d8ac0>\n"
          ]
        }
      ]
    },
    {
      "cell_type": "markdown",
      "source": [
        "# Adding Attributes to a Class"
      ],
      "metadata": {
        "id": "YbbMkSUoOHa0"
      }
    },
    {
      "cell_type": "code",
      "execution_count": null,
      "metadata": {
        "colab": {
          "base_uri": "https://localhost:8080/"
        },
        "id": "eCCfS4MBy6SQ",
        "outputId": "dde6f6ea-f8c8-4c91-a98f-8c4dffdc7461"
      },
      "outputs": [
        {
          "output_type": "stream",
          "name": "stdout",
          "text": [
            "<__main__.Robot object at 0x7eb9097286d0>\n"
          ]
        }
      ],
      "source": [
        "class Robot:\n",
        "    name = None\n",
        "    model = None\n",
        "\n",
        "my_robot=Robot()\n",
        "print(my_robot)"
      ]
    },
    {
      "cell_type": "code",
      "source": [
        "my_robot.name=\"R2D2\"\n",
        "my_robot.model=\"Droid\""
      ],
      "metadata": {
        "id": "NAGh6tuTz48D"
      },
      "execution_count": null,
      "outputs": []
    },
    {
      "cell_type": "code",
      "source": [
        "my_second_robot.name=\"C3PO\"\n",
        "my_second_robot.model=\"Droid\""
      ],
      "metadata": {
        "id": "FL0eEmYKNuNg"
      },
      "execution_count": null,
      "outputs": []
    },
    {
      "cell_type": "markdown",
      "source": [
        "# Add Parameters to Class Constructor"
      ],
      "metadata": {
        "id": "vmR7JOjwO6rP"
      }
    },
    {
      "cell_type": "code",
      "source": [
        "class Robot():\n",
        "  def __init__(self, name, model):\n",
        "    self.name = name\n",
        "    self.model = model\n",
        "\n",
        "my_robot=Robot(\"R2D2\", \"Droid\")\n",
        "my_second_robot=Robot(\"C3PO\", \"Droid\")\n",
        "\n",
        "print(my_robot.model)"
      ],
      "metadata": {
        "id": "45jR_TStO-7Z",
        "outputId": "e216fffb-64ac-4d1c-cc26-deb08143900b",
        "colab": {
          "base_uri": "https://localhost:8080/"
        }
      },
      "execution_count": null,
      "outputs": [
        {
          "output_type": "stream",
          "name": "stdout",
          "text": [
            "Droid\n"
          ]
        }
      ]
    },
    {
      "cell_type": "markdown",
      "source": [
        "We can access the Robot Class attributes from the outside of the class."
      ],
      "metadata": {
        "id": "dEfZDfslRcDA"
      }
    },
    {
      "cell_type": "markdown",
      "source": [
        "# Add a method to the class"
      ],
      "metadata": {
        "id": "CKx-oLqmRAsO"
      }
    },
    {
      "cell_type": "code",
      "source": [
        "class Robot():\n",
        "  def __init__(self, name, model):\n",
        "    self.name = name\n",
        "    self.model = model\n",
        "\n",
        "  def robot_info(self):\n",
        "    print(self, \"Name : \", self.name, \"| Model : \", self.model)"
      ],
      "metadata": {
        "id": "qoGx_PFcP1dU"
      },
      "execution_count": null,
      "outputs": []
    },
    {
      "cell_type": "code",
      "source": [
        "my_robot=Robot(\"R2D2\", \"Droid\")\n",
        "my_second_robot=Robot(\"C3PO\", \"Droid\")\n",
        "\n",
        "# print(my_robot)\n",
        "my_robot.robot_info()\n",
        "\n",
        "# print(my_second_robot)\n",
        "my_second_robot.robot_info()"
      ],
      "metadata": {
        "colab": {
          "base_uri": "https://localhost:8080/"
        },
        "id": "AHpwABSg5Nm_",
        "outputId": "485ae4b3-617f-41d7-8136-099b16b7cdbd"
      },
      "execution_count": null,
      "outputs": [
        {
          "output_type": "stream",
          "name": "stdout",
          "text": [
            "<__main__.Robot object at 0x7eb9097299f0> Name :  R2D2 | Model :  Droid\n",
            "<__main__.Robot object at 0x7eb909728280> Name :  C3PO | Model :  Droid\n"
          ]
        }
      ]
    },
    {
      "cell_type": "code",
      "source": [
        "print(my_robot.__dict__)"
      ],
      "metadata": {
        "id": "1nIGnvBSUn8o",
        "outputId": "164b6629-27ed-479e-baa9-15621ec8b1f3",
        "colab": {
          "base_uri": "https://localhost:8080/"
        }
      },
      "execution_count": null,
      "outputs": [
        {
          "output_type": "stream",
          "name": "stdout",
          "text": [
            "{'name': 'R2D2', 'model': 'Droid'}\n"
          ]
        }
      ]
    },
    {
      "cell_type": "markdown",
      "source": [
        "# Add Robot Components\n",
        "\n",
        "Let us add battery to begin with by creating a Battery Class and add one attribute 'capacity' to this class."
      ],
      "metadata": {
        "id": "idqlJuleUUar"
      }
    },
    {
      "cell_type": "code",
      "source": [
        "class Battery:\n",
        "    def __init__(self, capacity):\n",
        "        self.capacity = capacity"
      ],
      "metadata": {
        "id": "YbKyC5XYUaVT"
      },
      "execution_count": null,
      "outputs": []
    },
    {
      "cell_type": "code",
      "source": [
        "# Create instances of Battery\n",
        "battery1 = Battery(5000)\n",
        "battery2 = Battery(8000)"
      ],
      "metadata": {
        "id": "bsCRa0FxnoBZ"
      },
      "execution_count": null,
      "outputs": []
    },
    {
      "cell_type": "markdown",
      "source": [
        "Need to change the Robot Class by adding battery Object as parameter and add that as Class attribute."
      ],
      "metadata": {
        "id": "WDZAJyh97s94"
      }
    },
    {
      "cell_type": "code",
      "source": [
        "class Robot():\n",
        "  def __init__(self, name, model, battery):\n",
        "    self.name = name\n",
        "    self.model = model\n",
        "    self.battery = battery\n",
        "\n",
        "  def robot_info(self):\n",
        "    print(self, \"Name : \", self.name, \"| Model : \", self.model, \"| Battery : \", self.battery.capacity)"
      ],
      "metadata": {
        "id": "vw3nbpWs7WM8"
      },
      "execution_count": null,
      "outputs": []
    },
    {
      "cell_type": "code",
      "source": [
        "# Create instances of Robot\n",
        "my_robot=Robot(\"R2D2\", \"Droid\", battery1)\n",
        "my_second_robot=Robot(\"C3PO\", \"Droid\", battery2)"
      ],
      "metadata": {
        "id": "X4_S_cC9nx7y"
      },
      "execution_count": null,
      "outputs": []
    },
    {
      "cell_type": "markdown",
      "source": [
        "Print the objects Info"
      ],
      "metadata": {
        "id": "KWr-w_F76T-d"
      }
    },
    {
      "cell_type": "code",
      "source": [
        "my_robot.robot_info()\n",
        "my_second_robot.robot_info()"
      ],
      "metadata": {
        "colab": {
          "base_uri": "https://localhost:8080/"
        },
        "id": "voMqpS1H6S3Z",
        "outputId": "44d0bd76-ccda-4774-cc89-b935cea6baf3"
      },
      "execution_count": null,
      "outputs": [
        {
          "output_type": "stream",
          "name": "stdout",
          "text": [
            "<__main__.Robot object at 0x7eb90972b4c0> Name :  R2D2 | Model :  Droid | Battery :  5000\n",
            "<__main__.Robot object at 0x7eb90972b490> Name :  C3PO | Model :  Droid | Battery :  8000\n"
          ]
        }
      ]
    },
    {
      "cell_type": "markdown",
      "source": [
        "Let us now add one more component Motor with power as one attribute."
      ],
      "metadata": {
        "id": "aA3GExnI9Uou"
      }
    },
    {
      "cell_type": "code",
      "source": [
        "class Motor:\n",
        "  def __init__(self, power):\n",
        "    self.power = power"
      ],
      "metadata": {
        "id": "vVZdjH-d8jWV"
      },
      "execution_count": null,
      "outputs": []
    },
    {
      "cell_type": "code",
      "source": [
        "# Create instances of Motor\n",
        "motor200 = Motor(200)"
      ],
      "metadata": {
        "id": "Wy4GQ4gz9utA"
      },
      "execution_count": null,
      "outputs": []
    },
    {
      "cell_type": "markdown",
      "source": [
        "Attach motor to Robots by modifying the Robot Class"
      ],
      "metadata": {
        "id": "0BjeH0m79gSe"
      }
    },
    {
      "cell_type": "code",
      "source": [
        "class Robot():\n",
        "  def __init__(self, name, model, battery, motor):\n",
        "    self.name = name\n",
        "    self.model = model\n",
        "    self.battery = battery\n",
        "    self.motor = motor\n",
        "\n",
        "  def robot_info(self):\n",
        "    print(self, \"Name : \", self.name, \"| Model : \", self.model, \"| Battery : \", self.battery.capacity, \"kWh| Motor : \", self.motor.power, \"Watt\")"
      ],
      "metadata": {
        "id": "YQH9zyJ9-Cbc"
      },
      "execution_count": null,
      "outputs": []
    },
    {
      "cell_type": "markdown",
      "source": [
        "Update the instances of the class to add object of Motor class as an arguement"
      ],
      "metadata": {
        "id": "27ZvtuSPDBxp"
      }
    },
    {
      "cell_type": "code",
      "source": [
        "# Create instances of Robot\n",
        "my_robot=Robot(\"R2D2\", \"Droid\", battery1, motor200)\n",
        "my_second_robot=Robot(\"C3PO\", \"Droid\", battery2, motor200)\n",
        "\n",
        "my_robot.robot_info()\n",
        "my_second_robot.robot_info()"
      ],
      "metadata": {
        "colab": {
          "base_uri": "https://localhost:8080/"
        },
        "id": "pHcOWncmcH0a",
        "outputId": "89e34d83-a28f-4bb4-f45d-fa0cc22648b7"
      },
      "execution_count": null,
      "outputs": [
        {
          "output_type": "stream",
          "name": "stdout",
          "text": [
            "<__main__.Robot object at 0x7eb909729ea0> Name :  R2D2 | Model :  Droid | Battery :  5000 kWh| Motor :  200 Watt\n",
            "<__main__.Robot object at 0x7eb909729fc0> Name :  C3PO | Model :  Droid | Battery :  8000 kWh| Motor :  200 Watt\n"
          ]
        }
      ]
    },
    {
      "cell_type": "markdown",
      "source": [
        "Our robot must have some sesnsors. The important sensors are range finder, imu, camera etc. Create classes for each of these."
      ],
      "metadata": {
        "id": "yGYMXxD5DqT7"
      }
    },
    {
      "cell_type": "code",
      "source": [
        "# Define the RangeFinder class\n",
        "class RangeFinder:\n",
        "  def __init__(self, model, min_range, max_range):\n",
        "    self.model = model\n",
        "    self.min_range = min_range\n",
        "    self.max_range = max_range\n",
        "\n",
        "# Define the IMU class\n",
        "class IMU:\n",
        "  def __init__(self, model):\n",
        "    self.model = model\n",
        "\n",
        "# Define the Camera class\n",
        "class Camera:\n",
        "  def __init__(self, model, resolution):\n",
        "    self.model = model\n",
        "    self.resolution = resolution"
      ],
      "metadata": {
        "id": "QvN1Ix9oEQIF"
      },
      "execution_count": null,
      "outputs": []
    },
    {
      "cell_type": "markdown",
      "source": [
        "Create sensor objects 'range_finder', 'imu' and 'camera' by instantiating their respective classes."
      ],
      "metadata": {
        "id": "dpFva8uFZMx8"
      }
    },
    {
      "cell_type": "code",
      "source": [
        "Ultrasonic_HC_SR04 = RangeFinder(\"Ultrasonic\", 1, 100)\n",
        "imu_MPU6050 = IMU(\"MPU6050\")\n",
        "camera_Pana12 = Camera(\"Panasonic\", \"12MP\")"
      ],
      "metadata": {
        "id": "CjgwXKR4GLof"
      },
      "execution_count": null,
      "outputs": []
    },
    {
      "cell_type": "markdown",
      "source": [
        "Update the Robot Class to add sensors attributes and update the 'robot_info' method to display sensors on the"
      ],
      "metadata": {
        "id": "Zc7sw_dDFGgv"
      }
    },
    {
      "cell_type": "code",
      "source": [
        "class Robot():\n",
        "  def __init__(self, name, model, battery, motor, range_finder, imu, camera):\n",
        "    self.name = name\n",
        "    self.model = model\n",
        "    self.battery = battery\n",
        "    self.motor = motor\n",
        "    self.range_finder = range_finder\n",
        "    self.imu = imu\n",
        "    self.camera = camera\n",
        "\n",
        "  def robot_info(self):\n",
        "    print(\"Name : \", self.name, \"| Model : \", self.model, \"| Battery : \", self.battery.capacity, \"kWh| Motor : \", self.motor.power, \"Watt\")\n",
        "    print(\"\\nThe Robot is equipped with the following Sensors : \")\n",
        "    print(\"\\tRange Finder >> \", self.range_finder.model, self.range_finder.min_range, self.range_finder.max_range)\n",
        "    print(\"\\tIMU >> \", self.imu.model)\n",
        "    print(\"\\tCamera >> \", self.camera.model, self.camera.resolution)"
      ],
      "metadata": {
        "id": "Tj40q54MFbig"
      },
      "execution_count": null,
      "outputs": []
    },
    {
      "cell_type": "markdown",
      "source": [
        "Update the robot objects."
      ],
      "metadata": {
        "id": "JqOxQ5c4bHX8"
      }
    },
    {
      "cell_type": "code",
      "source": [
        "# Create instances of Robot\n",
        "my_robot=Robot(\"R2D2\", \"Droid\", battery1, motor200, Ultrasonic_HC_SR04, imu_MPU6050, camera_Pana12)\n",
        "my_robot.robot_info()\n",
        "print(\"\\t\",camera_Pana12.resolution)"
      ],
      "metadata": {
        "colab": {
          "base_uri": "https://localhost:8080/"
        },
        "id": "LhH8Ha8OcYW_",
        "outputId": "a81a3d0c-0251-48a3-c8a2-cd06807da1c1"
      },
      "execution_count": null,
      "outputs": [
        {
          "output_type": "stream",
          "name": "stdout",
          "text": [
            "Name :  R2D2 | Model :  Droid | Battery :  5000 kWh| Motor :  200 Watt\n",
            "\n",
            "The Robot is equipped with the following Sensors : \n",
            "\tRange Finder >>  Ultrasonic 1 100\n",
            "\tIMU >>  MPU6050\n",
            "\tCamera >>  Panasonic 12MP\n",
            "\t 12MP\n"
          ]
        }
      ]
    },
    {
      "cell_type": "markdown",
      "source": [
        "As the components keep on increasing, the attributes list goes on longer. One method to clean our code is to pass the sensors in one dictionary. Let us create one dictionary with the name 'sensors' and add all the sensors in it."
      ],
      "metadata": {
        "id": "JHQert7JhQXM"
      }
    },
    {
      "cell_type": "code",
      "source": [
        "sensors_set1={'range_finder':Ultrasonic_HC_SR04, 'imu':imu_MPU6050, 'camera':camera_Pana12}"
      ],
      "metadata": {
        "id": "PX59wat8h6JE"
      },
      "execution_count": null,
      "outputs": []
    },
    {
      "cell_type": "markdown",
      "source": [
        "Now, we can pass this dictionary when we create our Robot"
      ],
      "metadata": {
        "id": "UgCWNfPTiGek"
      }
    },
    {
      "cell_type": "code",
      "source": [
        "class Robot():\n",
        "  def __init__(self, name, model, battery, motor, sensors):\n",
        "    self.name = name\n",
        "    self.model = model\n",
        "    self.battery = battery\n",
        "    self.motor = motor\n",
        "    self.sensors = sensors\n",
        "\n",
        "  def robot_info(self):\n",
        "    print(\"Name : \", self.__name, \"| Model : \", self.model, \"| Battery : \", self.battery.capacity, \"kWh| Motor : \", self.motor.power, \"Watt\")\n",
        "    print(\"\\nThe Robot is equipped with the following Sensors : \")\n",
        "    print(\"\\tIMU >> \", self.sensors['imu'].model)"
      ],
      "metadata": {
        "id": "RjYY0t5hisWL"
      },
      "execution_count": null,
      "outputs": []
    },
    {
      "cell_type": "code",
      "source": [
        "my_robot=Robot(\"R2D2\", \"Droid\", battery1, motor200, sensors_set1)\n",
        "my_robot.robot_info()\n",
        "my_robot.name"
      ],
      "metadata": {
        "colab": {
          "base_uri": "https://localhost:8080/",
          "height": 323
        },
        "id": "hRRkjo0GiUDq",
        "outputId": "d103b5cd-2186-4459-f9c2-bbd7859a67a6"
      },
      "execution_count": null,
      "outputs": [
        {
          "output_type": "error",
          "ename": "AttributeError",
          "evalue": "'Robot' object has no attribute '_Robot__name'",
          "traceback": [
            "\u001b[0;31m---------------------------------------------------------------------------\u001b[0m",
            "\u001b[0;31mAttributeError\u001b[0m                            Traceback (most recent call last)",
            "\u001b[0;32m<ipython-input-26-74679aba37ec>\u001b[0m in \u001b[0;36m<cell line: 2>\u001b[0;34m()\u001b[0m\n\u001b[1;32m      1\u001b[0m \u001b[0mmy_robot\u001b[0m\u001b[0;34m=\u001b[0m\u001b[0mRobot\u001b[0m\u001b[0;34m(\u001b[0m\u001b[0;34m\"R2D2\"\u001b[0m\u001b[0;34m,\u001b[0m \u001b[0;34m\"Droid\"\u001b[0m\u001b[0;34m,\u001b[0m \u001b[0mbattery1\u001b[0m\u001b[0;34m,\u001b[0m \u001b[0mmotor200\u001b[0m\u001b[0;34m,\u001b[0m \u001b[0msensors_set1\u001b[0m\u001b[0;34m)\u001b[0m\u001b[0;34m\u001b[0m\u001b[0;34m\u001b[0m\u001b[0m\n\u001b[0;32m----> 2\u001b[0;31m \u001b[0mmy_robot\u001b[0m\u001b[0;34m.\u001b[0m\u001b[0mrobot_info\u001b[0m\u001b[0;34m(\u001b[0m\u001b[0;34m)\u001b[0m\u001b[0;34m\u001b[0m\u001b[0;34m\u001b[0m\u001b[0m\n\u001b[0m\u001b[1;32m      3\u001b[0m \u001b[0mmy_robot\u001b[0m\u001b[0;34m.\u001b[0m\u001b[0mname\u001b[0m\u001b[0;34m\u001b[0m\u001b[0;34m\u001b[0m\u001b[0m\n",
            "\u001b[0;32m<ipython-input-25-ef296fb47489>\u001b[0m in \u001b[0;36mrobot_info\u001b[0;34m(self)\u001b[0m\n\u001b[1;32m      8\u001b[0m \u001b[0;34m\u001b[0m\u001b[0m\n\u001b[1;32m      9\u001b[0m   \u001b[0;32mdef\u001b[0m \u001b[0mrobot_info\u001b[0m\u001b[0;34m(\u001b[0m\u001b[0mself\u001b[0m\u001b[0;34m)\u001b[0m\u001b[0;34m:\u001b[0m\u001b[0;34m\u001b[0m\u001b[0;34m\u001b[0m\u001b[0m\n\u001b[0;32m---> 10\u001b[0;31m     \u001b[0mprint\u001b[0m\u001b[0;34m(\u001b[0m\u001b[0;34m\"Name : \"\u001b[0m\u001b[0;34m,\u001b[0m \u001b[0mself\u001b[0m\u001b[0;34m.\u001b[0m\u001b[0m__name\u001b[0m\u001b[0;34m,\u001b[0m \u001b[0;34m\"| Model : \"\u001b[0m\u001b[0;34m,\u001b[0m \u001b[0mself\u001b[0m\u001b[0;34m.\u001b[0m\u001b[0mmodel\u001b[0m\u001b[0;34m,\u001b[0m \u001b[0;34m\"| Battery : \"\u001b[0m\u001b[0;34m,\u001b[0m \u001b[0mself\u001b[0m\u001b[0;34m.\u001b[0m\u001b[0mbattery\u001b[0m\u001b[0;34m.\u001b[0m\u001b[0mcapacity\u001b[0m\u001b[0;34m,\u001b[0m \u001b[0;34m\"kWh| Motor : \"\u001b[0m\u001b[0;34m,\u001b[0m \u001b[0mself\u001b[0m\u001b[0;34m.\u001b[0m\u001b[0mmotor\u001b[0m\u001b[0;34m.\u001b[0m\u001b[0mpower\u001b[0m\u001b[0;34m,\u001b[0m \u001b[0;34m\"Watt\"\u001b[0m\u001b[0;34m)\u001b[0m\u001b[0;34m\u001b[0m\u001b[0;34m\u001b[0m\u001b[0m\n\u001b[0m\u001b[1;32m     11\u001b[0m     \u001b[0mprint\u001b[0m\u001b[0;34m(\u001b[0m\u001b[0;34m\"\\nThe Robot is equipped with the following Sensors : \"\u001b[0m\u001b[0;34m)\u001b[0m\u001b[0;34m\u001b[0m\u001b[0;34m\u001b[0m\u001b[0m\n\u001b[1;32m     12\u001b[0m     \u001b[0mprint\u001b[0m\u001b[0;34m(\u001b[0m\u001b[0;34m\"\\tIMU >> \"\u001b[0m\u001b[0;34m,\u001b[0m \u001b[0mself\u001b[0m\u001b[0;34m.\u001b[0m\u001b[0msensors\u001b[0m\u001b[0;34m[\u001b[0m\u001b[0;34m'imu'\u001b[0m\u001b[0;34m]\u001b[0m\u001b[0;34m.\u001b[0m\u001b[0mmodel\u001b[0m\u001b[0;34m)\u001b[0m\u001b[0;34m\u001b[0m\u001b[0;34m\u001b[0m\u001b[0m\n",
            "\u001b[0;31mAttributeError\u001b[0m: 'Robot' object has no attribute '_Robot__name'"
          ]
        }
      ]
    },
    {
      "cell_type": "markdown",
      "source": [
        "We can add another functionality of counting how many objects we have based on Robot Class. As this functionality is not related to any of the object, we use special method named as Class Method for this task. The class method is declared by using a decorator @classmethod. As this method is not object dependent, so we will not use 'self' but instead, we have to use 'cls'."
      ],
      "metadata": {
        "id": "bj-nqZyTIHfm"
      }
    },
    {
      "cell_type": "markdown",
      "source": [
        "Here the 'total_robots' variable is also based on class, we call this variable as class variable and is initialized at the begining of the class. This is processed (incremented in this case) in the '_ _ init_ _' method. Just to remind that the constructor or the '_ _ init_ _' method is only called by default when the object of the is instantiated. So, we have to make some changes in the class."
      ],
      "metadata": {
        "id": "qp7jBr20LNuz"
      }
    },
    {
      "cell_type": "code",
      "source": [
        "class Robot():\n",
        "  total_robots = 0  # Class variable to keep track of the number of Robot instances\n",
        "  def __init__(self, name, model, battery, motor, sensors):\n",
        "    self._name = name\n",
        "    self.model = model\n",
        "    self.battery = battery\n",
        "    self.motor = motor\n",
        "    self.sensors = sensors\n",
        "    Robot.total_robots += 1  # Increment the class variable\n",
        "\n",
        "  def robot_info(self):\n",
        "    print(\"Name : \", self.name, \"| Model : \", self.model, \"| Battery : \", self.battery.capacity, \"kWh| Motor : \", self.motor.power, \"Watt\")\n",
        "    print(\"\\nThe Robot is equipped with the following Sensors : \")\n",
        "    print(\"\\tIMU >> \", self.sensors['imu'].model)\n",
        "    # Class method to get the total number of robots\n",
        "\n",
        "  @classmethod\n",
        "  def get_total_robots(cls):\n",
        "    return cls.total_robots"
      ],
      "metadata": {
        "id": "aMWA7pAlLFOA"
      },
      "execution_count": null,
      "outputs": []
    },
    {
      "cell_type": "markdown",
      "source": [
        "We can also create one method in the Robot Class to count the Robots. This method should be invoked in the constructor only."
      ],
      "metadata": {
        "id": "fYvw6gHqpAFd"
      }
    },
    {
      "cell_type": "code",
      "source": [
        "# Define the Battery class to demonstrate composition\n",
        "class Battery:\n",
        "  def __init__(self, capacity):\n",
        "    self.capacity = capacity\n",
        "\n",
        "  def get_capacity(self):\n",
        "    return self.capacity\n",
        "\n",
        "# Define the Motor class to demonstrate composition\n",
        "class Motor:\n",
        "  def __init__(self, power):\n",
        "    self.power = power\n",
        "\n",
        "  def get_power(self):\n",
        "    return self.power\n",
        "\n",
        "# Define the RangeFinder class\n",
        "class RangeFinder:\n",
        "  def __init__(self, max_range):\n",
        "    self.max_range = max_range\n",
        "\n",
        "  def get_distance(self):\n",
        "    return self.max_range / 2  # Example fixed value for demonstration\n",
        "\n",
        "# Define the IMU class\n",
        "class IMU:\n",
        "  def __init__(self, model):\n",
        "    self.model = model\n",
        "\n",
        "  def get_orientation(self):\n",
        "    return {\"roll\": 0.1, \"pitch\": 0.1, \"yaw\": 0.1}  # Example fixed values for demonstration\n",
        "\n",
        "# Define a configuration class to encapsulate all configurations\n",
        "class RobotConfig:\n",
        "  def __init__(self, name, model, battery, motor, sensors):\n",
        "    self.name = name\n",
        "    self.model = model\n",
        "    self.battery = battery\n",
        "    self.motor = motor\n",
        "    self.sensors = sensors\n",
        "\n",
        "# Define the base Robot class to demonstrate encapsulation and basic OOP concepts\n",
        "class Robot:\n",
        "  total_robots = 0  # Class variable to keep track of the number of Robot instances\n",
        "\n",
        "  def __init__(self, config):\n",
        "    self.__name = config.name  # private attribute\n",
        "    self.__model = config.model  # private attribute\n",
        "    self.battery = config.battery  # composition\n",
        "    self.motor = config.motor  # composition\n",
        "    self.sensors = config.sensors  # composition\n",
        "    Robot.total_robots += 1  # Increment the class variable\n",
        "\n",
        "    # Encapsulated methods to access private attributes\n",
        "\n",
        "    def get_name(self):\n",
        "      return self.__name\n",
        "\n",
        "    def set_name(self, name):\n",
        "      self.__name = name\n",
        "\n",
        "    def get_model(self):\n",
        "      return self.__model\n",
        "\n",
        "    def set_model(self, model):\n",
        "      self.__model = model\n",
        "\n",
        "    # Method to move the robot\n",
        "    def move(self, direction, distance):\n",
        "      print(f\"{self.__name} (model {self.__model}) with battery capacity {self.battery.get_capacity()}mAh \"\n",
        "              f\"and motor power {self.motor.get_power()}W is moving {direction} for {distance} meters\")\n",
        "\n",
        "    # Method to get range finder reading\n",
        "    def get_range(self):\n",
        "      return self.sensors['range_finder'].get_distance()\n",
        "\n",
        "    # Method to get IMU reading\n",
        "    def get_orientation(self):\n",
        "      return self.sensors['imu'].get_orientation()\n",
        "\n",
        "    # Class method to get the total number of robots\n",
        "    @classmethod\n",
        "    def get_total_robots(cls):\n",
        "      return cls.total_robots\n",
        "\n",
        "# Define a subclass of Robot to demonstrate inheritance and method overriding\n",
        "class FlyingRobot(Robot):\n",
        "    total_flying_robots = 0  # Class variable to keep track of the number of FlyingRobot instances\n",
        "\n",
        "    def __init__(self, config, altitude):\n",
        "      super().__init__(config)  # call the base class constructor\n",
        "      self.altitude = altitude\n",
        "      FlyingRobot.total_flying_robots += 1  # Increment the class variable\n",
        "\n",
        "    # Overriding the move method to include flying behavior\n",
        "    def move(self, direction, distance):\n",
        "      print(f\"{self.get_name()} (model {self.get_model()}) with battery capacity {self.battery.get_capacity()}mAh \"\n",
        "              f\"and motor power {self.motor.get_power()}W is flying {direction} for {distance} meters at altitude {self.altitude} meters\")\n",
        "\n",
        "    # Class method to get the total number of flying robots\n",
        "    @classmethod\n",
        "    def get_total_flying_robots(cls):\n",
        "      return cls.total_flying_robots\n",
        "\n",
        "# Define a function to demonstrate polymorphism\n",
        "def operate_robot(robot, direction, distance):\n",
        "  robot.move(direction, distance)\n",
        "\n",
        "# Main script\n",
        "if __name__ == \"__main__\":\n",
        "    # Create instances of Battery, Motor, RangeFinder, and IMU\n",
        "  battery1 = Battery(5000)\n",
        "  motor1 = Motor(200)\n",
        "  range_finder1 = RangeFinder(100)\n",
        "  imu1 = IMU(\"MPU6050\")\n",
        "\n",
        "  battery2 = Battery(8000)\n",
        "  motor2 = Motor(400)\n",
        "  range_finder2 = RangeFinder(150)\n",
        "  imu2 = IMU(\"MPU6050\")\n",
        "\n",
        "  # Create configuration objects\n",
        "  config1 = RobotConfig(\"Robo1\", \"RX-78\", battery1, motor1, {'range_finder': range_finder1, 'imu': imu1})\n",
        "  config2 = RobotConfig(\"FlyBot1\", \"FX-99\", battery2, motor2, {'range_finder': range_finder2, 'imu': imu2})\n",
        "\n",
        "  # Create instances of the Robot and FlyingRobot classes using the configuration objects\n",
        "  robot1 = Robot(config1)\n",
        "  print(robot1.get_name())\n",
        "  robot1.set_name(\"Robo2\")\n",
        "  print(robot1.get_name())\n",
        "  robot1.move(\"forward\", 10)\n",
        "  print(f\"Range: {robot1.get_range()} meters\")\n",
        "  print(f\"Orientation: {robot1.get_orientation()}\")\n",
        "\n",
        "  flying_robot = FlyingRobot(config2, 100)\n",
        "  flying_robot.move(\"upwards\", 20)\n",
        "  print(f\"Range: {flying_robot.get_range()} meters\")\n",
        "  print(f\"Orientation: {flying_robot.get_orientation()}\")\n",
        "\n",
        "  # Using polymorphism to operate different types of robots\n",
        "  operate_robot(robot1, \"left\", 5)\n",
        "  operate_robot(flying_robot, \"right\", 15)\n",
        "\n",
        "  # Display the total number of robots and flying robots\n",
        "  print(f\"Total robots: {Robot.get_total_robots()}\")\n",
        "  print(f\"Total flying robots: {FlyingRobot.get_total_flying_robots()}\")\n"
      ],
      "metadata": {
        "id": "YKqAwGAAoskA"
      },
      "execution_count": null,
      "outputs": []
    }
  ]
}