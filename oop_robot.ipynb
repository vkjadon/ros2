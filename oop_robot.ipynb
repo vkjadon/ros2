{
  "nbformat": 4,
  "nbformat_minor": 0,
  "metadata": {
    "colab": {
      "provenance": [],
      "toc_visible": true,
      "authorship_tag": "ABX9TyOG/tYF7o0lDdiixi7dTowi",
      "include_colab_link": true
    },
    "kernelspec": {
      "name": "python3",
      "display_name": "Python 3"
    },
    "language_info": {
      "name": "python"
    }
  },
  "cells": [
    {
      "cell_type": "markdown",
      "metadata": {
        "id": "view-in-github",
        "colab_type": "text"
      },
      "source": [
        "<a href=\"https://colab.research.google.com/github/vkjadon/ros2/blob/master/oop_robot.ipynb\" target=\"_parent\"><img src=\"https://colab.research.google.com/assets/colab-badge.svg\" alt=\"Open In Colab\"/></a>"
      ]
    },
    {
      "cell_type": "markdown",
      "source": [
        "# Introducing Class and Object"
      ],
      "metadata": {
        "id": "-TOFyWuxOCee"
      }
    },
    {
      "cell_type": "markdown",
      "source": [
        "A class provides a blueprint or template for creating objects. It is just like designing a form. The fields are same for the any person but the entries are different. The form represents a class and the fields represents the attributes. We can take example of account opening form where every person fill that form to open account (object/instance).  \n",
        "\n",
        "We can represent a class by 'class' keyword as below."
      ],
      "metadata": {
        "id": "rBZLZHETcC3q"
      }
    },
    {
      "cell_type": "code",
      "source": [
        "class Robot:\n",
        "    pass"
      ],
      "metadata": {
        "id": "xyJFMqwazTPF"
      },
      "execution_count": 1,
      "outputs": []
    },
    {
      "cell_type": "markdown",
      "source": [
        "This creates a 'Robot' class but we have not added any field (attributes) in that template of Robot.  \n",
        "\n",
        "We can create object of this class by instantiating the class as below:"
      ],
      "metadata": {
        "id": "6wjc08qkdIq0"
      }
    },
    {
      "cell_type": "code",
      "source": [
        "my_first_robot=Robot()\n",
        "my_second_robot=Robot()"
      ],
      "metadata": {
        "id": "jlBcATgwzjsu"
      },
      "execution_count": 2,
      "outputs": []
    },
    {
      "cell_type": "code",
      "source": [
        "print(my_first_robot)\n",
        "print(my_second_robot)"
      ],
      "metadata": {
        "id": "-rjZ94r5zsAq",
        "outputId": "a9db6a45-3283-464c-dce4-e9fd1a31668b",
        "colab": {
          "base_uri": "https://localhost:8080/"
        }
      },
      "execution_count": 3,
      "outputs": [
        {
          "output_type": "stream",
          "name": "stdout",
          "text": [
            "<__main__.Robot object at 0x7b881b7b8790>\n",
            "<__main__.Robot object at 0x7b881b7ba5c0>\n"
          ]
        }
      ]
    },
    {
      "cell_type": "markdown",
      "source": [
        "# Adding Attributes to a Class : Instance Variable"
      ],
      "metadata": {
        "id": "YbbMkSUoOHa0"
      }
    },
    {
      "cell_type": "markdown",
      "source": [
        "Attributes are properties that belong to a class or instances of a class. They can be divided into two main categories of class variable and instance variable. In the example of 'Robot' class, we added two attributes of 'name' and 'model'.\n",
        "\n",
        "The instance variable are accessible only through the specific instance."
      ],
      "metadata": {
        "id": "XbCOVj9ytABX"
      }
    },
    {
      "cell_type": "code",
      "execution_count": 4,
      "metadata": {
        "id": "eCCfS4MBy6SQ",
        "outputId": "f4abe4cd-6a40-4ab9-dd87-ab2ba7a935a0",
        "colab": {
          "base_uri": "https://localhost:8080/"
        }
      },
      "outputs": [
        {
          "output_type": "stream",
          "name": "stdout",
          "text": [
            "None\n",
            "None\n"
          ]
        }
      ],
      "source": [
        "class Robot:\n",
        "    name = None\n",
        "    model = None\n",
        "\n",
        "my_first_robot=Robot()\n",
        "\n",
        "print(my_first_robot.name)\n",
        "print(my_first_robot.model)"
      ]
    },
    {
      "cell_type": "markdown",
      "source": [
        "# Assigning Value to Instance Variable"
      ],
      "metadata": {
        "id": "6asmbaSufm6c"
      }
    },
    {
      "cell_type": "markdown",
      "source": [
        "Here we have added two attributes but the 'None' is assigned. We can assign the 'name' and 'model' using ***attribute access operator***; the 'dot' (.) as below:"
      ],
      "metadata": {
        "id": "w70gGKcdeVcH"
      }
    },
    {
      "cell_type": "code",
      "source": [
        "my_first_robot.name=\"R2D2\"\n",
        "my_first_robot.model=\"Droid\""
      ],
      "metadata": {
        "id": "NAGh6tuTz48D"
      },
      "execution_count": 5,
      "outputs": []
    },
    {
      "cell_type": "code",
      "source": [
        "my_second_robot.name=\"C3PO\"\n",
        "my_second_robot.model=\"Droid\""
      ],
      "metadata": {
        "id": "FL0eEmYKNuNg"
      },
      "execution_count": 6,
      "outputs": []
    },
    {
      "cell_type": "code",
      "source": [
        "print(my_first_robot.name)\n",
        "print(my_first_robot.model)"
      ],
      "metadata": {
        "id": "Sn0mvYqRp0Tp",
        "outputId": "b23a8a36-62a7-415b-80e5-f586f922410d",
        "colab": {
          "base_uri": "https://localhost:8080/"
        }
      },
      "execution_count": 7,
      "outputs": [
        {
          "output_type": "stream",
          "name": "stdout",
          "text": [
            "R2D2\n",
            "Droid\n"
          ]
        }
      ]
    },
    {
      "cell_type": "markdown",
      "source": [
        "In case the attributes are more, this method is not very convient to assign attributes for an object. So, we use a method called constructor method to add attributes to a class."
      ],
      "metadata": {
        "id": "jVembJcYa81B"
      }
    },
    {
      "cell_type": "markdown",
      "source": [
        "# Add Parameters to Class Constructor"
      ],
      "metadata": {
        "id": "vmR7JOjwO6rP"
      }
    },
    {
      "cell_type": "markdown",
      "source": [
        "In python, the constructor method is defined in ' _ _ init _ _ '. The first parameter in the constructor is 'self' which represent the instance of the class.  \n",
        "\n",
        "Add 'name' and 'model' as attributes of the Robot Class. In the context of the variable, the 'name' and 'model' are the attribute classified in the category of instance variable."
      ],
      "metadata": {
        "id": "nHOBk9N8ajb1"
      }
    },
    {
      "cell_type": "code",
      "source": [
        "class Robot():\n",
        "  # def __init__(name, model):\n",
        "  def __init__(self, name, model):\n",
        "    self.name = name\n",
        "    self.model = model\n",
        "\n",
        "my_first_robot=Robot(\"R2D2\", \"Droid\")\n",
        "my_second_robot=Robot(\"C3PO\", \"Droid\")\n",
        "\n",
        "print(my_first_robot.model)"
      ],
      "metadata": {
        "id": "45jR_TStO-7Z",
        "outputId": "9ab13e6c-e4d8-4f89-8181-3fa1475f8531",
        "colab": {
          "base_uri": "https://localhost:8080/"
        }
      },
      "execution_count": 8,
      "outputs": [
        {
          "output_type": "stream",
          "name": "stdout",
          "text": [
            "Droid\n"
          ]
        }
      ]
    },
    {
      "cell_type": "markdown",
      "source": [
        "When we instantiate a class and create 'my_robot', the name of the object 'my_robot' is passed to the constructor by default and 'self' takes the name of the object.  \n",
        "Also, we can access the Robot Class attributes from the outside of the class.\n",
        "\n",
        "It is important to note the number of arguements we pass in the functional call should be the same as the number of parameters we use to define a function."
      ],
      "metadata": {
        "id": "dEfZDfslRcDA"
      }
    },
    {
      "cell_type": "markdown",
      "source": [
        "# Add a method to the class"
      ],
      "metadata": {
        "id": "CKx-oLqmRAsO"
      }
    },
    {
      "cell_type": "markdown",
      "source": [
        "A method in a class is a function that is defined within a class and operates on instances of that class. Methods are used to define behaviors and actions of the objects. We can also use methods to access and modify the attributes.\n",
        "\n",
        "Methods can be categorized into instance methods, class methods, and static methods."
      ],
      "metadata": {
        "id": "l-QN74v-L3b9"
      }
    },
    {
      "cell_type": "code",
      "source": [
        "class Robot():\n",
        "  def __init__(self, name, model):\n",
        "    self.name = name\n",
        "    self.model = model\n",
        "\n",
        "  def robot_info(self):\n",
        "    print(self, \"Name : \", self.name, \"| Model : \", self.model)"
      ],
      "metadata": {
        "id": "qoGx_PFcP1dU"
      },
      "execution_count": 9,
      "outputs": []
    },
    {
      "cell_type": "markdown",
      "source": [
        "## Call an Instance Method"
      ],
      "metadata": {
        "id": "RxEn-9idm2dv"
      }
    },
    {
      "cell_type": "markdown",
      "source": [
        "We can call the method using class or object/instance. To call a method, the syntax is to use object name followed by ' . (dot) ', followed by method.  \n",
        "\n",
        "So method call is <p><b> my_second_robot.robot_info() </b></p>"
      ],
      "metadata": {
        "id": "80YLqxPMLHfW"
      }
    },
    {
      "cell_type": "code",
      "source": [
        "my_first_robot=Robot(\"R2D2\", \"Droid\")\n",
        "my_second_robot=Robot(\"C3PO\", \"Droid\")\n",
        "\n",
        "# print(my_robot)\n",
        "print(f\"The name of my_robot is {my_first_robot.name}\")\n",
        "\n",
        "# print(my_second_robot)\n",
        "my_second_robot.robot_info()"
      ],
      "metadata": {
        "id": "AHpwABSg5Nm_",
        "outputId": "98fc10d7-01a4-4176-892d-6bbe21712ff1",
        "colab": {
          "base_uri": "https://localhost:8080/"
        }
      },
      "execution_count": 10,
      "outputs": [
        {
          "output_type": "stream",
          "name": "stdout",
          "text": [
            "The name of my_robot is R2D2\n",
            "<__main__.Robot object at 0x7b881b7ba2f0> Name :  C3PO | Model :  Droid\n"
          ]
        }
      ]
    },
    {
      "cell_type": "markdown",
      "source": [
        "## Calling an Instance Method on Class\n",
        "\n",
        "Let us try to call a method on class."
      ],
      "metadata": {
        "id": "LFniYGlXSu-f"
      }
    },
    {
      "cell_type": "code",
      "source": [
        "# Robot.robot_info()"
      ],
      "metadata": {
        "id": "CBibqfVkMbjN"
      },
      "execution_count": 11,
      "outputs": []
    },
    {
      "cell_type": "markdown",
      "source": [
        "We can call any instance method on class. In this case we use class name then dot (.) followed by method name and pass the instance of the class (object) as an arguement to the methos as below.\n",
        "\n",
        "<p>\n",
        "  <b>Robot.robot_info(my_robot)</b>\n",
        "</p>"
      ],
      "metadata": {
        "id": "_mI4K3ymPM68"
      }
    },
    {
      "cell_type": "code",
      "source": [
        "Robot.robot_info(my_first_robot)"
      ],
      "metadata": {
        "id": "3dKBavUjQk0h",
        "outputId": "fa0ced9a-3bf8-4c6a-8ba7-55917f94e0e4",
        "colab": {
          "base_uri": "https://localhost:8080/"
        }
      },
      "execution_count": 12,
      "outputs": [
        {
          "output_type": "stream",
          "name": "stdout",
          "text": [
            "<__main__.Robot object at 0x7b881b7b9ba0> Name :  R2D2 | Model :  Droid\n"
          ]
        }
      ]
    },
    {
      "cell_type": "markdown",
      "source": [
        "One very common mistake about creating a method is that we miss to add 'self' as the first parameter of the method. Actually, when we call any methon on any instance or object of any class, the instance is automatically passed with other arguements. So, it is must to use self in the method defination."
      ],
      "metadata": {
        "id": "-tM-vzNNKBmX"
      }
    },
    {
      "cell_type": "markdown",
      "source": [
        "# Add Robot Components : Composition\n",
        "\n",
        "Composition is a technique to add one or more objects from one or more classes to another class.\n",
        "\n",
        "Let us add battery to begin with by creating a Battery Class and add one attribute 'capacity' to this class."
      ],
      "metadata": {
        "id": "idqlJuleUUar"
      }
    },
    {
      "cell_type": "code",
      "source": [
        "class Battery:\n",
        "  def __init__(self, capacity):\n",
        "    self.capacity = capacity"
      ],
      "metadata": {
        "id": "YbKyC5XYUaVT"
      },
      "execution_count": 13,
      "outputs": []
    },
    {
      "cell_type": "markdown",
      "source": [
        "Now, create two battery objects of 'Battery' class."
      ],
      "metadata": {
        "id": "dpESofPvot77"
      }
    },
    {
      "cell_type": "code",
      "source": [
        "# Create instances of Battery\n",
        "battery1 = Battery(5000)\n",
        "battery2 = Battery(8000)"
      ],
      "metadata": {
        "id": "bsCRa0FxnoBZ"
      },
      "execution_count": 14,
      "outputs": []
    },
    {
      "cell_type": "markdown",
      "source": [
        "We can add these objects of 'Battery' class to form a 'Robot' class. We need to change the Robot Class by adding battery Object as parameter and add that as attribute."
      ],
      "metadata": {
        "id": "WDZAJyh97s94"
      }
    },
    {
      "cell_type": "code",
      "source": [
        "class Robot():\n",
        "  def __init__(self, name, model, battery):\n",
        "    self.name = name\n",
        "    self.model = model\n",
        "    self.battery = battery\n",
        "\n",
        "  def robot_info(self):\n",
        "    print(self, \"Name : \", self.name, \"| Model : \", self.model, \"| Battery : \", self.battery.capacity)"
      ],
      "metadata": {
        "id": "vw3nbpWs7WM8"
      },
      "execution_count": 15,
      "outputs": []
    },
    {
      "cell_type": "code",
      "source": [
        "# Create instances of Robot\n",
        "my_first_robot=Robot(\"R2D2\", \"Droid\", battery1)\n",
        "my_second_robot=Robot(\"C3PO\", \"Droid\", battery2)"
      ],
      "metadata": {
        "id": "X4_S_cC9nx7y"
      },
      "execution_count": 16,
      "outputs": []
    },
    {
      "cell_type": "markdown",
      "source": [
        "Print the objects Info"
      ],
      "metadata": {
        "id": "KWr-w_F76T-d"
      }
    },
    {
      "cell_type": "code",
      "source": [
        "my_first_robot.robot_info()\n",
        "my_second_robot.robot_info()"
      ],
      "metadata": {
        "id": "voMqpS1H6S3Z",
        "outputId": "e0cddc38-e488-4910-f0a0-160966df947a",
        "colab": {
          "base_uri": "https://localhost:8080/"
        }
      },
      "execution_count": 17,
      "outputs": [
        {
          "output_type": "stream",
          "name": "stdout",
          "text": [
            "<__main__.Robot object at 0x7b881b7bb7c0> Name :  R2D2 | Model :  Droid | Battery :  5000\n",
            "<__main__.Robot object at 0x7b881b7bb520> Name :  C3PO | Model :  Droid | Battery :  8000\n"
          ]
        }
      ]
    },
    {
      "cell_type": "markdown",
      "source": [
        "Let us now add one more component Motor with power as one attribute."
      ],
      "metadata": {
        "id": "aA3GExnI9Uou"
      }
    },
    {
      "cell_type": "code",
      "source": [
        "class Motor:\n",
        "  def __init__(self, power):\n",
        "    self.power = power"
      ],
      "metadata": {
        "id": "vVZdjH-d8jWV"
      },
      "execution_count": 18,
      "outputs": []
    },
    {
      "cell_type": "code",
      "source": [
        "# Create instances of Motor\n",
        "motor200 = Motor(200)"
      ],
      "metadata": {
        "id": "Wy4GQ4gz9utA"
      },
      "execution_count": 19,
      "outputs": []
    },
    {
      "cell_type": "markdown",
      "source": [
        "Attach motor to Robots by modifying the Robot Class"
      ],
      "metadata": {
        "id": "0BjeH0m79gSe"
      }
    },
    {
      "cell_type": "code",
      "source": [
        "class Robot():\n",
        "  def __init__(self, name, model, battery, motor):\n",
        "    self.name = name\n",
        "    self.model = model\n",
        "    self.battery = battery\n",
        "    self.motor = motor\n",
        "\n",
        "  def robot_info(self):\n",
        "    print(self, \"Name : \", self.name, \"| Model : \", self.model, \"| Battery : \", self.battery.capacity, \"kWh| Motor : \", self.motor.power, \"Watt\")"
      ],
      "metadata": {
        "id": "YQH9zyJ9-Cbc"
      },
      "execution_count": 20,
      "outputs": []
    },
    {
      "cell_type": "markdown",
      "source": [
        "Update the instances of the class to add object of Motor class as an arguement"
      ],
      "metadata": {
        "id": "27ZvtuSPDBxp"
      }
    },
    {
      "cell_type": "code",
      "source": [
        "# Create instances of Robot\n",
        "my_first_robot=Robot(\"R2D2\", \"Droid\", battery1, motor200)\n",
        "my_second_robot=Robot(\"C3PO\", \"Droid\", battery2, motor200)\n",
        "\n",
        "my_first_robot.robot_info()\n",
        "my_second_robot.robot_info()"
      ],
      "metadata": {
        "id": "pHcOWncmcH0a",
        "outputId": "30e2c23c-f094-444a-c330-285caf9d26e0",
        "colab": {
          "base_uri": "https://localhost:8080/"
        }
      },
      "execution_count": 21,
      "outputs": [
        {
          "output_type": "stream",
          "name": "stdout",
          "text": [
            "<__main__.Robot object at 0x7b8818301330> Name :  R2D2 | Model :  Droid | Battery :  5000 kWh| Motor :  200 Watt\n",
            "<__main__.Robot object at 0x7b881b7b9000> Name :  C3PO | Model :  Droid | Battery :  8000 kWh| Motor :  200 Watt\n"
          ]
        }
      ]
    },
    {
      "cell_type": "markdown",
      "source": [
        "Our robot must have some sesnsors. The important sensors are range finder, imu, camera etc. Create classes for each of these."
      ],
      "metadata": {
        "id": "yGYMXxD5DqT7"
      }
    },
    {
      "cell_type": "code",
      "source": [
        "# Define the RangeFinder class\n",
        "class RangeFinder:\n",
        "  def __init__(self, model, min_range, max_range):\n",
        "    self.model = model\n",
        "    self.min_range = min_range\n",
        "    self.max_range = max_range\n",
        "\n",
        "# Define the IMU class\n",
        "class IMU:\n",
        "  def __init__(self, model):\n",
        "    self.model = model\n",
        "\n",
        "# Define the Camera class\n",
        "class Camera:\n",
        "  def __init__(self, model, resolution):\n",
        "    self.model = model\n",
        "    self.resolution = resolution"
      ],
      "metadata": {
        "id": "QvN1Ix9oEQIF"
      },
      "execution_count": 22,
      "outputs": []
    },
    {
      "cell_type": "markdown",
      "source": [
        "Create sensor objects 'range_finder', 'imu' and 'camera' by instantiating their respective classes."
      ],
      "metadata": {
        "id": "dpFva8uFZMx8"
      }
    },
    {
      "cell_type": "code",
      "source": [
        "Ultrasonic_HC_SR04 = RangeFinder(\"Ultrasonic\", 1, 100)\n",
        "imu_MPU6050 = IMU(\"MPU6050\")\n",
        "camera_Pana12 = Camera(\"Panasonic\", \"12MP\")"
      ],
      "metadata": {
        "id": "CjgwXKR4GLof"
      },
      "execution_count": 23,
      "outputs": []
    },
    {
      "cell_type": "markdown",
      "source": [
        "Update the Robot Class to add sensors attributes and update the 'robot_info' method to display sensors on the"
      ],
      "metadata": {
        "id": "Zc7sw_dDFGgv"
      }
    },
    {
      "cell_type": "code",
      "source": [
        "class Robot():\n",
        "  def __init__(self, name, model, battery, motor, range_finder, imu, camera):\n",
        "    self.name = name\n",
        "    self.model = model\n",
        "    self.battery = battery\n",
        "    self.motor = motor\n",
        "    self.range_finder = range_finder\n",
        "    self.imu = imu\n",
        "    self.camera = camera\n",
        "\n",
        "  def robot_info(self):\n",
        "    print(\"Name : \", self.name, \"| Model : \", self.model, \"| Battery : \", self.battery.capacity, \"kWh| Motor : \", self.motor.power, \"Watt\")\n",
        "    print(\"\\nThe Robot is equipped with the following Sensors : \")\n",
        "    print(f\"\\nRange Finder  {self.range_finder.model} IMU  {self.imu.model} Camera  {self.camera.model}\")"
      ],
      "metadata": {
        "id": "Tj40q54MFbig"
      },
      "execution_count": 24,
      "outputs": []
    },
    {
      "cell_type": "markdown",
      "source": [
        "Update the robot objects."
      ],
      "metadata": {
        "id": "JqOxQ5c4bHX8"
      }
    },
    {
      "cell_type": "code",
      "source": [
        "# Create instances of Robot\n",
        "my_first_robot=Robot(\"R2D2\", \"Droid\", battery1, motor200, Ultrasonic_HC_SR04, imu_MPU6050, camera_Pana12)\n",
        "my_first_robot.robot_info()\n",
        "# print(\"\\t\",camera_Pana12.resolution)"
      ],
      "metadata": {
        "id": "LhH8Ha8OcYW_",
        "outputId": "7093d347-012a-4d0e-cbc4-4de4f2de8b21",
        "colab": {
          "base_uri": "https://localhost:8080/"
        }
      },
      "execution_count": 25,
      "outputs": [
        {
          "output_type": "stream",
          "name": "stdout",
          "text": [
            "Name :  R2D2 | Model :  Droid | Battery :  5000 kWh| Motor :  200 Watt\n",
            "\n",
            "The Robot is equipped with the following Sensors : \n",
            "\n",
            "Range Finder  Ultrasonic IMU  MPU6050 Camera  Panasonic\n"
          ]
        }
      ]
    },
    {
      "cell_type": "markdown",
      "source": [
        "As the components keep on increasing, the attributes list goes on longer. One method to clean our code is to pass the sensors in one dictionary. Let us create one dictionary with the name 'sensors' and add all the sensors in it."
      ],
      "metadata": {
        "id": "JHQert7JhQXM"
      }
    },
    {
      "cell_type": "code",
      "source": [
        "Lidar = RangeFinder(\"LiDAR\", 1, 100)\n",
        "camera_Sam20 = Camera(\"Panasonic\", \"12MP\")"
      ],
      "metadata": {
        "id": "eCBZfEtSHPOo"
      },
      "execution_count": 26,
      "outputs": []
    },
    {
      "cell_type": "code",
      "source": [
        "sensors_set1={'range_finder':Ultrasonic_HC_SR04, 'imu':imu_MPU6050, 'camera':camera_Pana12}\n",
        "sensors_set2={'range_finder':Lidar, 'imu':imu_MPU6050, 'camera':camera_Sam20}"
      ],
      "metadata": {
        "id": "PX59wat8h6JE"
      },
      "execution_count": 27,
      "outputs": []
    },
    {
      "cell_type": "markdown",
      "source": [
        "Now, we can pass this dictionary when we create our Robot"
      ],
      "metadata": {
        "id": "UgCWNfPTiGek"
      }
    },
    {
      "cell_type": "code",
      "source": [
        "class Robot():\n",
        "  def __init__(self, name, model, battery, motor, sensors):\n",
        "    self.name = name\n",
        "    self.model = model\n",
        "    self.battery = battery\n",
        "    self.motor = motor\n",
        "    self.sensors = sensors\n",
        "    print(self.sensors)\n",
        "\n",
        "  def robot_info(self):\n",
        "    print(\"Name : \", self.name, \"| Model : \", self.model, \"| Battery : \", self.battery.capacity, \"kWh| Motor : \", self.motor.power, \"Watt\")\n",
        "    print(\"\\nIMU  {self.sensors['imu'].model}\")"
      ],
      "metadata": {
        "id": "RjYY0t5hisWL"
      },
      "execution_count": 28,
      "outputs": []
    },
    {
      "cell_type": "code",
      "source": [
        "my_first_robot=Robot(\"R2D2\", \"Droid\", battery1, motor200, sensors_set1)\n",
        "my_first_robot.robot_info()\n",
        "# my_first_robot.name"
      ],
      "metadata": {
        "id": "hRRkjo0GiUDq",
        "outputId": "884024f1-694e-494f-c4a9-5f2196828fc9",
        "colab": {
          "base_uri": "https://localhost:8080/"
        }
      },
      "execution_count": 29,
      "outputs": [
        {
          "output_type": "stream",
          "name": "stdout",
          "text": [
            "{'range_finder': <__main__.RangeFinder object at 0x7b88183020b0>, 'imu': <__main__.IMU object at 0x7b8818301cf0>, 'camera': <__main__.Camera object at 0x7b8818301270>}\n",
            "Name :  R2D2 | Model :  Droid | Battery :  5000 kWh| Motor :  200 Watt\n",
            "\n",
            "IMU  {self.sensors['imu'].model}\n"
          ]
        }
      ]
    },
    {
      "cell_type": "markdown",
      "source": [
        "# Understanding '_ _ dict _ _'"
      ],
      "metadata": {
        "id": "M4XGMlUMgqeA"
      }
    },
    {
      "cell_type": "markdown",
      "source": [
        "'_ _ dict _ _' is an attribute of an object that stores all its attributes in a dictionary. This is a special attribute of an object and is automatically assigned. We can access this by using attribute access operator; 'dot' (.).  "
      ],
      "metadata": {
        "id": "tLn3iVzDg_mX"
      }
    },
    {
      "cell_type": "code",
      "source": [
        "print(my_first_robot.__dict__)"
      ],
      "metadata": {
        "id": "1nIGnvBSUn8o",
        "colab": {
          "base_uri": "https://localhost:8080/"
        },
        "outputId": "bb66598b-11f4-40f5-b2d4-d45bcd0e17df"
      },
      "execution_count": 30,
      "outputs": [
        {
          "output_type": "stream",
          "name": "stdout",
          "text": [
            "{'name': 'R2D2', 'model': 'Droid', 'battery': <__main__.Battery object at 0x7b881b7b99c0>, 'motor': <__main__.Motor object at 0x7b881b7ba7a0>, 'sensors': {'range_finder': <__main__.RangeFinder object at 0x7b88183020b0>, 'imu': <__main__.IMU object at 0x7b8818301cf0>, 'camera': <__main__.Camera object at 0x7b8818301270>}}\n"
          ]
        }
      ]
    },
    {
      "cell_type": "markdown",
      "source": [
        "The output of this is a dictionary where the keys are attribute names (as strings) and the values are the corresponding attribute values.  \n",
        "\n",
        "We can also modify and/or add attributes dynamically using '_ _ dict _ _'."
      ],
      "metadata": {
        "id": "c5nu67XOh3cm"
      }
    },
    {
      "cell_type": "code",
      "source": [
        "# Modify an attribute using __dict__\n",
        "my_first_robot.__dict__['name'] = \"R789\"\n",
        "\n",
        "# Add a new attribute using __dict__\n",
        "my_first_robot.__dict__['material'] = \"Steel\"\n",
        "\n",
        "print(my_first_robot.__dict__)"
      ],
      "metadata": {
        "id": "TPetVsRnmCdm",
        "colab": {
          "base_uri": "https://localhost:8080/"
        },
        "outputId": "0aaafd13-87d7-48d1-e9f5-08d74009cd68"
      },
      "execution_count": 31,
      "outputs": [
        {
          "output_type": "stream",
          "name": "stdout",
          "text": [
            "{'name': 'R789', 'model': 'Droid', 'battery': <__main__.Battery object at 0x7b881b7b99c0>, 'motor': <__main__.Motor object at 0x7b881b7ba7a0>, 'sensors': {'range_finder': <__main__.RangeFinder object at 0x7b88183020b0>, 'imu': <__main__.IMU object at 0x7b8818301cf0>, 'camera': <__main__.Camera object at 0x7b8818301270>}, 'material': 'Steel'}\n"
          ]
        }
      ]
    },
    {
      "cell_type": "code",
      "source": [
        "print(battery1.__dict__)\n",
        "battery1.__dict__['capacity'] = \"4550\"\n",
        "print(battery1.__dict__)\n",
        "print(my_first_robot.__dict__)"
      ],
      "metadata": {
        "colab": {
          "base_uri": "https://localhost:8080/"
        },
        "id": "20o-GRPPjfxv",
        "outputId": "1a7fa8c1-5942-4c3b-9afc-b5e3433cea63"
      },
      "execution_count": 32,
      "outputs": [
        {
          "output_type": "stream",
          "name": "stdout",
          "text": [
            "{'capacity': 5000}\n",
            "{'capacity': '4550'}\n",
            "{'name': 'R789', 'model': 'Droid', 'battery': <__main__.Battery object at 0x7b881b7b99c0>, 'motor': <__main__.Motor object at 0x7b881b7ba7a0>, 'sensors': {'range_finder': <__main__.RangeFinder object at 0x7b88183020b0>, 'imu': <__main__.IMU object at 0x7b8818301cf0>, 'camera': <__main__.Camera object at 0x7b8818301270>}, 'material': 'Steel'}\n"
          ]
        }
      ]
    },
    {
      "cell_type": "code",
      "source": [
        "print(my_first_robot.battery.capacity)"
      ],
      "metadata": {
        "colab": {
          "base_uri": "https://localhost:8080/"
        },
        "id": "D_3-B4aukC38",
        "outputId": "b38bce49-954b-4b39-c5c0-93c16daf4671"
      },
      "execution_count": 33,
      "outputs": [
        {
          "output_type": "stream",
          "name": "stdout",
          "text": [
            "4550\n"
          ]
        }
      ]
    },
    {
      "cell_type": "markdown",
      "source": [
        "This represents that when we changed the capacity of the 'batter1' and checked the namespace of 'my_first_robot', we found the data is changed to the new value. As we are refererring to the 'battery' object. When we call 'capacity attribute' through the instance of the Robot class, it reaches to the capacity through the 'Battery' class."
      ],
      "metadata": {
        "id": "2DhPCZ2okNNk"
      }
    },
    {
      "cell_type": "markdown",
      "source": [
        "# Class Variables"
      ],
      "metadata": {
        "id": "kWQDdJy-TdxQ"
      }
    },
    {
      "cell_type": "markdown",
      "source": [
        "A class variable is a variable that is shared among all instances of a class. It is defined within a class but outside any instance methods or constructors (' _ _ init _ _' method). Class variables are used to store data that is common to all objects of the class."
      ],
      "metadata": {
        "id": "BPF-Wn5OrwQN"
      }
    },
    {
      "cell_type": "code",
      "source": [
        "class Robot():\n",
        "\n",
        "  robot_base_cost = 100000\n",
        "\n",
        "  def __init__(self, name, model, battery, motor, sensors):\n",
        "    self.name = name\n",
        "    self.model = model\n",
        "    self.battery = battery\n",
        "    self.motor = motor\n",
        "    self.sensors = sensors\n",
        "\n",
        "  def robot_info(self):\n",
        "    print(self)\n",
        "    print(\"Name : \", self.name, \"| Model : \", self.model, \"| Battery : \", self.battery.capacity, \"kWh| Motor : \", self.motor.power, \"Watt\")\n",
        "    print(f\"\\nIMU {self.sensors['imu'].model}\")\n",
        "\n",
        "  def get_base_cost(self):\n",
        "    print(f\"The Base Cost of the Robot is = {self.robot_base_cost}\")\n",
        "    # print(f\"The Base Cost of the Robot is = {Robot.robot_base_cost}\")\n"
      ],
      "metadata": {
        "id": "aMWA7pAlLFOA"
      },
      "execution_count": 34,
      "outputs": []
    },
    {
      "cell_type": "code",
      "source": [
        "my_first_robot=Robot(\"R2D2\", \"Droid\", battery1, motor200, sensors_set1)\n",
        "my_second_robot=Robot(\"C3PO\", \"Droid\", battery1, motor200, sensors_set1)\n",
        "my_second_robot.robot_info()"
      ],
      "metadata": {
        "id": "m4LvrYn3Ukva",
        "colab": {
          "base_uri": "https://localhost:8080/"
        },
        "outputId": "fcce9cfd-a9ec-4d0f-fed4-21f02dd080c0"
      },
      "execution_count": 35,
      "outputs": [
        {
          "output_type": "stream",
          "name": "stdout",
          "text": [
            "<__main__.Robot object at 0x7b881b7b93c0>\n",
            "Name :  C3PO | Model :  Droid | Battery :  4550 kWh| Motor :  200 Watt\n",
            "\n",
            "IMU MPU6050\n"
          ]
        }
      ]
    },
    {
      "cell_type": "markdown",
      "source": [
        "We can access the class variable from the Class itself and the both the instances of the class."
      ],
      "metadata": {
        "id": "Cgf2jSjr4gln"
      }
    },
    {
      "cell_type": "code",
      "source": [
        "print(Robot.robot_base_cost)\n",
        "print(my_first_robot.robot_base_cost)\n",
        "print(my_second_robot.robot_base_cost)"
      ],
      "metadata": {
        "id": "6gCzZyvc4L-8",
        "colab": {
          "base_uri": "https://localhost:8080/"
        },
        "outputId": "712e889c-f088-464a-ae18-669c5925c0c3"
      },
      "execution_count": 36,
      "outputs": [
        {
          "output_type": "stream",
          "name": "stdout",
          "text": [
            "100000\n",
            "100000\n",
            "100000\n"
          ]
        }
      ]
    },
    {
      "cell_type": "markdown",
      "source": [
        "When we try to access the class variable from instance of a class, it will first check the instance attributes and when it does not find it there, it checks the attributes of the class the instance inherit from and use it."
      ],
      "metadata": {
        "id": "YWyhh4E9441j"
      }
    },
    {
      "cell_type": "code",
      "source": [
        "my_first_robot.get_base_cost()\n",
        "Robot.get_base_cost(my_first_robot)"
      ],
      "metadata": {
        "id": "IpySB2bLYtyp",
        "colab": {
          "base_uri": "https://localhost:8080/"
        },
        "outputId": "f5dd3330-fd70-47ce-e874-63733451e86f"
      },
      "execution_count": 37,
      "outputs": [
        {
          "output_type": "stream",
          "name": "stdout",
          "text": [
            "The Base Cost of the Robot is = 100000\n",
            "The Base Cost of the Robot is = 100000\n"
          ]
        }
      ]
    },
    {
      "cell_type": "code",
      "source": [
        "print(my_first_robot.__dict__)"
      ],
      "metadata": {
        "id": "CrLd4pYY6QIC",
        "colab": {
          "base_uri": "https://localhost:8080/"
        },
        "outputId": "96dc0c34-af16-49c6-f5b5-83ffbd91ddd5"
      },
      "execution_count": 38,
      "outputs": [
        {
          "output_type": "stream",
          "name": "stdout",
          "text": [
            "{'name': 'R2D2', 'model': 'Droid', 'battery': <__main__.Battery object at 0x7b881b7b99c0>, 'motor': <__main__.Motor object at 0x7b881b7ba7a0>, 'sensors': {'range_finder': <__main__.RangeFinder object at 0x7b88183020b0>, 'imu': <__main__.IMU object at 0x7b8818301cf0>, 'camera': <__main__.Camera object at 0x7b8818301270>}}\n"
          ]
        }
      ]
    },
    {
      "cell_type": "code",
      "source": [
        "print(Robot.__dict__)"
      ],
      "metadata": {
        "id": "5wxBseft6bg-",
        "colab": {
          "base_uri": "https://localhost:8080/"
        },
        "outputId": "4649dda8-8a2f-4f1b-f7d7-40623846f0db"
      },
      "execution_count": 39,
      "outputs": [
        {
          "output_type": "stream",
          "name": "stdout",
          "text": [
            "{'__module__': '__main__', 'robot_base_cost': 100000, '__init__': <function Robot.__init__ at 0x7b881b79bbe0>, 'robot_info': <function Robot.robot_info at 0x7b881b79ae60>, 'get_base_cost': <function Robot.get_base_cost at 0x7b881b79b5b0>, '__dict__': <attribute '__dict__' of 'Robot' objects>, '__weakref__': <attribute '__weakref__' of 'Robot' objects>, '__doc__': None}\n"
          ]
        }
      ]
    },
    {
      "cell_type": "code",
      "source": [
        "Robot.robot_base_cost = 200000\n",
        "print(Robot.robot_base_cost)\n",
        "print(my_first_robot.robot_base_cost)\n",
        "print(my_second_robot.robot_base_cost)"
      ],
      "metadata": {
        "id": "Nr2fkQLG6oLI",
        "colab": {
          "base_uri": "https://localhost:8080/"
        },
        "outputId": "33425a57-1797-4d07-a3c3-33e3d2a94f5e"
      },
      "execution_count": 40,
      "outputs": [
        {
          "output_type": "stream",
          "name": "stdout",
          "text": [
            "200000\n",
            "200000\n",
            "200000\n"
          ]
        }
      ]
    },
    {
      "cell_type": "code",
      "source": [
        "my_first_robot.robot_base_cost = 300000\n",
        "print(Robot.robot_base_cost)\n",
        "print(my_first_robot.robot_base_cost)\n",
        "print(my_second_robot.robot_base_cost)"
      ],
      "metadata": {
        "id": "WsMPiDv961Mf",
        "colab": {
          "base_uri": "https://localhost:8080/"
        },
        "outputId": "32d22c9d-0b26-4664-8793-1316f415402f"
      },
      "execution_count": 41,
      "outputs": [
        {
          "output_type": "stream",
          "name": "stdout",
          "text": [
            "200000\n",
            "300000\n",
            "200000\n"
          ]
        }
      ]
    },
    {
      "cell_type": "code",
      "source": [
        "print(my_first_robot.__dict__)"
      ],
      "metadata": {
        "id": "YmtRft1v69Yt",
        "colab": {
          "base_uri": "https://localhost:8080/"
        },
        "outputId": "e2548be4-c388-4cd9-e1c3-dd484e95bae4"
      },
      "execution_count": 42,
      "outputs": [
        {
          "output_type": "stream",
          "name": "stdout",
          "text": [
            "{'name': 'R2D2', 'model': 'Droid', 'battery': <__main__.Battery object at 0x7b881b7b99c0>, 'motor': <__main__.Motor object at 0x7b881b7ba7a0>, 'sensors': {'range_finder': <__main__.RangeFinder object at 0x7b88183020b0>, 'imu': <__main__.IMU object at 0x7b8818301cf0>, 'camera': <__main__.Camera object at 0x7b8818301270>}, 'robot_base_cost': 300000}\n"
          ]
        }
      ]
    },
    {
      "cell_type": "markdown",
      "source": [
        "# Class Method"
      ],
      "metadata": {
        "id": "ZRkLPPyBSXF5"
      }
    },
    {
      "cell_type": "markdown",
      "source": [
        "We can add another functionality of counting how many objects we have based on Robot Class. As this functionality is not related to any of the object, we use special method named as Class Method for this task.\n",
        "<p>The class method is declared by using a decorator <b>@classmethod</b>.</p>\n",
        "As this method is not object dependent, so we will not use 'self' but instead, we have to use '<b><i>cls</i></b>'.\n",
        "\n",
        " Just to remind that the constructor or the ' _ _ init _ _ ' method is only called by default when the object of the class is instantiated. So, we have to make some changes in the class.\n",
        "\n",
        "We can also create one method in the Robot Class to count the Robots.\n",
        "\n",
        "Here the 'total_robots' variable is also based on class, we call this variable as class variable and is initialized at the begining of the class. This is processed (incremented in this case) in the '_ _ init _ _ ' method."
      ],
      "metadata": {
        "id": "bj-nqZyTIHfm"
      }
    },
    {
      "cell_type": "code",
      "source": [
        "class Robot():\n",
        "  total_robots = 0  # Class variable to keep track of the number of Robot instances\n",
        "\n",
        "  robot_base_cost = 100000\n",
        "\n",
        "  def __init__(self, name, model, battery, motor, sensors):\n",
        "    self.name = name\n",
        "    self.model = model\n",
        "    self.battery = battery\n",
        "    self.motor = motor\n",
        "    self.sensors = sensors\n",
        "    Robot.total_robots += 1  # Increment the class variable\n",
        "\n",
        "  def robot_info(self):\n",
        "    print(self)\n",
        "    print(\"Name : \", self.name, \"| Model : \", self.model, \"| Battery : \", self.battery.capacity, \"kWh| Motor : \", self.motor.power, \"Watt\")\n",
        "    print(\"\\nThe Robot is equipped with the following Sensors : \")\n",
        "    print(f\"\\nIMU {self.sensors['imu'].model}\")\n",
        "\n",
        "  def get_base_cost(self):\n",
        "    print(f\"The Base Cost of the Robot is = {self.robot_base_cost}\")\n",
        "\n",
        "  # Class method to get the total number of robots\n",
        "  @classmethod\n",
        "  def get_total_robots(cls):\n",
        "    return cls.total_robots"
      ],
      "metadata": {
        "id": "YwN0oAL_ky2F"
      },
      "execution_count": 43,
      "outputs": []
    },
    {
      "cell_type": "code",
      "source": [
        "# Display the total number of robots and flying robots\n",
        "print(f\"Total robots: {Robot.get_total_robots()}\")\n",
        "print(my_second_robot)"
      ],
      "metadata": {
        "id": "WIOQvONWohDg",
        "colab": {
          "base_uri": "https://localhost:8080/"
        },
        "outputId": "876a0226-1ed5-4e56-9528-922aec1ffd10"
      },
      "execution_count": 44,
      "outputs": [
        {
          "output_type": "stream",
          "name": "stdout",
          "text": [
            "Total robots: 0\n",
            "<__main__.Robot object at 0x7b881b7b93c0>\n"
          ]
        }
      ]
    },
    {
      "cell_type": "markdown",
      "source": [
        "It is important to note that 'get_base_cost()' is basically is independent of the instance of the class and can be defined as class method. So, we can try to put '@classmethod' decorator and use the method on class rather than instance of the class."
      ],
      "metadata": {
        "id": "stQwrFgRSewM"
      }
    },
    {
      "cell_type": "markdown",
      "source": [
        "# Encapsulation"
      ],
      "metadata": {
        "id": "QkqUDFB8_gO_"
      }
    },
    {
      "cell_type": "markdown",
      "source": [
        "Encapsulation refers to the bundling of attributes and methods into a class. Encapsulation also restricts direct access to some of an object's components and hides the internal representation of an object from the outside.\n",
        "This is achieved using access modifiers.  \n",
        "\n",
        "Now let us try to divide the robot class into two classes to encapsulate the configuration attributes and related methods into one class and the other behavioral methods into another class.\n",
        "\n",
        "First, let us define our configuration class"
      ],
      "metadata": {
        "id": "TWVSPEhj_6MY"
      }
    },
    {
      "cell_type": "code",
      "source": [
        "# Define a configuration class to encapsulate all configurations\n",
        "class RobotConfig:\n",
        "  def __init__(self, name, model, battery, motor, sensors):\n",
        "    self.name = name\n",
        "    self.model = model\n",
        "    self.battery = battery\n",
        "    self.motor = motor\n",
        "    self.sensors = sensors"
      ],
      "metadata": {
        "id": "CRsYJyQMBOl3"
      },
      "execution_count": 45,
      "outputs": []
    },
    {
      "cell_type": "markdown",
      "source": [
        "Let us also instroduce the concept of private attribute to encapsulate the attribute definitions from outside world. For this we shall make 'name' attribute as private by adding a prefix of '_' (underscore) with the attribute.\n",
        "\n",
        "This will restrict the direct access of the atrribute and we have to define a method for accessing the attribute. We generally call these 'getter' and 'setter' methods. In this example, we have define a 'get_name()' method as a 'getter'."
      ],
      "metadata": {
        "id": "d0JZkC2MJbLf"
      }
    },
    {
      "cell_type": "code",
      "source": [
        "class Robot:\n",
        "\n",
        "  total_robots = 0  # Class variable to keep track of the number of Robot instances\n",
        "\n",
        "  robot_base_cost = 100000\n",
        "\n",
        "  def __init__(self, robo_config):\n",
        "    self._name = robo_config.name\n",
        "    self.model = robo_config.model\n",
        "    self.battery = robo_config.battery  # composition\n",
        "    self.motor = robo_config.motor  # composition\n",
        "    self.sensors = robo_config.sensors  # composition\n",
        "    Robot.total_robots += 1  # Increment the class variable\n",
        "\n",
        "  def robot_info(self):\n",
        "    # print(self)\n",
        "    print(f\"Name: {self.get_name} | Model: {self.model} | Battery: {self.battery.capacity} kWh | Motor: {self.motor.power} Watt\")\n",
        "    print(f\"IMU {self.sensors['imu'].model}\")\n",
        "\n",
        "  def get_name(self):\n",
        "    return self._name\n",
        "\n",
        "  def get_base_cost(self):\n",
        "    print(f\"The Base Cost of the Robot is = {self.robot_base_cost}\")\n",
        "\n",
        "    # Class method to get the total number of robots\n",
        "  @classmethod\n",
        "  def get_total_robots(cls):\n",
        "    return cls.total_robots\n"
      ],
      "metadata": {
        "id": "E_vBtQLYBoRe"
      },
      "execution_count": 46,
      "outputs": []
    },
    {
      "cell_type": "code",
      "source": [
        "print(f\"Total robots: {Robot.get_total_robots()}\")"
      ],
      "metadata": {
        "id": "51QeadK8GOaF",
        "colab": {
          "base_uri": "https://localhost:8080/"
        },
        "outputId": "71f9c2cf-0ef9-45ba-e831-f9e944cfc0a1"
      },
      "execution_count": 47,
      "outputs": [
        {
          "output_type": "stream",
          "name": "stdout",
          "text": [
            "Total robots: 0\n"
          ]
        }
      ]
    },
    {
      "cell_type": "code",
      "source": [
        "# Create configuration objects\n",
        "robot_config1 = RobotConfig(\"Robo1\", \"RX-78\", battery1, motor200, sensors_set1)\n",
        "robot_config2 = RobotConfig(\"FlyBot1\", \"FX-99\", battery2, motor200, sensors_set2)"
      ],
      "metadata": {
        "id": "zG42F2bUCWzM"
      },
      "execution_count": 48,
      "outputs": []
    },
    {
      "cell_type": "code",
      "source": [
        "my_first_robot = Robot(robot_config1)\n",
        "print(my_first_robot.robot_info())\n",
        "my_second_robot = Robot(robot_config2)\n",
        "# print(my_second_robot.robot_info())"
      ],
      "metadata": {
        "id": "uTdMJ_RCC4Cn",
        "colab": {
          "base_uri": "https://localhost:8080/"
        },
        "outputId": "d3a6f71c-e204-4781-e9b5-b3444b2e6cea"
      },
      "execution_count": 49,
      "outputs": [
        {
          "output_type": "stream",
          "name": "stdout",
          "text": [
            "Name: <bound method Robot.get_name of <__main__.Robot object at 0x7b88183003d0>> | Model: RX-78 | Battery: 4550 kWh | Motor: 200 Watt\n",
            "IMU MPU6050\n",
            "None\n"
          ]
        }
      ]
    },
    {
      "cell_type": "markdown",
      "source": [
        "# Creating Sub-Classes : Inheritance"
      ],
      "metadata": {
        "id": "E_3segpM9Ld7"
      }
    },
    {
      "cell_type": "markdown",
      "source": [
        "Inheritance allows a class to inherit attributes and methods from another class. The class that inherits is called the \"child class\" or \"subclass,\" and the class from which it inherits is called the \"parent class\" or \"superclass.\"\n",
        "\n",
        "The class that inherits from the parent class can add new properties and methods or override existing ones from the parent class.\n",
        "\n",
        "Now, to understand this better. Let us create a subclass for 'AerialRobot' which inherits from 'Robot' class. So, 'Robot' class is called as parent class or the Super Class.\n",
        "\n",
        "For demonstarating the method overriding, let us define a 'move()' method in both the parent and child class or super and subclass. We will also propose a different base price of the AerialRobot which was defined as a class variable in both the classes."
      ],
      "metadata": {
        "id": "t2XHfhtk9c5C"
      }
    },
    {
      "cell_type": "code",
      "source": [
        "# Define a subclass of Robot to demonstrate inheritance and method overriding\n",
        "class AerialRobot(Robot):\n",
        "\n",
        "    total_aerial_robots = 0  # Class variable to keep track of the number AerialRobot instances\n",
        "\n",
        "    robot_base_cost = 150000\n",
        "\n",
        "    def __init__(self, config, altitude):\n",
        "      super().__init__(config)  # call the base class constructor\n",
        "      # Robot.__init__(self, config) # call the base class constructor\n",
        "      self.altitude = altitude\n",
        "      AerialRobot.total_aerial_robots += 1  # Increment the class variable\n",
        "\n",
        "    # Overriding the move method to include flying behavior\n",
        "    def move(self, direction, distance):\n",
        "      print(f\"{self.get_name()} (model {self.model}) is flying {direction} for {distance} meters at altitude {self.altitude} meters\")\n",
        "\n",
        "    # Class method to get the total number of flying robots\n",
        "    @classmethod\n",
        "    def get_total_aerial_robots(cls):\n",
        "      return cls.total_aerial_robots"
      ],
      "metadata": {
        "id": "EBAhnE8T9zar"
      },
      "execution_count": 50,
      "outputs": []
    },
    {
      "cell_type": "code",
      "source": [
        "class Robot:\n",
        "\n",
        "  total_robots = 0  # Class variable to keep track of the number of Robot instances\n",
        "\n",
        "  robot_base_cost = 100000\n",
        "\n",
        "  def __init__(self, robo_config):\n",
        "    self._name = robo_config.name\n",
        "    self.model = robo_config.model\n",
        "    self.battery = robo_config.battery  # composition\n",
        "    self.motor = robo_config.motor  # composition\n",
        "    self.sensors = robo_config.sensors  # composition\n",
        "    Robot.total_robots += 1  # Increment the class variable\n",
        "\n",
        "  def robot_info(self):\n",
        "    # print(self)\n",
        "    print(f\"Name: {self.get_name} | Model: {self.model} | Battery: {self.battery.capacity} kWh | Motor: {self.motor.power} Watt\")\n",
        "    print(f\"IMU {self.sensors['imu'].model}\")\n",
        "\n",
        "  def get_base_cost(self):\n",
        "    print(f\"The Base Cost of the Robot is = {self.robot_base_cost}\")\n",
        "\n",
        "  def move(self, direction, distance):\n",
        "      print(f\"{self.get_name()} (model {self.model}) is moving {direction} for {distance} meters\")\n",
        "\n",
        "  def get_name(self):\n",
        "    return self._name\n",
        "\n",
        "  # Class method to get the total number of robots\n",
        "  @classmethod\n",
        "  def get_total_robots(cls):\n",
        "    return cls.total_robots\n",
        ""
      ],
      "metadata": {
        "id": "82jR60hHp8dv"
      },
      "execution_count": 51,
      "outputs": []
    },
    {
      "cell_type": "code",
      "source": [
        "my_first_robot = Robot(robot_config1)\n",
        "# print(my_first_robot.robot_info())\n",
        "my_second_robot = Robot(robot_config2)\n",
        "my_first_aerial_robot = AerialRobot(robot_config1, 100)\n",
        "my_second_aerial_robot = AerialRobot(robot_config2, 200)"
      ],
      "metadata": {
        "id": "hqw_S67fr1av"
      },
      "execution_count": 52,
      "outputs": []
    },
    {
      "cell_type": "code",
      "source": [
        "my_first_robot.move(\"forward\", 5)\n",
        "my_first_aerial_robot.move(\"forward\", 5)"
      ],
      "metadata": {
        "colab": {
          "base_uri": "https://localhost:8080/"
        },
        "id": "IrTYEyq8l-Vr",
        "outputId": "29c396fb-34b9-4570-8e4d-217f6eb61211"
      },
      "execution_count": 53,
      "outputs": [
        {
          "output_type": "stream",
          "name": "stdout",
          "text": [
            "Robo1 (model RX-78) is moving forward for 5 meters\n",
            "Robo1 (model RX-78) is flying forward for 5 meters at altitude 100 meters\n"
          ]
        }
      ]
    },
    {
      "cell_type": "code",
      "source": [
        "my_first_robot.get_base_cost()\n",
        "my_first_aerial_robot.get_base_cost()"
      ],
      "metadata": {
        "id": "cXuE-j0BHR9C",
        "outputId": "c0471504-1a93-4b59-97ec-391f60aa60d5",
        "colab": {
          "base_uri": "https://localhost:8080/"
        }
      },
      "execution_count": 54,
      "outputs": [
        {
          "output_type": "stream",
          "name": "stdout",
          "text": [
            "The Base Cost of the Robot is = 100000\n",
            "The Base Cost of the Robot is = 150000\n"
          ]
        }
      ]
    },
    {
      "cell_type": "markdown",
      "source": [
        "# Polymorphism"
      ],
      "metadata": {
        "id": "iuEr8Mq0rRKW"
      }
    },
    {
      "cell_type": "markdown",
      "source": [
        "The 'operate_robot' function demonstrates polymorphism by accepting any object that has a move method. It can operate both Robot and FlyingRobot instances, showing how different objects can be treated uniformly."
      ],
      "metadata": {
        "id": "NXjLb9dirPIs"
      }
    },
    {
      "cell_type": "code",
      "source": [
        "# Define a function to demonstrate polymorphism\n",
        "def operate_robot(robot, direction, distance):\n",
        "    robot.move(direction, distance)"
      ],
      "metadata": {
        "id": "LZsg4RgGq9lV"
      },
      "execution_count": 55,
      "outputs": []
    },
    {
      "cell_type": "code",
      "source": [
        "# print(help(AerialRobot))"
      ],
      "metadata": {
        "id": "ExUKAy0rYRbP"
      },
      "execution_count": 56,
      "outputs": []
    },
    {
      "cell_type": "code",
      "source": [
        "# operate_robot(my_first_robot, \"left\", 5)\n",
        "operate_robot(my_first_aerial_robot, \"right\", 15)"
      ],
      "metadata": {
        "id": "6fwbpLC6rA-r",
        "colab": {
          "base_uri": "https://localhost:8080/"
        },
        "outputId": "5f314ef5-8132-4ba8-a533-6bb59060c4db"
      },
      "execution_count": 57,
      "outputs": [
        {
          "output_type": "stream",
          "name": "stdout",
          "text": [
            "Robo1 (model RX-78) is flying right for 15 meters at altitude 100 meters\n"
          ]
        }
      ]
    },
    {
      "cell_type": "code",
      "source": [
        "print(isinstance(my_first_robot, Robot))\n",
        "print(isinstance(my_first_robot, AerialRobot))\n",
        "print(isinstance(my_first_aerial_robot, Robot))\n",
        "print(isinstance(my_first_aerial_robot, AerialRobot))\n",
        "print(issubclass(AerialRobot, Robot))  # Check if AerialRobot is a subclass of Robot\n",
        "print(issubclass(Robot, AerialRobot))  # Check if Robot is a subclass of Aerial"
      ],
      "metadata": {
        "colab": {
          "base_uri": "https://localhost:8080/"
        },
        "id": "fXchOqd5ayQ7",
        "outputId": "8408ab3e-f56b-4c82-c45c-71ed71ceb986"
      },
      "execution_count": 58,
      "outputs": [
        {
          "output_type": "stream",
          "name": "stdout",
          "text": [
            "True\n",
            "False\n",
            "False\n",
            "True\n",
            "False\n",
            "False\n"
          ]
        }
      ]
    }
  ]
}