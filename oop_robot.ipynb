{
  "nbformat": 4,
  "nbformat_minor": 0,
  "metadata": {
    "colab": {
      "provenance": [],
      "toc_visible": true,
      "authorship_tag": "ABX9TyO61Xet/F5GvQcHCGXZY6+o",
      "include_colab_link": true
    },
    "kernelspec": {
      "name": "python3",
      "display_name": "Python 3"
    },
    "language_info": {
      "name": "python"
    }
  },
  "cells": [
    {
      "cell_type": "markdown",
      "metadata": {
        "id": "view-in-github",
        "colab_type": "text"
      },
      "source": [
        "<a href=\"https://colab.research.google.com/github/vkjadon/ros2/blob/master/oop_robot.ipynb\" target=\"_parent\"><img src=\"https://colab.research.google.com/assets/colab-badge.svg\" alt=\"Open In Colab\"/></a>"
      ]
    },
    {
      "cell_type": "markdown",
      "source": [
        "# Introducing Class and Object"
      ],
      "metadata": {
        "id": "-TOFyWuxOCee"
      }
    },
    {
      "cell_type": "code",
      "source": [
        "class Robot:\n",
        "    pass"
      ],
      "metadata": {
        "id": "xyJFMqwazTPF"
      },
      "execution_count": 1,
      "outputs": []
    },
    {
      "cell_type": "code",
      "source": [
        "my_first_robot=Robot()\n",
        "my_second_robot=Robot()"
      ],
      "metadata": {
        "id": "jlBcATgwzjsu"
      },
      "execution_count": 2,
      "outputs": []
    },
    {
      "cell_type": "code",
      "source": [
        "print(my_first_robot)\n",
        "print(my_second_robot)"
      ],
      "metadata": {
        "colab": {
          "base_uri": "https://localhost:8080/"
        },
        "id": "-rjZ94r5zsAq",
        "outputId": "d99b2976-c2e3-43e0-922c-f14530370c01"
      },
      "execution_count": 3,
      "outputs": [
        {
          "output_type": "stream",
          "name": "stdout",
          "text": [
            "<__main__.Robot object at 0x7b3f8b77ba90>\n",
            "<__main__.Robot object at 0x7b3f8b7fc640>\n"
          ]
        }
      ]
    },
    {
      "cell_type": "markdown",
      "source": [
        "# Adding Attributes to a Class"
      ],
      "metadata": {
        "id": "YbbMkSUoOHa0"
      }
    },
    {
      "cell_type": "code",
      "execution_count": 4,
      "metadata": {
        "colab": {
          "base_uri": "https://localhost:8080/"
        },
        "id": "eCCfS4MBy6SQ",
        "outputId": "7554953f-1fe4-4555-f7da-81a5145c3db5"
      },
      "outputs": [
        {
          "output_type": "stream",
          "name": "stdout",
          "text": [
            "<__main__.Robot object at 0x7b3f8aae5480>\n"
          ]
        }
      ],
      "source": [
        "class Robot:\n",
        "    name = None\n",
        "    model = None\n",
        "\n",
        "my_robot=Robot()\n",
        "print(my_robot)"
      ]
    },
    {
      "cell_type": "code",
      "source": [
        "my_robot.name=\"R2D2\"\n",
        "my_robot.model=\"Droid\""
      ],
      "metadata": {
        "id": "NAGh6tuTz48D"
      },
      "execution_count": 5,
      "outputs": []
    },
    {
      "cell_type": "code",
      "source": [
        "my_second_robot.name=\"C3PO\"\n",
        "my_second_robot.model=\"Droid\""
      ],
      "metadata": {
        "id": "FL0eEmYKNuNg"
      },
      "execution_count": 6,
      "outputs": []
    },
    {
      "cell_type": "markdown",
      "source": [
        "# Add Parameters to Class Constructor"
      ],
      "metadata": {
        "id": "vmR7JOjwO6rP"
      }
    },
    {
      "cell_type": "code",
      "source": [
        "class Robot():\n",
        "  def __init__(self, name, model):\n",
        "    self.name = name\n",
        "    self.model = model\n",
        "\n",
        "my_robot=Robot(\"R2D2\", \"Droid\")\n",
        "my_second_robot=Robot(\"C3PO\", \"Droid\")\n",
        "\n",
        "print(my_robot.model)"
      ],
      "metadata": {
        "id": "45jR_TStO-7Z",
        "outputId": "dca859e4-565b-4943-f0e3-a73063fdcfde",
        "colab": {
          "base_uri": "https://localhost:8080/"
        }
      },
      "execution_count": 7,
      "outputs": [
        {
          "output_type": "stream",
          "name": "stdout",
          "text": [
            "Droid\n"
          ]
        }
      ]
    },
    {
      "cell_type": "markdown",
      "source": [
        "We can access the Robot Class attributes from the outside of the class."
      ],
      "metadata": {
        "id": "dEfZDfslRcDA"
      }
    },
    {
      "cell_type": "markdown",
      "source": [
        "# Add a method to the class"
      ],
      "metadata": {
        "id": "CKx-oLqmRAsO"
      }
    },
    {
      "cell_type": "code",
      "source": [
        "class Robot():\n",
        "  def __init__(self, name, model):\n",
        "    self.name = name\n",
        "    self.model = model\n",
        "\n",
        "  def robot_info(self):\n",
        "    print(self, \"Name : \", self.name, \"| Model : \", self.model)"
      ],
      "metadata": {
        "id": "qoGx_PFcP1dU"
      },
      "execution_count": 8,
      "outputs": []
    },
    {
      "cell_type": "code",
      "source": [
        "my_robot=Robot(\"R2D2\", \"Droid\")\n",
        "my_second_robot=Robot(\"C3PO\", \"Droid\")\n",
        "\n",
        "# print(my_robot)\n",
        "my_robot.robot_info()\n",
        "\n",
        "# print(my_second_robot)\n",
        "my_second_robot.robot_info()"
      ],
      "metadata": {
        "colab": {
          "base_uri": "https://localhost:8080/"
        },
        "id": "AHpwABSg5Nm_",
        "outputId": "f77ade50-e5a2-4774-f60f-fa328ad7cbeb"
      },
      "execution_count": 9,
      "outputs": [
        {
          "output_type": "stream",
          "name": "stdout",
          "text": [
            "<__main__.Robot object at 0x7b3f8aae6290> Name :  R2D2 | Model :  Droid\n",
            "<__main__.Robot object at 0x7b3f8aae5390> Name :  C3PO | Model :  Droid\n"
          ]
        }
      ]
    },
    {
      "cell_type": "code",
      "source": [
        "print(my_robot.__dict__)"
      ],
      "metadata": {
        "id": "1nIGnvBSUn8o",
        "outputId": "36e509b7-dc45-4cc5-f6fe-36903c87d54e",
        "colab": {
          "base_uri": "https://localhost:8080/"
        }
      },
      "execution_count": 10,
      "outputs": [
        {
          "output_type": "stream",
          "name": "stdout",
          "text": [
            "{'name': 'R2D2', 'model': 'Droid'}\n"
          ]
        }
      ]
    },
    {
      "cell_type": "markdown",
      "source": [
        "# Add Robot Components\n",
        "\n",
        "Let us add battery to begin with by creating a Battery Class and add one attribute 'capacity' to this class."
      ],
      "metadata": {
        "id": "idqlJuleUUar"
      }
    },
    {
      "cell_type": "code",
      "source": [
        "class Battery:\n",
        "  def __init__(self, capacity):\n",
        "    self.capacity = capacity"
      ],
      "metadata": {
        "id": "YbKyC5XYUaVT"
      },
      "execution_count": 11,
      "outputs": []
    },
    {
      "cell_type": "code",
      "source": [
        "# Create instances of Battery\n",
        "battery1 = Battery(5000)\n",
        "battery2 = Battery(8000)"
      ],
      "metadata": {
        "id": "bsCRa0FxnoBZ"
      },
      "execution_count": 12,
      "outputs": []
    },
    {
      "cell_type": "markdown",
      "source": [
        "Need to change the Robot Class by adding battery Object as parameter and add that as Class attribute."
      ],
      "metadata": {
        "id": "WDZAJyh97s94"
      }
    },
    {
      "cell_type": "code",
      "source": [
        "class Robot():\n",
        "  def __init__(self, name, model, battery):\n",
        "    self.name = name\n",
        "    self.model = model\n",
        "    self.battery = battery\n",
        "\n",
        "  def robot_info(self):\n",
        "    print(self, \"Name : \", self.name, \"| Model : \", self.model, \"| Battery : \", self.battery.capacity)"
      ],
      "metadata": {
        "id": "vw3nbpWs7WM8"
      },
      "execution_count": 13,
      "outputs": []
    },
    {
      "cell_type": "code",
      "source": [
        "# Create instances of Robot\n",
        "my_robot=Robot(\"R2D2\", \"Droid\", battery1)\n",
        "my_second_robot=Robot(\"C3PO\", \"Droid\", battery2)"
      ],
      "metadata": {
        "id": "X4_S_cC9nx7y"
      },
      "execution_count": 14,
      "outputs": []
    },
    {
      "cell_type": "markdown",
      "source": [
        "Print the objects Info"
      ],
      "metadata": {
        "id": "KWr-w_F76T-d"
      }
    },
    {
      "cell_type": "code",
      "source": [
        "my_robot.robot_info()\n",
        "my_second_robot.robot_info()"
      ],
      "metadata": {
        "colab": {
          "base_uri": "https://localhost:8080/"
        },
        "id": "voMqpS1H6S3Z",
        "outputId": "107b0aae-8307-4491-9bf6-2be5252c8deb"
      },
      "execution_count": 15,
      "outputs": [
        {
          "output_type": "stream",
          "name": "stdout",
          "text": [
            "<__main__.Robot object at 0x7b3f8aae7cd0> Name :  R2D2 | Model :  Droid | Battery :  5000\n",
            "<__main__.Robot object at 0x7b3f8aae7ca0> Name :  C3PO | Model :  Droid | Battery :  8000\n"
          ]
        }
      ]
    },
    {
      "cell_type": "markdown",
      "source": [
        "Let us now add one more component Motor with power as one attribute."
      ],
      "metadata": {
        "id": "aA3GExnI9Uou"
      }
    },
    {
      "cell_type": "code",
      "source": [
        "class Motor:\n",
        "  def __init__(self, power):\n",
        "    self.power = power"
      ],
      "metadata": {
        "id": "vVZdjH-d8jWV"
      },
      "execution_count": 16,
      "outputs": []
    },
    {
      "cell_type": "code",
      "source": [
        "# Create instances of Motor\n",
        "motor200 = Motor(200)"
      ],
      "metadata": {
        "id": "Wy4GQ4gz9utA"
      },
      "execution_count": 17,
      "outputs": []
    },
    {
      "cell_type": "markdown",
      "source": [
        "Attach motor to Robots by modifying the Robot Class"
      ],
      "metadata": {
        "id": "0BjeH0m79gSe"
      }
    },
    {
      "cell_type": "code",
      "source": [
        "class Robot():\n",
        "  def __init__(self, name, model, battery, motor):\n",
        "    self.name = name\n",
        "    self.model = model\n",
        "    self.battery = battery\n",
        "    self.motor = motor\n",
        "\n",
        "  def robot_info(self):\n",
        "    print(self, \"Name : \", self.name, \"| Model : \", self.model, \"| Battery : \", self.battery.capacity, \"kWh| Motor : \", self.motor.power, \"Watt\")"
      ],
      "metadata": {
        "id": "YQH9zyJ9-Cbc"
      },
      "execution_count": 18,
      "outputs": []
    },
    {
      "cell_type": "markdown",
      "source": [
        "Update the instances of the class to add object of Motor class as an arguement"
      ],
      "metadata": {
        "id": "27ZvtuSPDBxp"
      }
    },
    {
      "cell_type": "code",
      "source": [
        "# Create instances of Robot\n",
        "my_robot=Robot(\"R2D2\", \"Droid\", battery1, motor200)\n",
        "my_second_robot=Robot(\"C3PO\", \"Droid\", battery2, motor200)\n",
        "\n",
        "my_robot.robot_info()\n",
        "my_second_robot.robot_info()"
      ],
      "metadata": {
        "colab": {
          "base_uri": "https://localhost:8080/"
        },
        "id": "pHcOWncmcH0a",
        "outputId": "799624c0-9af6-43ae-de32-cd3e0535c9bc"
      },
      "execution_count": 19,
      "outputs": [
        {
          "output_type": "stream",
          "name": "stdout",
          "text": [
            "<__main__.Robot object at 0x7b3f8aae7040> Name :  R2D2 | Model :  Droid | Battery :  5000 kWh| Motor :  200 Watt\n",
            "<__main__.Robot object at 0x7b3f8aae72b0> Name :  C3PO | Model :  Droid | Battery :  8000 kWh| Motor :  200 Watt\n"
          ]
        }
      ]
    },
    {
      "cell_type": "markdown",
      "source": [
        "Our robot must have some sesnsors. The important sensors are range finder, imu, camera etc. Create classes for each of these."
      ],
      "metadata": {
        "id": "yGYMXxD5DqT7"
      }
    },
    {
      "cell_type": "code",
      "source": [
        "# Define the RangeFinder class\n",
        "class RangeFinder:\n",
        "  def __init__(self, model, min_range, max_range):\n",
        "    self.model = model\n",
        "    self.min_range = min_range\n",
        "    self.max_range = max_range\n",
        "\n",
        "# Define the IMU class\n",
        "class IMU:\n",
        "  def __init__(self, model):\n",
        "    self.model = model\n",
        "\n",
        "# Define the Camera class\n",
        "class Camera:\n",
        "  def __init__(self, model, resolution):\n",
        "    self.model = model\n",
        "    self.resolution = resolution"
      ],
      "metadata": {
        "id": "QvN1Ix9oEQIF"
      },
      "execution_count": 20,
      "outputs": []
    },
    {
      "cell_type": "markdown",
      "source": [
        "Create sensor objects 'range_finder', 'imu' and 'camera' by instantiating their respective classes."
      ],
      "metadata": {
        "id": "dpFva8uFZMx8"
      }
    },
    {
      "cell_type": "code",
      "source": [
        "Ultrasonic_HC_SR04 = RangeFinder(\"Ultrasonic\", 1, 100)\n",
        "imu_MPU6050 = IMU(\"MPU6050\")\n",
        "camera_Pana12 = Camera(\"Panasonic\", \"12MP\")"
      ],
      "metadata": {
        "id": "CjgwXKR4GLof"
      },
      "execution_count": 21,
      "outputs": []
    },
    {
      "cell_type": "markdown",
      "source": [
        "Update the Robot Class to add sensors attributes and update the 'robot_info' method to display sensors on the"
      ],
      "metadata": {
        "id": "Zc7sw_dDFGgv"
      }
    },
    {
      "cell_type": "code",
      "source": [
        "class Robot():\n",
        "  def __init__(self, name, model, battery, motor, range_finder, imu, camera):\n",
        "    self.name = name\n",
        "    self.model = model\n",
        "    self.battery = battery\n",
        "    self.motor = motor\n",
        "    self.range_finder = range_finder\n",
        "    self.imu = imu\n",
        "    self.camera = camera\n",
        "\n",
        "  def robot_info(self):\n",
        "    print(\"Name : \", self.name, \"| Model : \", self.model, \"| Battery : \", self.battery.capacity, \"kWh| Motor : \", self.motor.power, \"Watt\")\n",
        "    print(\"\\nThe Robot is equipped with the following Sensors : \")\n",
        "    print(\"\\tRange Finder >> \", self.range_finder.model, self.range_finder.min_range, self.range_finder.max_range)\n",
        "    print(\"\\tIMU >> \", self.imu.model)\n",
        "    print(\"\\tCamera >> \", self.camera.model, self.camera.resolution)"
      ],
      "metadata": {
        "id": "Tj40q54MFbig"
      },
      "execution_count": 22,
      "outputs": []
    },
    {
      "cell_type": "markdown",
      "source": [
        "Update the robot objects."
      ],
      "metadata": {
        "id": "JqOxQ5c4bHX8"
      }
    },
    {
      "cell_type": "code",
      "source": [
        "# Create instances of Robot\n",
        "my_robot=Robot(\"R2D2\", \"Droid\", battery1, motor200, Ultrasonic_HC_SR04, imu_MPU6050, camera_Pana12)\n",
        "my_robot.robot_info()\n",
        "print(\"\\t\",camera_Pana12.resolution)"
      ],
      "metadata": {
        "colab": {
          "base_uri": "https://localhost:8080/"
        },
        "id": "LhH8Ha8OcYW_",
        "outputId": "30abf4f6-4e8f-4baf-bc2b-c5034de4dd44"
      },
      "execution_count": 23,
      "outputs": [
        {
          "output_type": "stream",
          "name": "stdout",
          "text": [
            "Name :  R2D2 | Model :  Droid | Battery :  5000 kWh| Motor :  200 Watt\n",
            "\n",
            "The Robot is equipped with the following Sensors : \n",
            "\tRange Finder >>  Ultrasonic 1 100\n",
            "\tIMU >>  MPU6050\n",
            "\tCamera >>  Panasonic 12MP\n",
            "\t 12MP\n"
          ]
        }
      ]
    },
    {
      "cell_type": "markdown",
      "source": [
        "As the components keep on increasing, the attributes list goes on longer. One method to clean our code is to pass the sensors in one dictionary. Let us create one dictionary with the name 'sensors' and add all the sensors in it."
      ],
      "metadata": {
        "id": "JHQert7JhQXM"
      }
    },
    {
      "cell_type": "code",
      "source": [
        "sensors_set1={'range_finder':Ultrasonic_HC_SR04, 'imu':imu_MPU6050, 'camera':camera_Pana12}"
      ],
      "metadata": {
        "id": "PX59wat8h6JE"
      },
      "execution_count": 24,
      "outputs": []
    },
    {
      "cell_type": "markdown",
      "source": [
        "Now, we can pass this dictionary when we create our Robot"
      ],
      "metadata": {
        "id": "UgCWNfPTiGek"
      }
    },
    {
      "cell_type": "code",
      "source": [
        "class Robot():\n",
        "  def __init__(self, name, model, battery, motor, sensors):\n",
        "    self.name = name\n",
        "    self.model = model\n",
        "    self.battery = battery\n",
        "    self.motor = motor\n",
        "    self.sensors = sensors\n",
        "\n",
        "  def robot_info(self):\n",
        "    print(\"Name : \", self.name, \"| Model : \", self.model, \"| Battery : \", self.battery.capacity, \"kWh| Motor : \", self.motor.power, \"Watt\")\n",
        "    print(\"\\nThe Robot is equipped with the following Sensors : \")\n",
        "    print(\"\\tIMU >> \", self.sensors['imu'].model)"
      ],
      "metadata": {
        "id": "RjYY0t5hisWL"
      },
      "execution_count": 25,
      "outputs": []
    },
    {
      "cell_type": "code",
      "source": [
        "my_robot=Robot(\"R2D2\", \"Droid\", battery1, motor200, sensors_set1)\n",
        "my_robot.robot_info()\n",
        "my_robot.name"
      ],
      "metadata": {
        "colab": {
          "base_uri": "https://localhost:8080/",
          "height": 107
        },
        "id": "hRRkjo0GiUDq",
        "outputId": "e04a7963-08d3-4e85-9094-c865a0010651"
      },
      "execution_count": 36,
      "outputs": [
        {
          "output_type": "stream",
          "name": "stdout",
          "text": [
            "Name :  R2D2 | Model :  Droid | Battery :  5000 kWh| Motor :  200 Watt\n",
            "\n",
            "The Robot is equipped with the following Sensors : \n",
            "\tIMU >>  MPU6050\n"
          ]
        },
        {
          "output_type": "execute_result",
          "data": {
            "text/plain": [
              "'R2D2'"
            ],
            "application/vnd.google.colaboratory.intrinsic+json": {
              "type": "string"
            }
          },
          "metadata": {},
          "execution_count": 36
        }
      ]
    },
    {
      "cell_type": "markdown",
      "source": [
        "We can add another functionality of counting how many objects we have based on Robot Class. As this functionality is not related to any of the object, we use special method named as Class Method for this task. The class method is declared by using a decorator @classmethod. As this method is not object dependent, so we will not use 'self' but instead, we have to use 'cls'."
      ],
      "metadata": {
        "id": "bj-nqZyTIHfm"
      }
    },
    {
      "cell_type": "markdown",
      "source": [
        "Here the 'total_robots' variable is also based on class, we call this variable as class variable and is initialized at the begining of the class. This is processed (incremented in this case) in the '_ _ init _ _ ' method. Just to remind that the constructor or the ' _ _ init _ _ ' method is only called by default when the object of the class is instantiated. So, we have to make some changes in the class.\n",
        "\n",
        "We can also create one method in the Robot Class to count the Robots."
      ],
      "metadata": {
        "id": "qp7jBr20LNuz"
      }
    },
    {
      "cell_type": "code",
      "source": [
        "class Robot():\n",
        "  total_robots = 0  # Class variable to keep track of the number of Robot instances\n",
        "  def __init__(self, name, model, battery, motor, sensors):\n",
        "    self.name = name\n",
        "    self.model = model\n",
        "    self.battery = battery\n",
        "    self.motor = motor\n",
        "    self.sensors = sensors\n",
        "    Robot.total_robots += 1  # Increment the class variable\n",
        "\n",
        "  def robot_info(self):\n",
        "    print(\"Name : \", self.name, \"| Model : \", self.model, \"| Battery : \", self.battery.capacity, \"kWh| Motor : \", self.motor.power, \"Watt\")\n",
        "    print(\"\\nThe Robot is equipped with the following Sensors : \")\n",
        "    print(\"\\tIMU >> \", self.sensors['imu'].model)\n",
        "    # Class method to get the total number of robots\n",
        "\n",
        "  @classmethod\n",
        "  def get_total_robots(cls):\n",
        "    return cls.total_robots"
      ],
      "metadata": {
        "id": "aMWA7pAlLFOA"
      },
      "execution_count": 34,
      "outputs": []
    },
    {
      "cell_type": "code",
      "source": [
        "# Display the total number of robots and flying robots\n",
        "print(f\"Total robots: {Robot.get_total_robots()}\")"
      ],
      "metadata": {
        "id": "WIOQvONWohDg",
        "outputId": "a0cb67e1-001a-483f-f66a-ffda02151818",
        "colab": {
          "base_uri": "https://localhost:8080/"
        }
      },
      "execution_count": 31,
      "outputs": [
        {
          "output_type": "stream",
          "name": "stdout",
          "text": [
            "Total robots: 1\n"
          ]
        }
      ]
    },
    {
      "cell_type": "markdown",
      "source": [],
      "metadata": {
        "id": "fYvw6gHqpAFd"
      }
    }
  ]
}