{
  "nbformat": 4,
  "nbformat_minor": 0,
  "metadata": {
    "colab": {
      "provenance": [],
      "authorship_tag": "ABX9TyP25elbVhmLsRiEMhf7UcJe",
      "include_colab_link": true
    },
    "kernelspec": {
      "name": "python3",
      "display_name": "Python 3"
    },
    "language_info": {
      "name": "python"
    }
  },
  "cells": [
    {
      "cell_type": "markdown",
      "metadata": {
        "id": "view-in-github",
        "colab_type": "text"
      },
      "source": [
        "<a href=\"https://colab.research.google.com/github/vkjadon/ros2/blob/master/oop_robot.ipynb\" target=\"_parent\"><img src=\"https://colab.research.google.com/assets/colab-badge.svg\" alt=\"Open In Colab\"/></a>"
      ]
    },
    {
      "cell_type": "markdown",
      "source": [
        "# Introducing Class and Object"
      ],
      "metadata": {
        "id": "-TOFyWuxOCee"
      }
    },
    {
      "cell_type": "markdown",
      "source": [
        "A class provides a blueprint or template for creating objects. It is just like designing a form. The fields are same for the any person but the entries are different. The form represents a class and the fields represents the attributes. We can take example of account opening form where every person fill that form to open account (object/instance).  \n",
        "\n",
        "We can represent a class by 'class' keyword as below."
      ],
      "metadata": {
        "id": "rBZLZHETcC3q"
      }
    },
    {
      "cell_type": "code",
      "source": [
        "class Robot:\n",
        "    pass"
      ],
      "metadata": {
        "id": "xyJFMqwazTPF"
      },
      "execution_count": 1,
      "outputs": []
    },
    {
      "cell_type": "markdown",
      "source": [
        "This creates a 'Robot' class but we have not added any field (attributes) in that template of Robot.  \n",
        "\n",
        "We can create object of this class by instantiating the class as below:"
      ],
      "metadata": {
        "id": "6wjc08qkdIq0"
      }
    },
    {
      "cell_type": "code",
      "source": [
        "my_first_robot=Robot()\n",
        "my_second_robot=Robot()"
      ],
      "metadata": {
        "id": "jlBcATgwzjsu"
      },
      "execution_count": 2,
      "outputs": []
    },
    {
      "cell_type": "code",
      "source": [
        "print(my_first_robot)\n",
        "print(my_second_robot)"
      ],
      "metadata": {
        "id": "-rjZ94r5zsAq",
        "outputId": "3ad2b8a6-0acc-4cdb-85eb-5e572b288be9",
        "colab": {
          "base_uri": "https://localhost:8080/"
        }
      },
      "execution_count": 3,
      "outputs": [
        {
          "output_type": "stream",
          "name": "stdout",
          "text": [
            "<__main__.Robot object at 0x7df1adf514e0>\n",
            "<__main__.Robot object at 0x7df1adf51570>\n"
          ]
        }
      ]
    },
    {
      "cell_type": "markdown",
      "source": [
        "# Adding Attributes to a Class : Instance Variable"
      ],
      "metadata": {
        "id": "YbbMkSUoOHa0"
      }
    },
    {
      "cell_type": "markdown",
      "source": [
        "Attributes are properties that belong to a class or instances of a class. They can be divided into two main categories of class variable and instance variable. In the example of 'Robot' class, we added two attributes of 'name' and 'model'.\n",
        "\n",
        "The instance variable are accessible only through the specific instance."
      ],
      "metadata": {
        "id": "XbCOVj9ytABX"
      }
    },
    {
      "cell_type": "code",
      "execution_count": 4,
      "metadata": {
        "id": "eCCfS4MBy6SQ",
        "outputId": "cbf8a25b-8995-489b-c3dc-612a9c932fd9",
        "colab": {
          "base_uri": "https://localhost:8080/"
        }
      },
      "outputs": [
        {
          "output_type": "stream",
          "name": "stdout",
          "text": [
            "None\n",
            "None\n"
          ]
        }
      ],
      "source": [
        "class Robot:\n",
        "    name = None\n",
        "    model = None\n",
        "\n",
        "my_first_robot=Robot()\n",
        "\n",
        "print(my_first_robot.name)\n",
        "print(my_first_robot.model)"
      ]
    },
    {
      "cell_type": "markdown",
      "source": [
        "# Assigning Value to Instance Variable"
      ],
      "metadata": {
        "id": "6asmbaSufm6c"
      }
    },
    {
      "cell_type": "markdown",
      "source": [
        "Here we have added two attributes but the 'None' is assigned. We can assign the 'name' and 'model' using ***attribute access operator***; the 'dot' (.) as below:"
      ],
      "metadata": {
        "id": "w70gGKcdeVcH"
      }
    },
    {
      "cell_type": "code",
      "source": [
        "my_first_robot.name=\"R2D2\"\n",
        "my_first_robot.model=\"Droid\""
      ],
      "metadata": {
        "id": "NAGh6tuTz48D"
      },
      "execution_count": 5,
      "outputs": []
    },
    {
      "cell_type": "code",
      "source": [
        "my_second_robot.name=\"C3PO\"\n",
        "my_second_robot.model=\"Droid\""
      ],
      "metadata": {
        "id": "FL0eEmYKNuNg"
      },
      "execution_count": 6,
      "outputs": []
    },
    {
      "cell_type": "code",
      "source": [
        "print(my_first_robot.name)\n",
        "print(my_first_robot.model)"
      ],
      "metadata": {
        "id": "Sn0mvYqRp0Tp",
        "outputId": "bbe6a3b6-4d03-4233-9d5b-d4c8da9780b8",
        "colab": {
          "base_uri": "https://localhost:8080/"
        }
      },
      "execution_count": 7,
      "outputs": [
        {
          "output_type": "stream",
          "name": "stdout",
          "text": [
            "R2D2\n",
            "Droid\n"
          ]
        }
      ]
    },
    {
      "cell_type": "markdown",
      "source": [
        "In case the attributes are more, this method is not very convient to assign attributes for an object. So, we use a method called constructor method to add attributes to a class."
      ],
      "metadata": {
        "id": "jVembJcYa81B"
      }
    },
    {
      "cell_type": "markdown",
      "source": [
        "# Add Parameters to Class Constructor"
      ],
      "metadata": {
        "id": "vmR7JOjwO6rP"
      }
    },
    {
      "cell_type": "markdown",
      "source": [
        "In python, the constructor method is defined in ' _ _ init _ _ '. The first parameter in the constructor is 'self' which represent the instance of the class.  \n",
        "\n",
        "Add 'name' and 'model' as attributes of the Robot Class. In the context of the variable, the 'name' and 'model' are the attribute classified in the category of instance variable."
      ],
      "metadata": {
        "id": "nHOBk9N8ajb1"
      }
    },
    {
      "cell_type": "code",
      "source": [
        "class Robot():\n",
        "  # def __init__(name, model):\n",
        "  def __init__(self, name, model):\n",
        "    self.name = name\n",
        "    self.model = model\n",
        "\n",
        "my_first_robot=Robot(\"R2D2\", \"Droid\")\n",
        "my_second_robot=Robot(\"C3PO\", \"Droid\")\n",
        "\n",
        "print(my_first_robot.model)"
      ],
      "metadata": {
        "id": "45jR_TStO-7Z",
        "outputId": "38b95a87-79f5-4e69-cebb-4d3c4bc43f6f",
        "colab": {
          "base_uri": "https://localhost:8080/"
        }
      },
      "execution_count": 10,
      "outputs": [
        {
          "output_type": "stream",
          "name": "stdout",
          "text": [
            "Droid\n"
          ]
        }
      ]
    },
    {
      "cell_type": "markdown",
      "source": [
        "When we instantiate a class and create 'my_robot', the name of the object 'my_robot' is passed to the constructor by default and 'self' takes the name of the object.  \n",
        "Also, we can access the Robot Class attributes from the outside of the class.\n",
        "\n",
        "It is important to note the number of arguements we pass in the functional call should be the same as the number of parameters we use to define a function."
      ],
      "metadata": {
        "id": "dEfZDfslRcDA"
      }
    },
    {
      "cell_type": "markdown",
      "source": [
        "# Add a method to the class"
      ],
      "metadata": {
        "id": "CKx-oLqmRAsO"
      }
    },
    {
      "cell_type": "markdown",
      "source": [
        "A method in a class is a function that is defined within a class and operates on instances of that class. Methods are used to define behaviors and actions of the objects. We can also use methods to access and modify the attributes.\n",
        "\n",
        "Methods can be categorized into instance methods, class methods, and static methods."
      ],
      "metadata": {
        "id": "l-QN74v-L3b9"
      }
    },
    {
      "cell_type": "code",
      "source": [
        "class Robot():\n",
        "  def __init__(self, name, model):\n",
        "    self.name = name\n",
        "    self.model = model\n",
        "\n",
        "  def robot_info(self):\n",
        "    print(self, \"Name : \", self.name, \"| Model : \", self.model)"
      ],
      "metadata": {
        "id": "qoGx_PFcP1dU"
      },
      "execution_count": 15,
      "outputs": []
    },
    {
      "cell_type": "markdown",
      "source": [
        "## Call an Instance Method"
      ],
      "metadata": {
        "id": "RxEn-9idm2dv"
      }
    },
    {
      "cell_type": "markdown",
      "source": [
        "We can call the method using class or object/instance. To call a method, the syntax is to use object name followed by ' . (dot) ', followed by method.  \n",
        "\n",
        "So method call is <p><b> my_second_robot.robot_info() </b></p>"
      ],
      "metadata": {
        "id": "80YLqxPMLHfW"
      }
    },
    {
      "cell_type": "code",
      "source": [
        "my_first_robot=Robot(\"R2D2\", \"Droid\")\n",
        "my_second_robot=Robot(\"C3PO\", \"Droid\")\n",
        "\n",
        "# print(my_robot)\n",
        "print(f\"The name of my_robot is {my_first_robot.name}\")\n",
        "\n",
        "# print(my_second_robot)\n",
        "my_second_robot.robot_info()"
      ],
      "metadata": {
        "id": "AHpwABSg5Nm_",
        "outputId": "40a3f879-0e40-46b2-f91f-d76df9c539d2",
        "colab": {
          "base_uri": "https://localhost:8080/"
        }
      },
      "execution_count": 16,
      "outputs": [
        {
          "output_type": "stream",
          "name": "stdout",
          "text": [
            "The name of my_robot is R2D2\n",
            "<__main__.Robot object at 0x7df1adf51270> Name :  C3PO | Model :  Droid\n"
          ]
        }
      ]
    },
    {
      "cell_type": "markdown",
      "source": [
        "## Calling an Instance Method on Class\n",
        "\n",
        "Let us try to call a method on class."
      ],
      "metadata": {
        "id": "LFniYGlXSu-f"
      }
    },
    {
      "cell_type": "code",
      "source": [
        "# Robot.robot_info()"
      ],
      "metadata": {
        "id": "CBibqfVkMbjN"
      },
      "execution_count": null,
      "outputs": []
    },
    {
      "cell_type": "markdown",
      "source": [
        "We can call any instance method on class. In this case we use class name then dot (.) followed by method name and pass the instance of the class (object) as an arguement to the methos as below.\n",
        "\n",
        "<p>\n",
        "  <b>Robot.robot_info(my_robot)</b>\n",
        "</p>"
      ],
      "metadata": {
        "id": "_mI4K3ymPM68"
      }
    },
    {
      "cell_type": "code",
      "source": [
        "Robot.robot_info(my_first_robot)"
      ],
      "metadata": {
        "id": "3dKBavUjQk0h",
        "outputId": "e4b82123-ae07-4d64-99eb-3af7d08f7a22",
        "colab": {
          "base_uri": "https://localhost:8080/"
        }
      },
      "execution_count": 17,
      "outputs": [
        {
          "output_type": "stream",
          "name": "stdout",
          "text": [
            "<__main__.Robot object at 0x7df1adf50040> Name :  R2D2 | Model :  Droid\n"
          ]
        }
      ]
    },
    {
      "cell_type": "markdown",
      "source": [
        "One very common mistake about creating a method is that we miss to add 'self' as the first parameter of the method. Actually, when we call any methon on any instance or object of any class, the instance is automatically passed with other arguements. So, it is must to use self in the method defination."
      ],
      "metadata": {
        "id": "-tM-vzNNKBmX"
      }
    },
    {
      "cell_type": "markdown",
      "source": [
        "# Add Robot Components : Composition\n",
        "\n",
        "Composition is a technique to add one or more objects from one or more classes to another class.\n",
        "\n",
        "Let us add battery to begin with by creating a Battery Class and add one attribute 'capacity' to this class."
      ],
      "metadata": {
        "id": "idqlJuleUUar"
      }
    },
    {
      "cell_type": "code",
      "source": [
        "class Battery:\n",
        "  def __init__(self, capacity):\n",
        "    self.capacity = capacity"
      ],
      "metadata": {
        "id": "YbKyC5XYUaVT"
      },
      "execution_count": 18,
      "outputs": []
    },
    {
      "cell_type": "markdown",
      "source": [
        "Now, create two battery objects of 'Battery' class."
      ],
      "metadata": {
        "id": "dpESofPvot77"
      }
    },
    {
      "cell_type": "code",
      "source": [
        "# Create instances of Battery\n",
        "battery1 = Battery(5000)\n",
        "battery2 = Battery(8000)"
      ],
      "metadata": {
        "id": "bsCRa0FxnoBZ"
      },
      "execution_count": 19,
      "outputs": []
    },
    {
      "cell_type": "markdown",
      "source": [
        "We can add these objects of 'Battery' class to form a 'Robot' class. We need to change the Robot Class by adding battery Object as parameter and add that as attribute."
      ],
      "metadata": {
        "id": "WDZAJyh97s94"
      }
    },
    {
      "cell_type": "code",
      "source": [
        "class Robot():\n",
        "  def __init__(self, name, model, battery):\n",
        "    self.name = name\n",
        "    self.model = model\n",
        "    self.battery = battery\n",
        "\n",
        "  def robot_info(self):\n",
        "    print(self, \"Name : \", self.name, \"| Model : \", self.model, \"| Battery : \", self.battery.capacity)"
      ],
      "metadata": {
        "id": "vw3nbpWs7WM8"
      },
      "execution_count": 20,
      "outputs": []
    },
    {
      "cell_type": "code",
      "source": [
        "# Create instances of Robot\n",
        "my_first_robot=Robot(\"R2D2\", \"Droid\", battery1)\n",
        "my_second_robot=Robot(\"C3PO\", \"Droid\", battery2)"
      ],
      "metadata": {
        "id": "X4_S_cC9nx7y"
      },
      "execution_count": 21,
      "outputs": []
    },
    {
      "cell_type": "markdown",
      "source": [
        "Print the objects Info"
      ],
      "metadata": {
        "id": "KWr-w_F76T-d"
      }
    },
    {
      "cell_type": "code",
      "source": [
        "my_first_robot.robot_info()\n",
        "my_second_robot.robot_info()"
      ],
      "metadata": {
        "id": "voMqpS1H6S3Z",
        "outputId": "b1449aca-b096-4769-8727-46c1ca08c039",
        "colab": {
          "base_uri": "https://localhost:8080/"
        }
      },
      "execution_count": 23,
      "outputs": [
        {
          "output_type": "stream",
          "name": "stdout",
          "text": [
            "<__main__.Robot object at 0x7df1adf52830> Name :  R2D2 | Model :  Droid | Battery :  5000\n",
            "<__main__.Robot object at 0x7df1adf50f40> Name :  C3PO | Model :  Droid | Battery :  8000\n"
          ]
        }
      ]
    },
    {
      "cell_type": "markdown",
      "source": [
        "Let us now add one more component Motor with power as one attribute."
      ],
      "metadata": {
        "id": "aA3GExnI9Uou"
      }
    },
    {
      "cell_type": "code",
      "source": [
        "class Motor:\n",
        "  def __init__(self, power):\n",
        "    self.power = power"
      ],
      "metadata": {
        "id": "vVZdjH-d8jWV"
      },
      "execution_count": 24,
      "outputs": []
    },
    {
      "cell_type": "code",
      "source": [
        "# Create instances of Motor\n",
        "motor200 = Motor(200)"
      ],
      "metadata": {
        "id": "Wy4GQ4gz9utA"
      },
      "execution_count": 25,
      "outputs": []
    },
    {
      "cell_type": "markdown",
      "source": [
        "Attach motor to Robots by modifying the Robot Class"
      ],
      "metadata": {
        "id": "0BjeH0m79gSe"
      }
    },
    {
      "cell_type": "code",
      "source": [
        "class Robot():\n",
        "  def __init__(self, name, model, battery, motor):\n",
        "    self.name = name\n",
        "    self.model = model\n",
        "    self.battery = battery\n",
        "    self.motor = motor\n",
        "\n",
        "  def robot_info(self):\n",
        "    print(self, \"Name : \", self.name, \"| Model : \", self.model, \"| Battery : \", self.battery.capacity, \"kWh| Motor : \", self.motor.power, \"Watt\")"
      ],
      "metadata": {
        "id": "YQH9zyJ9-Cbc"
      },
      "execution_count": 26,
      "outputs": []
    },
    {
      "cell_type": "markdown",
      "source": [
        "Update the instances of the class to add object of Motor class as an arguement"
      ],
      "metadata": {
        "id": "27ZvtuSPDBxp"
      }
    },
    {
      "cell_type": "code",
      "source": [
        "# Create instances of Robot\n",
        "my_first_robot=Robot(\"R2D2\", \"Droid\", battery1, motor200)\n",
        "my_second_robot=Robot(\"C3PO\", \"Droid\", battery2, motor200)\n",
        "\n",
        "my_first_robot.robot_info()\n",
        "my_second_robot.robot_info()"
      ],
      "metadata": {
        "id": "pHcOWncmcH0a",
        "outputId": "446cfea5-a5d0-433c-cb15-098caa68d915",
        "colab": {
          "base_uri": "https://localhost:8080/"
        }
      },
      "execution_count": 27,
      "outputs": [
        {
          "output_type": "stream",
          "name": "stdout",
          "text": [
            "<__main__.Robot object at 0x7df1adf52020> Name :  R2D2 | Model :  Droid | Battery :  5000 kWh| Motor :  200 Watt\n",
            "<__main__.Robot object at 0x7df1adf535b0> Name :  C3PO | Model :  Droid | Battery :  8000 kWh| Motor :  200 Watt\n"
          ]
        }
      ]
    },
    {
      "cell_type": "markdown",
      "source": [
        "Our robot must have some sesnsors. The important sensors are range finder, imu, camera etc. Create classes for each of these."
      ],
      "metadata": {
        "id": "yGYMXxD5DqT7"
      }
    },
    {
      "cell_type": "code",
      "source": [
        "# Define the RangeFinder class\n",
        "class RangeFinder:\n",
        "  def __init__(self, model, min_range, max_range):\n",
        "    self.model = model\n",
        "    self.min_range = min_range\n",
        "    self.max_range = max_range\n",
        "\n",
        "# Define the IMU class\n",
        "class IMU:\n",
        "  def __init__(self, model):\n",
        "    self.model = model\n",
        "\n",
        "# Define the Camera class\n",
        "class Camera:\n",
        "  def __init__(self, model, resolution):\n",
        "    self.model = model\n",
        "    self.resolution = resolution"
      ],
      "metadata": {
        "id": "QvN1Ix9oEQIF"
      },
      "execution_count": 30,
      "outputs": []
    },
    {
      "cell_type": "markdown",
      "source": [
        "Create sensor objects 'range_finder', 'imu' and 'camera' by instantiating their respective classes."
      ],
      "metadata": {
        "id": "dpFva8uFZMx8"
      }
    },
    {
      "cell_type": "code",
      "source": [
        "Ultrasonic_HC_SR04 = RangeFinder(\"Ultrasonic\", 1, 100)\n",
        "imu_MPU6050 = IMU(\"MPU6050\")\n",
        "camera_Pana12 = Camera(\"Panasonic\", \"12MP\")"
      ],
      "metadata": {
        "id": "CjgwXKR4GLof"
      },
      "execution_count": 31,
      "outputs": []
    },
    {
      "cell_type": "markdown",
      "source": [
        "Update the Robot Class to add sensors attributes and update the 'robot_info' method to display sensors on the"
      ],
      "metadata": {
        "id": "Zc7sw_dDFGgv"
      }
    },
    {
      "cell_type": "code",
      "source": [
        "class Robot():\n",
        "  def __init__(self, name, model, battery, motor, range_finder, imu, camera):\n",
        "    self.name = name\n",
        "    self.model = model\n",
        "    self.battery = battery\n",
        "    self.motor = motor\n",
        "    self.range_finder = range_finder\n",
        "    self.imu = imu\n",
        "    self.camera = camera\n",
        "\n",
        "  def robot_info(self):\n",
        "    print(\"Name : \", self.name, \"| Model : \", self.model, \"| Battery : \", self.battery.capacity, \"kWh| Motor : \", self.motor.power, \"Watt\")\n",
        "    print(\"\\nThe Robot is equipped with the following Sensors : \")\n",
        "    print(f\"\\nRange Finder  {self.range_finder.model} IMU  {self.imu.model} Camera  {self.camera.model}\")"
      ],
      "metadata": {
        "id": "Tj40q54MFbig"
      },
      "execution_count": 32,
      "outputs": []
    },
    {
      "cell_type": "markdown",
      "source": [
        "Update the robot objects."
      ],
      "metadata": {
        "id": "JqOxQ5c4bHX8"
      }
    },
    {
      "cell_type": "code",
      "source": [
        "# Create instances of Robot\n",
        "my_first_robot=Robot(\"R2D2\", \"Droid\", battery1, motor200, Ultrasonic_HC_SR04, imu_MPU6050, camera_Pana12)\n",
        "my_first_robot.robot_info()\n",
        "# print(\"\\t\",camera_Pana12.resolution)"
      ],
      "metadata": {
        "id": "LhH8Ha8OcYW_",
        "outputId": "c8f67fb4-2baf-4b0f-8c9b-ca507183b79a",
        "colab": {
          "base_uri": "https://localhost:8080/"
        }
      },
      "execution_count": 33,
      "outputs": [
        {
          "output_type": "stream",
          "name": "stdout",
          "text": [
            "Name :  R2D2 | Model :  Droid | Battery :  5000 kWh| Motor :  200 Watt\n",
            "\n",
            "The Robot is equipped with the following Sensors : \n",
            "\n",
            "Range Finder  Ultrasonic IMU  MPU6050 Camera  Panasonic\n"
          ]
        }
      ]
    },
    {
      "cell_type": "markdown",
      "source": [
        "As the components keep on increasing, the attributes list goes on longer. One method to clean our code is to pass the sensors in one dictionary. Let us create one dictionary with the name 'sensors' and add all the sensors in it."
      ],
      "metadata": {
        "id": "JHQert7JhQXM"
      }
    },
    {
      "cell_type": "code",
      "source": [
        "sensors_set1={'range_finder':Ultrasonic_HC_SR04, 'imu':imu_MPU6050, 'camera':camera_Pana12}"
      ],
      "metadata": {
        "id": "PX59wat8h6JE"
      },
      "execution_count": 36,
      "outputs": []
    },
    {
      "cell_type": "markdown",
      "source": [
        "Now, we can pass this dictionary when we create our Robot"
      ],
      "metadata": {
        "id": "UgCWNfPTiGek"
      }
    },
    {
      "cell_type": "code",
      "source": [
        "class Robot():\n",
        "  def __init__(self, name, model, battery, motor, sensors):\n",
        "    self.name = name\n",
        "    self.model = model\n",
        "    self.battery = battery\n",
        "    self.motor = motor\n",
        "    self.sensors = sensors\n",
        "    print(self.sensors)\n",
        "\n",
        "  def robot_info(self):\n",
        "    print(\"Name : \", self.name, \"| Model : \", self.model, \"| Battery : \", self.battery.capacity, \"kWh| Motor : \", self.motor.power, \"Watt\")\n",
        "    print(\"\\nThe Robot is equipped with the following Sensors : \")\n",
        "    print(\"\\nIMU  {self.sensors['imu'].model}\")"
      ],
      "metadata": {
        "id": "RjYY0t5hisWL"
      },
      "execution_count": 35,
      "outputs": []
    },
    {
      "cell_type": "code",
      "source": [
        "my_first_robot=Robot(\"R2D2\", \"Droid\", battery1, motor200, sensors_set1)\n",
        "my_first_robot.robot_info()\n",
        "# my_first_robot.name"
      ],
      "metadata": {
        "id": "hRRkjo0GiUDq",
        "outputId": "cb08b789-f846-4c5c-cf41-735b364eacdf",
        "colab": {
          "base_uri": "https://localhost:8080/"
        }
      },
      "execution_count": 37,
      "outputs": [
        {
          "output_type": "stream",
          "name": "stdout",
          "text": [
            "{'range_finder': <__main__.RangeFinder object at 0x7df1adf53ee0>, 'imu': <__main__.IMU object at 0x7df1adf53460>, 'camera': <__main__.Camera object at 0x7df1adf534f0>}\n",
            "Name :  R2D2 | Model :  Droid | Battery :  5000 kWh| Motor :  200 Watt\n",
            "\n",
            "The Robot is equipped with the following Sensors : \n",
            "\n",
            "IMU  {self.sensors['imu'].model}\n"
          ]
        }
      ]
    },
    {
      "cell_type": "markdown",
      "source": [
        "# Understanding '_ _ dict _ _'"
      ],
      "metadata": {
        "id": "M4XGMlUMgqeA"
      }
    },
    {
      "cell_type": "markdown",
      "source": [
        "'_ _ dict _ _' is an attribute of an object that stores all its attributes in a dictionary.\n",
        "\n",
        "As this is a special attribute of an object and is automatically assigned. We can access this using attribute access operator; 'dot' (.).  "
      ],
      "metadata": {
        "id": "tLn3iVzDg_mX"
      }
    },
    {
      "cell_type": "code",
      "source": [
        "print(my_first_robot.__dict__)"
      ],
      "metadata": {
        "id": "1nIGnvBSUn8o"
      },
      "execution_count": null,
      "outputs": []
    },
    {
      "cell_type": "markdown",
      "source": [
        "The output of this is a dictionary where the keys are attribute names (as strings) and the values are the corresponding attribute values.  \n",
        "\n",
        "We can also modify attributes dynamically using '_ _ dict _ _'."
      ],
      "metadata": {
        "id": "c5nu67XOh3cm"
      }
    },
    {
      "cell_type": "code",
      "source": [
        "# Modify an attribute using __dict__\n",
        "my_first_robot.__dict__['name'] = \"R789\"\n",
        "\n",
        "# Add a new attribute using __dict__\n",
        "my_first_robot.__dict__['battery'] = \"5000mAh\"\n",
        "\n",
        "print(my_first_robot.__dict__)"
      ],
      "metadata": {
        "id": "TPetVsRnmCdm"
      },
      "execution_count": null,
      "outputs": []
    },
    {
      "cell_type": "markdown",
      "source": [
        "# Class Variable and Class Method"
      ],
      "metadata": {
        "id": "kWQDdJy-TdxQ"
      }
    },
    {
      "cell_type": "markdown",
      "source": [
        "A class variable is a variable that is shared among all instances of a class. It is defined within a class but outside any instance methods or constructors (' _ _ init _ _' method). Class variables are used to store data that is common to all objects of the class."
      ],
      "metadata": {
        "id": "BPF-Wn5OrwQN"
      }
    },
    {
      "cell_type": "code",
      "source": [
        "class Robot():\n",
        "\n",
        "  robot_base_cost = 100000\n",
        "\n",
        "  def __init__(self, name, model, battery, motor, sensors):\n",
        "    self.name = name\n",
        "    self.model = model\n",
        "    self.battery = battery\n",
        "    self.motor = motor\n",
        "    self.sensors = sensors\n",
        "\n",
        "  def robot_info(self):\n",
        "    print(self)\n",
        "    print(\"Name : \", self.name, \"| Model : \", self.model, \"| Battery : \", self.battery.capacity, \"kWh| Motor : \", self.motor.power, \"Watt\")\n",
        "    print(f\"\\nIMU {self.sensors['imu'].model}\")\n",
        "\n",
        "  def get_base_cost(self):\n",
        "    print(f\"The Base Cost of the Robot is = {self.robot_base_cost}\")\n",
        "    # print(f\"The Base Cost of the Robot is = {Robot.robot_base_cost}\")\n"
      ],
      "metadata": {
        "id": "aMWA7pAlLFOA"
      },
      "execution_count": null,
      "outputs": []
    },
    {
      "cell_type": "code",
      "source": [
        "my_first_robot=Robot(\"R2D2\", \"Droid\", battery1, motor200, sensors_set1)\n",
        "my_third_robot=Robot(\"C3PO\", \"Droid\", battery1, motor200, sensors_set1)\n",
        "my_third_robot.robot_info()"
      ],
      "metadata": {
        "id": "m4LvrYn3Ukva"
      },
      "execution_count": null,
      "outputs": []
    },
    {
      "cell_type": "markdown",
      "source": [
        "We can access the class variable from the Class itself and the both the instances of the class."
      ],
      "metadata": {
        "id": "Cgf2jSjr4gln"
      }
    },
    {
      "cell_type": "code",
      "source": [
        "print(Robot.robot_base_cost)\n",
        "print(my_first_robot.robot_base_cost)\n",
        "print(my_third_robot.robot_base_cost)"
      ],
      "metadata": {
        "id": "6gCzZyvc4L-8"
      },
      "execution_count": null,
      "outputs": []
    },
    {
      "cell_type": "markdown",
      "source": [
        "When we try to access the class variable from instance of a class, it will first check the instance attributes and when it does not find it there, it checks the attributes of the class the instance inherit from and use it."
      ],
      "metadata": {
        "id": "YWyhh4E9441j"
      }
    },
    {
      "cell_type": "code",
      "source": [
        "my_first_robot.get_base_cost()\n",
        "Robot.get_base_cost(my_first_robot)"
      ],
      "metadata": {
        "id": "IpySB2bLYtyp"
      },
      "execution_count": null,
      "outputs": []
    },
    {
      "cell_type": "code",
      "source": [
        "print(my_first_robot.__dict__)"
      ],
      "metadata": {
        "id": "CrLd4pYY6QIC"
      },
      "execution_count": null,
      "outputs": []
    },
    {
      "cell_type": "code",
      "source": [
        "print(Robot.__dict__)"
      ],
      "metadata": {
        "id": "5wxBseft6bg-"
      },
      "execution_count": null,
      "outputs": []
    },
    {
      "cell_type": "code",
      "source": [
        "Robot.robot_base_cost = 200000\n",
        "print(Robot.robot_base_cost)\n",
        "print(my_first_robot.robot_base_cost)\n",
        "print(my_third_robot.robot_base_cost)"
      ],
      "metadata": {
        "id": "Nr2fkQLG6oLI"
      },
      "execution_count": null,
      "outputs": []
    },
    {
      "cell_type": "code",
      "source": [
        "my_first_robot.robot_base_cost = 300000\n",
        "print(Robot.robot_base_cost)\n",
        "print(my_first_robot.robot_base_cost)\n",
        "print(my_third_robot.robot_base_cost)"
      ],
      "metadata": {
        "id": "WsMPiDv961Mf"
      },
      "execution_count": null,
      "outputs": []
    },
    {
      "cell_type": "code",
      "source": [
        "print(my_first_robot.__dict__)"
      ],
      "metadata": {
        "id": "YmtRft1v69Yt"
      },
      "execution_count": null,
      "outputs": []
    },
    {
      "cell_type": "markdown",
      "source": [
        "We can add another functionality of counting how many objects we have based on Robot Class. As this functionality is not related to any of the object, we use special method named as Class Method for this task.\n",
        "<p>The class method is declared by using a decorator <b>@classmethod</b>.</p>\n",
        "As this method is not object dependent, so we will not use 'self' but instead, we have to use '<b><i>cls</i></b>'.\n",
        "\n",
        " Just to remind that the constructor or the ' _ _ init _ _ ' method is only called by default when the object of the class is instantiated. So, we have to make some changes in the class.\n",
        "\n",
        "We can also create one method in the Robot Class to count the Robots.\n",
        "\n",
        "Here the 'total_robots' variable is also based on class, we call this variable as class variable and is initialized at the begining of the class. This is processed (incremented in this case) in the '_ _ init _ _ ' method."
      ],
      "metadata": {
        "id": "bj-nqZyTIHfm"
      }
    },
    {
      "cell_type": "code",
      "source": [
        "class Robot():\n",
        "  total_robots = 0  # Class variable to keep track of the number of Robot instances\n",
        "\n",
        "  robot_base_cost = 100000\n",
        "\n",
        "  def __init__(self, name, model, battery, motor, sensors):\n",
        "    self.name = name\n",
        "    self.model = model\n",
        "    self.battery = battery\n",
        "    self.motor = motor\n",
        "    self.sensors = sensors\n",
        "    Robot.total_robots += 1  # Increment the class variable\n",
        "\n",
        "  def robot_info(self):\n",
        "    print(self)\n",
        "    print(\"Name : \", self.name, \"| Model : \", self.model, \"| Battery : \", self.battery.capacity, \"kWh| Motor : \", self.motor.power, \"Watt\")\n",
        "    print(\"\\nThe Robot is equipped with the following Sensors : \")\n",
        "    print(f\"\\nIMU {self.sensors['imu'].model}\")\n",
        "\n",
        "  def get_base_cost(self):\n",
        "    print(f\"The Base Cost of the Robot is = {self.robot_base_cost}\")\n",
        "\n",
        "  # Class method to get the total number of robots\n",
        "  @classmethod\n",
        "  def get_total_robots(cls):\n",
        "    return cls.total_robots"
      ],
      "metadata": {
        "id": "YwN0oAL_ky2F"
      },
      "execution_count": null,
      "outputs": []
    },
    {
      "cell_type": "code",
      "source": [
        "# Display the total number of robots and flying robots\n",
        "print(f\"Total robots: {Robot.get_total_robots()}\")\n",
        "print(my_third_robot)"
      ],
      "metadata": {
        "id": "WIOQvONWohDg"
      },
      "execution_count": null,
      "outputs": []
    },
    {
      "cell_type": "markdown",
      "source": [
        "# Encapsulation"
      ],
      "metadata": {
        "id": "QkqUDFB8_gO_"
      }
    },
    {
      "cell_type": "markdown",
      "source": [
        "Encapsulation refers to the bundling of attributes and methods into a class. Encapsulation also restricts direct access to some of an object's components and hides the internal representation of an object from the outside.\n",
        "This is achieved using access modifiers such as private, protected, and public.  \n",
        "\n",
        "Now let us try to divide the robot class into two classes to encapsulate the configuration attributes and related methods into one class and the other behavioral methods into another class.\n",
        "\n",
        "First, let us define our configuration class"
      ],
      "metadata": {
        "id": "TWVSPEhj_6MY"
      }
    },
    {
      "cell_type": "code",
      "source": [
        "# Define a configuration class to encapsulate all configurations\n",
        "class RobotConfig:\n",
        "  def __init__(self, name, model, battery, motor, sensors):\n",
        "    self.name = name\n",
        "    self.model = model\n",
        "    self.battery = battery\n",
        "    self.motor = motor\n",
        "    self.sensors = sensors"
      ],
      "metadata": {
        "id": "CRsYJyQMBOl3"
      },
      "execution_count": null,
      "outputs": []
    },
    {
      "cell_type": "code",
      "source": [
        "class Robot:\n",
        "  total_robots = 0  # Class variable to keep track of the number of Robot instances\n",
        "\n",
        "  def __init__(self, config):\n",
        "    self.name = config.name\n",
        "    self.model = config.model\n",
        "    self.battery = config.battery  # composition\n",
        "    self.motor = config.motor  # composition\n",
        "    self.sensors = config.sensors  # composition\n",
        "    Robot.total_robots += 1  # Increment the class variable\n",
        "\n",
        "  def robot_info(self):\n",
        "    # print(self)\n",
        "    print(f\"Name: {self.name} | Model: {self.model} | Battery: {self.battery.capacity} kWh | Motor: {self.motor.power} Watt\")\n",
        "    print(f\"IMU {self.sensors['imu'].model}\")\n",
        "\n",
        "  def get_base_cost(self):\n",
        "    print(f\"The Base Cost of the Robot is = {self.robot_base_cost}\")\n",
        "\n",
        "    # Class method to get the total number of robots\n",
        "  @classmethod\n",
        "  def get_total_robots(cls):\n",
        "    return cls.total_robots\n"
      ],
      "metadata": {
        "id": "E_vBtQLYBoRe"
      },
      "execution_count": null,
      "outputs": []
    },
    {
      "cell_type": "code",
      "source": [
        "print(f\"Total robots: {Robot.get_total_robots()}\")"
      ],
      "metadata": {
        "id": "51QeadK8GOaF"
      },
      "execution_count": null,
      "outputs": []
    },
    {
      "cell_type": "code",
      "source": [
        "# Create configuration objects\n",
        "robot_config1 = RobotConfig(\"Robo1\", \"RX-78\", battery1, motor200, sensors_set1)\n",
        "robot_config2 = RobotConfig(\"FlyBot1\", \"FX-99\", battery2, motor200, sensors_set1)"
      ],
      "metadata": {
        "id": "zG42F2bUCWzM"
      },
      "execution_count": null,
      "outputs": []
    },
    {
      "cell_type": "code",
      "source": [
        "my_first_robot = Robot(robot_config1)\n",
        "print(my_first_robot.robot_info())\n",
        "my_second_robot = Robot(robot_config2)\n",
        "# print(my_second_robot.robot_info())"
      ],
      "metadata": {
        "id": "uTdMJ_RCC4Cn"
      },
      "execution_count": null,
      "outputs": []
    },
    {
      "cell_type": "markdown",
      "source": [
        "# Creating Sub-Classes : Inheritance"
      ],
      "metadata": {
        "id": "E_3segpM9Ld7"
      }
    },
    {
      "cell_type": "markdown",
      "source": [
        "Inheritance allows a class to inherit attributes and methods from another class. The class that inherits is called the \"child class\" or \"subclass,\" and the class from which it inherits is called the \"parent class\" or \"superclass.\"\n",
        "\n",
        "The class that inherits from the parent class can add new properties and methods or override existing ones from the parent class."
      ],
      "metadata": {
        "id": "t2XHfhtk9c5C"
      }
    },
    {
      "cell_type": "code",
      "source": [
        "# Define a subclass of Robot to demonstrate inheritance and method overriding\n",
        "class FlyingRobot(Robot):\n",
        "    total_flying_robots = 0  # Class variable to keep track of the number of FlyingRobot instances\n",
        "\n",
        "    def __init__(self, config, altitude):\n",
        "      super().__init__(config)  # call the base class constructor\n",
        "      self.altitude = altitude\n",
        "      FlyingRobot.total_flying_robots += 1  # Increment the class variable\n",
        "\n",
        "    # Overriding the move method to include flying behavior\n",
        "    def move(self, direction, distance):\n",
        "      print(f\"{self.get_name()} (model {self.get_model()}) with battery capacity {self.battery.get_capacity()}mAh \"\n",
        "              f\"and motor power {self.motor.get_power()}W is flying {direction} for {distance} meters at altitude {self.altitude} meters\")\n",
        "\n",
        "    # Class method to get the total number of flying robots\n",
        "    @classmethod\n",
        "    def get_total_flying_robots(cls):\n",
        "      return cls.total_flying_robots"
      ],
      "metadata": {
        "id": "EBAhnE8T9zar"
      },
      "execution_count": null,
      "outputs": []
    }
  ]
}