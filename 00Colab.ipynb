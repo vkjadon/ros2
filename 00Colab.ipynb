{
  "cells": [
    {
      "cell_type": "markdown",
      "metadata": {
        "id": "view-in-github",
        "colab_type": "text"
      },
      "source": [
        "<a href=\"https://colab.research.google.com/github/vkjadon/ros2/blob/master/00Colab.ipynb\" target=\"_parent\"><img src=\"https://colab.research.google.com/assets/colab-badge.svg\" alt=\"Open In Colab\"/></a>"
      ]
    },
    {
      "cell_type": "markdown",
      "metadata": {
        "id": "38baNIjuCVzu"
      },
      "source": [
        "## Accessing Google Drive"
      ]
    },
    {
      "cell_type": "code",
      "execution_count": null,
      "metadata": {
        "id": "QbfjKmjTC_r9"
      },
      "outputs": [],
      "source": [
        "from google.colab import drive\n",
        "drive.mount('/content/drive')"
      ]
    },
    {
      "cell_type": "markdown",
      "metadata": {
        "id": "ITUKYBxRFdRv"
      },
      "source": [
        "Use `!pwd` to verify the present working directory."
      ]
    },
    {
      "cell_type": "code",
      "execution_count": null,
      "metadata": {
        "id": "5Y8aC0I8FlBK"
      },
      "outputs": [],
      "source": [
        "!pwd"
      ]
    },
    {
      "cell_type": "markdown",
      "metadata": {
        "id": "RfXZWJhQFHbM"
      },
      "source": [
        "Use `!ls` to show the content of the present working directory.*italicised text*"
      ]
    },
    {
      "cell_type": "code",
      "execution_count": null,
      "metadata": {
        "id": "iyEoYzNIFUFa"
      },
      "outputs": [],
      "source": [
        "!ls"
      ]
    },
    {
      "cell_type": "markdown",
      "source": [
        "## Navigating Folders"
      ],
      "metadata": {
        "id": "5L8BWE98mfNO"
      }
    },
    {
      "cell_type": "markdown",
      "metadata": {
        "id": "78Mu7l35pswB"
      },
      "source": [
        "To navigate to your home directory, simply type `cd.`. Another way to return directly to your home directory is to use the tilde (~) character."
      ]
    },
    {
      "cell_type": "code",
      "execution_count": null,
      "metadata": {
        "id": "YTcl0788pyOu"
      },
      "outputs": [],
      "source": [
        "% cd~"
      ]
    },
    {
      "cell_type": "code",
      "execution_count": null,
      "metadata": {
        "id": "gP3od_e4p2hO"
      },
      "outputs": [],
      "source": [
        "!pwd"
      ]
    },
    {
      "cell_type": "markdown",
      "metadata": {
        "id": "zQM1kHKHGmQR"
      },
      "source": [
        "1. Use `%cd drive/path` to change the current working directory.\n",
        "2. You can click on the `drive` folder to see the content of your google drive."
      ]
    },
    {
      "cell_type": "code",
      "execution_count": null,
      "metadata": {
        "id": "f5ye7h4AFVms"
      },
      "outputs": [],
      "source": [
        "% cd drive/MyDrive/Colab Notebooks/"
      ]
    },
    {
      "cell_type": "code",
      "execution_count": null,
      "metadata": {
        "id": "FyOy1c3fHJqO"
      },
      "outputs": [],
      "source": [
        "!pwd"
      ]
    },
    {
      "cell_type": "code",
      "execution_count": null,
      "metadata": {
        "id": "odK1KilAHL05"
      },
      "outputs": [],
      "source": [
        "!ls"
      ]
    },
    {
      "cell_type": "code",
      "execution_count": null,
      "metadata": {
        "id": "4T9TjVDLHNoj"
      },
      "outputs": [],
      "source": [
        "%cd AI-ipynb"
      ]
    },
    {
      "cell_type": "code",
      "execution_count": null,
      "metadata": {
        "id": "XuRMW1CcQiBV"
      },
      "outputs": [],
      "source": [
        "!pwd"
      ]
    },
    {
      "cell_type": "markdown",
      "source": [
        "## Cloning GitHub Repo"
      ],
      "metadata": {
        "id": "Y_PXwzdjb65H"
      }
    },
    {
      "cell_type": "code",
      "source": [
        "!git clone https://github.com/vkjadon/ros2.git\n",
        "\n",
        "%cd ros2"
      ],
      "metadata": {
        "id": "nLRfcoYucAEN"
      },
      "execution_count": null,
      "outputs": []
    },
    {
      "cell_type": "code",
      "source": [
        "# Step 3: Import the .py file\n",
        "from module_first import *"
      ],
      "metadata": {
        "id": "MevARtHbcBaN"
      },
      "execution_count": null,
      "outputs": []
    },
    {
      "cell_type": "markdown",
      "source": [
        "\n",
        "## Writting and Importing .py module\n",
        "\n"
      ],
      "metadata": {
        "id": "f9lidULacCNY"
      }
    },
    {
      "cell_type": "code",
      "source": [
        "%%writefile my_module.py\n",
        "\n",
        "def my_function():\n",
        "    if __name__ == \"__main__\":\n",
        "        return \"Running directly as a script.\"\n",
        "    else:\n",
        "        return \"Imported as a module.\"\n",
        "\n",
        "if __name__ == \"__main__\":\n",
        "    print(\"my_module.py is being run directly.\")\n",
        "else:\n",
        "    print(\"my_module.py has been imported.\")"
      ],
      "metadata": {
        "id": "HbdCSH0FcfX_",
        "colab": {
          "base_uri": "https://localhost:8080/"
        },
        "outputId": "cab8c472-5ba7-44ad-cc3c-1ac898b873f7"
      },
      "execution_count": 4,
      "outputs": [
        {
          "output_type": "stream",
          "name": "stdout",
          "text": [
            "Overwriting my_module.py\n"
          ]
        }
      ]
    },
    {
      "cell_type": "code",
      "source": [
        "from my_module import my_function\n",
        "\n",
        "# Step 3: Use the module\n",
        "print(my_function())  # Output: Imported as a module."
      ],
      "metadata": {
        "id": "RjHndcU5cmQv",
        "colab": {
          "base_uri": "https://localhost:8080/"
        },
        "outputId": "c0a03c1b-a42a-44e2-cab5-75f37a2b60b0"
      },
      "execution_count": 5,
      "outputs": [
        {
          "output_type": "stream",
          "name": "stdout",
          "text": [
            "my_module.py has been imported.\n",
            "Imported as a module.\n"
          ]
        }
      ]
    },
    {
      "cell_type": "code",
      "source": [
        "!python my_module.py"
      ],
      "metadata": {
        "id": "kaMJsw1IcqX6",
        "colab": {
          "base_uri": "https://localhost:8080/"
        },
        "outputId": "4aad486b-2c68-4714-8790-b600a4a77e84"
      },
      "execution_count": 6,
      "outputs": [
        {
          "output_type": "stream",
          "name": "stdout",
          "text": [
            "my_module.py is being run directly.\n"
          ]
        }
      ]
    },
    {
      "cell_type": "code",
      "source": [
        "%%writefile module_first.py\n",
        "\n",
        "def main():\n",
        "    print(\"This is the main() function of First Module and the name of the First Module is {} \".format(__name__))\n",
        "\n",
        "if __name__=='__main__':\n",
        "    main()\n",
        "else:\n",
        "    print(\"This is outside the main() function of First Module\")"
      ],
      "metadata": {
        "colab": {
          "base_uri": "https://localhost:8080/"
        },
        "id": "g8JRJfBVdwPj",
        "outputId": "24725dc2-8cac-4e1e-c3e5-ede7f7981583"
      },
      "execution_count": 13,
      "outputs": [
        {
          "output_type": "stream",
          "name": "stdout",
          "text": [
            "Overwriting module_first.py\n"
          ]
        }
      ]
    },
    {
      "cell_type": "code",
      "source": [
        "!python module_first.py"
      ],
      "metadata": {
        "id": "KcJRkF_PeXn8",
        "outputId": "cf5de752-f7eb-47f9-e0eb-e6d5aa363edd",
        "colab": {
          "base_uri": "https://localhost:8080/"
        }
      },
      "execution_count": 8,
      "outputs": [
        {
          "output_type": "stream",
          "name": "stdout",
          "text": [
            "This is the main() function of First Module and the name of the First Module is __main__ \n"
          ]
        }
      ]
    },
    {
      "cell_type": "code",
      "source": [
        "%%writefile module_second.py\n",
        "\n",
        "import module_first\n",
        "\n",
        "print(\"Imported 'module_first' So, above is the out from import command\")\n",
        "\n",
        "#Running main of imported 'module_first'\n",
        "print(\"Below is the output of invoking main() method of First Module\")\n",
        "module_first.main()\n",
        "\n",
        "def main():\n",
        "    print(\"The name of the Second Module is {} \".format(__name__))\n",
        "\n",
        "if __name__=='__main__':\n",
        "    main()"
      ],
      "metadata": {
        "id": "Fs9kbbaNedgu",
        "outputId": "f26b80d4-3164-4fb4-8634-dd707f32c14f",
        "colab": {
          "base_uri": "https://localhost:8080/"
        }
      },
      "execution_count": 15,
      "outputs": [
        {
          "output_type": "stream",
          "name": "stdout",
          "text": [
            "Overwriting module_second.py\n"
          ]
        }
      ]
    },
    {
      "cell_type": "code",
      "source": [
        "!python module_second.py"
      ],
      "metadata": {
        "id": "pAqRMlRNerw2",
        "outputId": "eddc0ff9-dfdb-46b3-886c-e114d6f2827b",
        "colab": {
          "base_uri": "https://localhost:8080/"
        }
      },
      "execution_count": 16,
      "outputs": [
        {
          "output_type": "stream",
          "name": "stdout",
          "text": [
            "This is outside the main() function of First Module\n",
            "Imported 'module_first' So, above is the out from import command\n",
            "Below is the output of invoking main() method of First Module\n",
            "This is the main() function of First Module and the name of the First Module is module_first \n",
            "The name of the Second Module is __main__ \n"
          ]
        }
      ]
    }
  ],
  "metadata": {
    "colab": {
      "name": "00kaggleDatasetColab.ipynb",
      "provenance": [],
      "toc_visible": true,
      "include_colab_link": true
    },
    "kernelspec": {
      "display_name": "Python 3",
      "name": "python3"
    },
    "language_info": {
      "name": "python"
    }
  },
  "nbformat": 4,
  "nbformat_minor": 0
}